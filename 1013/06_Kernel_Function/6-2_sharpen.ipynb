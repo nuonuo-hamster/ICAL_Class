{
 "cells": [
  {
   "cell_type": "markdown",
   "id": "fb647a03",
   "metadata": {},
   "source": [
    "# 核函數"
   ]
  },
  {
   "cell_type": "code",
   "execution_count": null,
   "id": "a831b3aa",
   "metadata": {},
   "outputs": [],
   "source": [
    "#載入模組\n",
    "import numpy as np\n",
    "import cv2 as cv"
   ]
  },
  {
   "cell_type": "markdown",
   "id": "8d148df9",
   "metadata": {},
   "source": [
    "* ## 銳利化"
   ]
  },
  {
   "cell_type": "code",
   "execution_count": null,
   "id": "38543aae",
   "metadata": {},
   "outputs": [],
   "source": [
    "#銳化函式\n",
    "def sharpen_demo(image):\n",
    "    #定義kernel值\n",
    "    kernel = np.array([[0, -1, 0], [-1, 5, -1], [0, -1, 0]], np.float32) #銳化\n",
    "    #套用kernel\n",
    "    dst = cv.filter2D(image, -1, kernel=kernel)\n",
    "    return dst"
   ]
  },
  {
   "cell_type": "markdown",
   "id": "1807da24",
   "metadata": {},
   "source": [
    "### 原圖"
   ]
  },
  {
   "cell_type": "code",
   "execution_count": null,
   "id": "b376f98b",
   "metadata": {},
   "outputs": [],
   "source": [
    "#載入影像\n",
    "img1 = cv.imread('./img/aoi_detect.jpg')\n",
    "# img1 = cv.imread('./img/polystyrene.jpg')\n",
    "# img1 = cv.imread('./img/board.jpg')\n",
    "\n",
    "#原圖銳利化\n",
    "sharpen_img1 = sharpen_demo(img1)\n",
    "result1 = cv.hconcat([img1, sharpen_img1])\n",
    " \n",
    "#顯示結果\n",
    "cv.imshow('Image1', result1)\n",
    "# cv.imshow('Image2', result2)\n",
    "\n",
    "cv.waitKey(0)\n",
    "cv.destroyAllWindows()"
   ]
  },
  {
   "cell_type": "markdown",
   "id": "ac2b9f10",
   "metadata": {},
   "source": [
    "### 雜訊圖"
   ]
  },
  {
   "cell_type": "code",
   "execution_count": null,
   "id": "77a720b7",
   "metadata": {},
   "outputs": [],
   "source": [
    "#載入影像\n",
    "img2 = cv.imread('./img/noise_aoi_detect.jpg')\n",
    "# img2 = cv.imread('./img/noise_polystyrene.jpg')\n",
    "# img2 = cv.imread('./img/noise_board.jpg')\n",
    "\n",
    "#雜訊圖銳利化\n",
    "sharpen_img2 = sharpen_demo(img2)\n",
    "result2 = cv.hconcat([img2, sharpen_img2])\n",
    " \n",
    "#顯示結果\n",
    "cv.imshow('Image2', result2)\n",
    "\n",
    "cv.waitKey(0)\n",
    "cv.destroyAllWindows()"
   ]
  },
  {
   "cell_type": "code",
   "execution_count": null,
   "id": "3c80af2d",
   "metadata": {},
   "outputs": [],
   "source": []
  }
 ],
 "metadata": {
  "kernelspec": {
   "display_name": "Python 3.10.7 64-bit (microsoft store)",
   "language": "python",
   "name": "python3"
  },
  "language_info": {
   "codemirror_mode": {
    "name": "ipython",
    "version": 3
   },
   "file_extension": ".py",
   "mimetype": "text/x-python",
   "name": "python",
   "nbconvert_exporter": "python",
   "pygments_lexer": "ipython3",
   "version": "3.10.7"
  },
  "vscode": {
   "interpreter": {
    "hash": "0661ced1479b554591b1d068660aa297d498679286224412137f5b40f78aabd9"
   }
  }
 },
 "nbformat": 4,
 "nbformat_minor": 5
}

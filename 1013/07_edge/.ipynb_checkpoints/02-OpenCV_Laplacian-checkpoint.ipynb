{
 "cells": [
  {
   "cell_type": "markdown",
   "metadata": {},
   "source": [
    "# OpenCV_邊緣偵測-Laplacian"
   ]
  },
  {
   "cell_type": "code",
   "execution_count": 1,
   "metadata": {},
   "outputs": [],
   "source": [
    "import numpy as np\n",
    "import cv2 as cv"
   ]
  },
  {
   "cell_type": "code",
   "execution_count": 4,
   "metadata": {},
   "outputs": [],
   "source": [
    "#載入範例影像，並將其轉換為灰階影像\n",
    "img = cv.imread('./img/aoi_detect.jpg')\n",
    "# img = cv.imread('./img/polystyrene.jpg')\n",
    "# img = cv.imread('./img/board.jpg')\n",
    "\n",
    "#圖片轉灰階\n",
    "gray_img = cv.cvtColor(img, cv.COLOR_BGR2GRAY)"
   ]
  },
  {
   "cell_type": "code",
   "execution_count": 5,
   "metadata": {},
   "outputs": [],
   "source": [
    "# Laplace 響應大小(kernel size)為 3*3\n",
    "# ddepth: -1 表示影像深度與原圖相同\n",
    "laplace_img = cv.Laplacian(src=gray_img, ddepth=-1, ksize=3)\n",
    "\n",
    "result_img = cv.hconcat([gray_img, laplace_img])\n",
    "\n",
    "cv.imshow('result',result_img)\n",
    "\n",
    "cv.waitKey()\n",
    "cv.destroyAllWindows()"
   ]
  },
  {
   "cell_type": "markdown",
   "metadata": {},
   "source": [
    "#### 參考資料\n",
    "[OpenCV官方網站](https://docs.opencv.org/master/d5/d0f/tutorial_py_gradients.html)"
   ]
  }
 ],
 "metadata": {
  "kernelspec": {
   "display_name": "Python 3 (ipykernel)",
   "language": "python",
   "name": "python3"
  },
  "language_info": {
   "codemirror_mode": {
    "name": "ipython",
    "version": 3
   },
   "file_extension": ".py",
   "mimetype": "text/x-python",
   "name": "python",
   "nbconvert_exporter": "python",
   "pygments_lexer": "ipython3",
   "version": "3.9.13"
  },
  "vscode": {
   "interpreter": {
    "hash": "0661ced1479b554591b1d068660aa297d498679286224412137f5b40f78aabd9"
   }
  }
 },
 "nbformat": 4,
 "nbformat_minor": 2
}

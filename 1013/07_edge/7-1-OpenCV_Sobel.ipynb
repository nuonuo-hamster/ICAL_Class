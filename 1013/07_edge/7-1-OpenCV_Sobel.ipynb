{
 "cells": [
  {
   "cell_type": "markdown",
   "metadata": {},
   "source": [
    "# OpenCV_邊緣偵測-Sobel"
   ]
  },
  {
   "cell_type": "markdown",
   "metadata": {},
   "source": [
    "本節介紹的是在邊緣偵測中常用到的幾個方法，在影像中若是可以將物體的邊緣都清楚的描述出來，將可以幫助我們在後續標註及偵測目標物上，將會有大大的提昇辨識率。\n",
    "OpenCV有內建幾個邊緣偵測的方法(Sobel、Laplacian、Canny)，也都有相對應的函式可以使用。"
   ]
  },
  {
   "cell_type": "code",
   "execution_count": 7,
   "metadata": {},
   "outputs": [],
   "source": [
    "import numpy as np\n",
    "import cv2 as cv"
   ]
  },
  {
   "cell_type": "code",
   "execution_count": 11,
   "metadata": {},
   "outputs": [],
   "source": [
    "#載入範例影像，並將其轉換為灰階影像\n",
    "img = cv.imread('./img/aoi_detect.jpg')\n",
    "# img = cv.imread('./img/polystyrene.jpg')\n",
    "# img = cv.imread('./img/board.jpg')\n",
    "\n",
    "#圖片轉灰階\n",
    "gray_img = cv.cvtColor(img, cv.COLOR_BGR2GRAY)"
   ]
  },
  {
   "cell_type": "code",
   "execution_count": 12,
   "metadata": {},
   "outputs": [],
   "source": [
    "# Sobel 分別針對 x 與 y 方向響應\n",
    "# Sobel 計算 x 與 y 方向響應介於-1020~1020(若使用 8-bits unsigned integer 無法表示)\n",
    "# 因此此處使用 16-bits signed integer\n",
    "# Sobel 將響應計算結果(-1020~1020)取絕對值後轉成 uint-8\n",
    "\n",
    "dx_img = cv.Sobel(src=gray_img, ddepth=cv.CV_16S, dx=1, dy=0, ksize=3)\n",
    "dy_img = cv.Sobel(src=gray_img, ddepth=cv.CV_16S, dx=0, dy=1, ksize=3)\n",
    "\n",
    "Xaxis_img = cv.convertScaleAbs(src=dx_img)\n",
    "Yaxis_img = cv.convertScaleAbs(src=dy_img)\n",
    "\n",
    "result_img = cv.hconcat([gray_img, Xaxis_img, Yaxis_img])\n",
    "\n",
    "cv.imshow('result',result_img)\n",
    "\n",
    "cv.waitKey()\n",
    "cv.destroyAllWindows()"
   ]
  },
  {
   "cell_type": "code",
   "execution_count": 13,
   "metadata": {},
   "outputs": [],
   "source": [
    "# Sobel 將 x 與 y 方向響應合併\n",
    "sobel_img = cv.addWeighted(src1=Xaxis_img, alpha=0.5, src2=Yaxis_img,beta=0.5, gamma=0)\n",
    "\n",
    "result_img = cv.hconcat([gray_img, sobel_img])\n",
    "\n",
    "cv.imshow('result',result_img)\n",
    "cv.waitKey()\n",
    "cv.destroyAllWindows()"
   ]
  },
  {
   "cell_type": "markdown",
   "metadata": {},
   "source": [
    "#### 參考資料\n",
    "[OpenCV官方網站](https://docs.opencv.org/master/d5/d0f/tutorial_py_gradients.html)"
   ]
  }
 ],
 "metadata": {
  "kernelspec": {
   "display_name": "Python 3 (ipykernel)",
   "language": "python",
   "name": "python3"
  },
  "language_info": {
   "codemirror_mode": {
    "name": "ipython",
    "version": 3
   },
   "file_extension": ".py",
   "mimetype": "text/x-python",
   "name": "python",
   "nbconvert_exporter": "python",
   "pygments_lexer": "ipython3",
   "version": "3.9.13"
  },
  "vscode": {
   "interpreter": {
    "hash": "0661ced1479b554591b1d068660aa297d498679286224412137f5b40f78aabd9"
   }
  }
 },
 "nbformat": 4,
 "nbformat_minor": 2
}

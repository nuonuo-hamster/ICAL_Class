{
 "cells": [
  {
   "cell_type": "markdown",
   "id": "53b55a59",
   "metadata": {},
   "source": [
    "# 影像雜訊與過濾"
   ]
  },
  {
   "cell_type": "code",
   "execution_count": 4,
   "id": "fba80d5e",
   "metadata": {},
   "outputs": [],
   "source": [
    "#載入模組\n",
    "import numpy as np\n",
    "import cv2 as cv\n",
    "from matplotlib import pyplot as plt"
   ]
  },
  {
   "cell_type": "markdown",
   "id": "787a0d54",
   "metadata": {},
   "source": [
    "* ## 中值濾波(原圖)"
   ]
  },
  {
   "cell_type": "code",
   "execution_count": 8,
   "id": "27c70dda",
   "metadata": {},
   "outputs": [],
   "source": [
    "#影像讀取(原圖)\n",
    "img1 = cv.imread('./img/aoi_detect.jpg')\n",
    "# img1 = cv.imread('./img/polystyrene.jpg')\n",
    "# img1 = cv.imread('./img/board.jpg')\n",
    "\n",
    "\n",
    "#原圖中值濾波\n",
    "#參數:(輸入圖像, 核心大小)\n",
    "medium_img1 = cv.medianBlur(img1 ,5)\n",
    "result1 = cv.hconcat([img1, medium_img1])\n",
    "\n",
    "#顯示結果\n",
    "cv.imshow('Image1', result1)\n",
    "# cv.imshow('Image2', result2)\n",
    "\n",
    "cv.waitKey(0)\n",
    "cv.destroyAllWindows() "
   ]
  },
  {
   "cell_type": "markdown",
   "id": "1607e02a",
   "metadata": {},
   "source": [
    "* ## 中值濾波(雜訊圖)"
   ]
  },
  {
   "cell_type": "code",
   "execution_count": 6,
   "id": "295bdf0e",
   "metadata": {},
   "outputs": [],
   "source": [
    "#影像讀取(有雜訊)\n",
    "img2 = cv.imread('./img/noise_aoi_detect.jpg')\n",
    "# img2 = cv.imread('./img/noise_polystyrene.jpg')\n",
    "# img2 = cv.imread('./img/noise_board.jpg')\n",
    "\n",
    "#雜訊圖中值濾波\n",
    "medium_img2 = cv.medianBlur(img2 ,5)\n",
    "result2 = cv.hconcat([img2, medium_img2])\n",
    "\n",
    "#顯示結果\n",
    "cv.imshow('Image2', result2)\n",
    "\n",
    "cv.waitKey(0)\n",
    "cv.destroyAllWindows()"
   ]
  }
 ],
 "metadata": {
  "kernelspec": {
   "display_name": "Python 3 (ipykernel)",
   "language": "python",
   "name": "python3"
  },
  "language_info": {
   "codemirror_mode": {
    "name": "ipython",
    "version": 3
   },
   "file_extension": ".py",
   "mimetype": "text/x-python",
   "name": "python",
   "nbconvert_exporter": "python",
   "pygments_lexer": "ipython3",
   "version": "3.7.9"
  },
  "vscode": {
   "interpreter": {
    "hash": "0661ced1479b554591b1d068660aa297d498679286224412137f5b40f78aabd9"
   }
  }
 },
 "nbformat": 4,
 "nbformat_minor": 5
}

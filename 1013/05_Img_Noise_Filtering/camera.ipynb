{
 "cells": [
  {
   "cell_type": "code",
   "execution_count": 1,
   "id": "1515a49b",
   "metadata": {},
   "outputs": [],
   "source": [
    "#載入模組\n",
    "import cv2 as cv\n",
    "import numpy as np\n",
    "\n",
    "## 開啟攝影機\n",
    "# 函式輸出入 => 攝影機 = cv.VideoCapture(攝影機編號)\n",
    "cap = cv.VideoCapture(0)\n",
    "\n",
    "# 設定擷取影像的尺寸大小\n",
    "cap.set(cv.CAP_PROP_FRAME_WIDTH, 600)\n",
    "cap.set(cv.CAP_PROP_FRAME_HEIGHT, 450)\n",
    "\n",
    "while(True):\n",
    "    \n",
    "    # 讀取攝影機影像\n",
    "    # 函式輸出入 => 是否正常讀取, 攝影機影像 = cv.VideoCapture.read()\n",
    "    ret, frame = cap.read()\n",
    "\n",
    "    #顯示影像\n",
    "    cv.imshow('frame', frame)\n",
    "    key = cv.waitKey(90)\n",
    "    \n",
    "    # 按C擷取影像並離開迴圈\n",
    "    if key == 99:\n",
    "        cv.imwrite('./img/selfie.jpg', frame)\n",
    "        print(\"Complete!\")\n",
    "        break\n",
    "        \n",
    "    # 若按下ESC鍵則離開迴圈\n",
    "    if key == 27:\n",
    "        break\n",
    "        \n",
    "\n",
    "\n",
    "cap.release()\n",
    "cv.destroyAllWindows()"
   ]
  },
  {
   "cell_type": "code",
   "execution_count": null,
   "id": "4194a03d",
   "metadata": {},
   "outputs": [],
   "source": []
  }
 ],
 "metadata": {
  "kernelspec": {
   "display_name": "Python 3.10.7 64-bit (microsoft store)",
   "language": "python",
   "name": "python3"
  },
  "language_info": {
   "codemirror_mode": {
    "name": "ipython",
    "version": 3
   },
   "file_extension": ".py",
   "mimetype": "text/x-python",
   "name": "python",
   "nbconvert_exporter": "python",
   "pygments_lexer": "ipython3",
   "version": "3.10.7"
  },
  "vscode": {
   "interpreter": {
    "hash": "0661ced1479b554591b1d068660aa297d498679286224412137f5b40f78aabd9"
   }
  }
 },
 "nbformat": 4,
 "nbformat_minor": 5
}

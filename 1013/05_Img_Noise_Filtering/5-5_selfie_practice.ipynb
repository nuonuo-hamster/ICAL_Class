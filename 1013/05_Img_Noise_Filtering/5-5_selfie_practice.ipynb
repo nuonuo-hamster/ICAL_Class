{
 "cells": [
  {
   "cell_type": "markdown",
   "id": "89bed2ee",
   "metadata": {},
   "source": [
    "# 自拍影像demo"
   ]
  },
  {
   "cell_type": "code",
   "execution_count": 1,
   "id": "c6130ed0",
   "metadata": {},
   "outputs": [],
   "source": [
    "#載入模組\n",
    "import numpy as np\n",
    "import cv2 as cv"
   ]
  },
  {
   "cell_type": "markdown",
   "id": "4c13a05f",
   "metadata": {},
   "source": [
    "將前面所學濾波方法寫成函式"
   ]
  },
  {
   "cell_type": "code",
   "execution_count": 2,
   "id": "1ba1f1c7",
   "metadata": {},
   "outputs": [],
   "source": [
    "#中值函式\n",
    "def medium_func(image):\n",
    "    #圖像二值化(雜訊圖)\n",
    "    medium_img = cv.medianBlur(image ,5)\n",
    "    \n",
    "    return medium_img\n",
    "\n",
    "#高斯函式\n",
    "def gaussian_func(image):\n",
    "    #圖像二值化(雜訊圖)\n",
    "    gauss_img = cv.GaussianBlur(image,(11, 11), 0)\n",
    "    \n",
    "    return gauss_img\n",
    "\n",
    "#雙邊函式\n",
    "def bilateral_func(image):\n",
    "    #圖像二值化(雜訊圖)\n",
    "    bila_img = cv.bilateralFilter(image,9,200,200)\n",
    "    \n",
    "    return bila_img\n",
    "\n",
    "#均值函式\n",
    "def average_func(image):\n",
    "    #圖像二值化(雜訊圖)\n",
    "    avg_img = cv.blur(image,(5,5))\n",
    "    \n",
    "    return avg_img"
   ]
  },
  {
   "cell_type": "markdown",
   "id": "4fac61be",
   "metadata": {},
   "source": [
    "### 將前面自拍的影像放到這個資料夾中"
   ]
  },
  {
   "cell_type": "code",
   "execution_count": 3,
   "id": "6ae33b36",
   "metadata": {},
   "outputs": [],
   "source": [
    "#影像讀取(自拍影像)\n",
    "img = cv.imread('./img/selfie.jpg')"
   ]
  },
  {
   "cell_type": "code",
   "execution_count": 4,
   "id": "4b90811d",
   "metadata": {},
   "outputs": [
    {
     "ename": "error",
     "evalue": "OpenCV(4.6.0) D:\\a\\opencv-python\\opencv-python\\opencv\\modules\\imgproc\\src\\median_blur.dispatch.cpp:283: error: (-215:Assertion failed) !_src0.empty() in function 'cv::medianBlur'\n",
     "output_type": "error",
     "traceback": [
      "\u001b[1;31m---------------------------------------------------------------------------\u001b[0m",
      "\u001b[1;31merror\u001b[0m                                     Traceback (most recent call last)",
      "Cell \u001b[1;32mIn [4], line 2\u001b[0m\n\u001b[0;32m      1\u001b[0m \u001b[38;5;66;03m# 濾波方法使用\u001b[39;00m\n\u001b[1;32m----> 2\u001b[0m img_filter \u001b[38;5;241m=\u001b[39m \u001b[43mmedium_func\u001b[49m\u001b[43m(\u001b[49m\u001b[43mimg\u001b[49m\u001b[43m)\u001b[49m\n\u001b[0;32m      3\u001b[0m \u001b[38;5;66;03m# img_filter = gaussian_func(img)\u001b[39;00m\n\u001b[0;32m      4\u001b[0m \u001b[38;5;66;03m# img_filter = bilateral_func(img)\u001b[39;00m\n\u001b[0;32m      5\u001b[0m \u001b[38;5;66;03m# img_filter = average_func(img)\u001b[39;00m\n\u001b[0;32m      7\u001b[0m result \u001b[38;5;241m=\u001b[39m cv\u001b[38;5;241m.\u001b[39mhconcat([img, img_filter])\n",
      "Cell \u001b[1;32mIn [2], line 4\u001b[0m, in \u001b[0;36mmedium_func\u001b[1;34m(image)\u001b[0m\n\u001b[0;32m      2\u001b[0m \u001b[38;5;28;01mdef\u001b[39;00m \u001b[38;5;21mmedium_func\u001b[39m(image):\n\u001b[0;32m      3\u001b[0m     \u001b[38;5;66;03m#圖像二值化(雜訊圖)\u001b[39;00m\n\u001b[1;32m----> 4\u001b[0m     medium_img \u001b[38;5;241m=\u001b[39m \u001b[43mcv\u001b[49m\u001b[38;5;241;43m.\u001b[39;49m\u001b[43mmedianBlur\u001b[49m\u001b[43m(\u001b[49m\u001b[43mimage\u001b[49m\u001b[43m \u001b[49m\u001b[43m,\u001b[49m\u001b[38;5;241;43m5\u001b[39;49m\u001b[43m)\u001b[49m\n\u001b[0;32m      6\u001b[0m     \u001b[38;5;28;01mreturn\u001b[39;00m medium_img\n",
      "\u001b[1;31merror\u001b[0m: OpenCV(4.6.0) D:\\a\\opencv-python\\opencv-python\\opencv\\modules\\imgproc\\src\\median_blur.dispatch.cpp:283: error: (-215:Assertion failed) !_src0.empty() in function 'cv::medianBlur'\n"
     ]
    }
   ],
   "source": [
    "# 濾波方法使用\n",
    "img_filter = medium_func(img)\n",
    "# img_filter = gaussian_func(img)\n",
    "# img_filter = bilateral_func(img)\n",
    "# img_filter = average_func(img)\n",
    "\n",
    "result = cv.hconcat([img, img_filter])\n",
    "\n",
    "#顯示結果\n",
    "cv.imshow('Image', result)\n",
    "cv.waitKey(0)\n",
    "cv.destroyAllWindows() "
   ]
  }
 ],
 "metadata": {
  "kernelspec": {
   "display_name": "Python 3.10.7 64-bit (microsoft store)",
   "language": "python",
   "name": "python3"
  },
  "language_info": {
   "codemirror_mode": {
    "name": "ipython",
    "version": 3
   },
   "file_extension": ".py",
   "mimetype": "text/x-python",
   "name": "python",
   "nbconvert_exporter": "python",
   "pygments_lexer": "ipython3",
   "version": "3.10.7"
  },
  "vscode": {
   "interpreter": {
    "hash": "0661ced1479b554591b1d068660aa297d498679286224412137f5b40f78aabd9"
   }
  }
 },
 "nbformat": 4,
 "nbformat_minor": 5
}

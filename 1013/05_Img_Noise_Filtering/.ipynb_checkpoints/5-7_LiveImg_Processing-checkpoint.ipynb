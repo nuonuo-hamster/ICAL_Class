{
 "cells": [
  {
   "cell_type": "markdown",
   "id": "05761d96",
   "metadata": {},
   "source": [
    "# Compare different method"
   ]
  },
  {
   "cell_type": "code",
   "execution_count": 7,
   "id": "e05e0c4b",
   "metadata": {},
   "outputs": [],
   "source": [
    "#載入模組\n",
    "import cv2 as cv\n",
    "import numpy as np"
   ]
  },
  {
   "cell_type": "markdown",
   "id": "c7acb886",
   "metadata": {},
   "source": [
    "### 函式宣告"
   ]
  },
  {
   "cell_type": "code",
   "execution_count": 8,
   "id": "c53e23b8",
   "metadata": {},
   "outputs": [],
   "source": [
    "#平滑化函式\n",
    "def smooth_func(image):\n",
    "    #定義kernel大小\n",
    "    kernel_size = 5\n",
    "    #定義kernel值\n",
    "    kernel = np.ones((kernel_size, kernel_size), dtype=np.float32) / kernel_size**2 \n",
    "    #套用kernel\n",
    "    dst = cv.filter2D(image, -1, kernel)\n",
    "    return dst\n",
    "\n",
    "#銳化函式\n",
    "def sharpen_func(image):\n",
    "    #定義kernel值\n",
    "    kernel = np.array([[0, -1, 0], [-1, 5, -1], [0, -1, 0]], np.float32) #銳化\n",
    "    #套用kernel\n",
    "    dst = cv.filter2D(image, -1, kernel=kernel)\n",
    "    return dst\n",
    "\n",
    "#中值函式\n",
    "def medium_func(image):\n",
    "    #圖像二值化(雜訊圖)\n",
    "    medium_img = cv.medianBlur(image ,5)\n",
    "    \n",
    "    return medium_img\n",
    "\n",
    "#高斯函式\n",
    "def gaussian_func(image):\n",
    "    #圖像二值化(雜訊圖)\n",
    "    gauss_img = cv.GaussianBlur(image,(11, 11), 0)\n",
    "    \n",
    "    return gauss_img\n",
    "\n",
    "#雙邊函式\n",
    "def bilateral_func(image):\n",
    "    #圖像二值化(雜訊圖)\n",
    "    bila_img = cv.bilateralFilter(image,9,200,200)\n",
    "    \n",
    "    return bila_img\n",
    "\n",
    "#均值函式\n",
    "def average_func(image):\n",
    "    #圖像二值化(雜訊圖)\n",
    "    avg_img = cv.blur(image,(5,5))\n",
    "    \n",
    "    return avg_img"
   ]
  },
  {
   "cell_type": "code",
   "execution_count": 9,
   "id": "6943ec7d",
   "metadata": {},
   "outputs": [],
   "source": [
    "# 開啟攝影機\n",
    "# 函式輸出入 => 攝影機 = cv.VideoCapture(攝影機編號)\n",
    "cap = cv.VideoCapture(0)\n",
    "\n",
    "# 設定擷取影像的尺寸大小\n",
    "cap.set(cv.CAP_PROP_FRAME_WIDTH, 200)\n",
    "cap.set(cv.CAP_PROP_FRAME_HEIGHT, 150)\n",
    "\n",
    "while(cap.isOpened()):\n",
    "    \n",
    "    # 讀取攝影機影像\n",
    "    # 函式輸出入 => 是否正常讀取, 攝影機影像 = cv.VideoCapture.read()    \n",
    "    ret, frame = cap.read()\n",
    "    \n",
    "    # 若正常讀取攝影機影像則將影像寫入影片\n",
    "    if ret == True:\n",
    "        \n",
    "        #函式運算\n",
    "        smooth_img = smooth_func(frame)\n",
    "        sharpen_img = sharpen_func(frame)\n",
    "        medium_img = medium_func(frame)\n",
    "        gaussian_img = gaussian_func(frame)\n",
    "        bilateral_img = bilateral_func(frame)\n",
    "        average_img = average_func(frame)\n",
    "        \n",
    "        #影像拼接\n",
    "        h1 = cv.hconcat([frame, smooth_img, sharpen_img])\n",
    "        h2 = cv.hconcat([medium_img, gaussian_img, bilateral_img])\n",
    "        result = cv.vconcat([h1, h2])\n",
    "        \n",
    "        cv.imshow('compare',result)\n",
    "        \n",
    "        if cv.waitKey(1) & 0xFF == 27:\n",
    "              break\n",
    "    else:\n",
    "        break\n",
    "\n",
    "# 釋放所有資源\n",
    "cap.release()\n",
    "cv.destroyAllWindows()"
   ]
  },
  {
   "cell_type": "code",
   "execution_count": null,
   "id": "e5fbe40c",
   "metadata": {},
   "outputs": [],
   "source": []
  }
 ],
 "metadata": {
  "kernelspec": {
   "display_name": "Python 3",
   "language": "python",
   "name": "python3"
  },
  "language_info": {
   "codemirror_mode": {
    "name": "ipython",
    "version": 3
   },
   "file_extension": ".py",
   "mimetype": "text/x-python",
   "name": "python",
   "nbconvert_exporter": "python",
   "pygments_lexer": "ipython3",
   "version": "3.8.8"
  }
 },
 "nbformat": 4,
 "nbformat_minor": 5
}

{
 "cells": [
  {
   "cell_type": "markdown",
   "id": "1bade763",
   "metadata": {},
   "source": [
    "# 核函數"
   ]
  },
  {
   "cell_type": "code",
   "execution_count": 1,
   "id": "7e029c20",
   "metadata": {},
   "outputs": [],
   "source": [
    "#載入模組\n",
    "import numpy as np\n",
    "import cv2 as cv"
   ]
  },
  {
   "cell_type": "markdown",
   "id": "472dbfa9",
   "metadata": {},
   "source": [
    "* ## 平滑化"
   ]
  },
  {
   "cell_type": "code",
   "execution_count": 2,
   "id": "9b1166e9",
   "metadata": {},
   "outputs": [],
   "source": [
    "#平滑化函式\n",
    "def smooth_demo(image):\n",
    "    #定義kernel大小\n",
    "    kernel_size = 5\n",
    "    #定義kernel值\n",
    "    kernel = np.ones((kernel_size, kernel_size), dtype=np.float32) / kernel_size**2 \n",
    "    #套用kernel\n",
    "    dst = cv.filter2D(image, -1, kernel)\n",
    "    return dst"
   ]
  },
  {
   "cell_type": "markdown",
   "id": "8e7518cb",
   "metadata": {},
   "source": [
    "### 原圖"
   ]
  },
  {
   "cell_type": "code",
   "execution_count": 3,
   "id": "e29bdc3a",
   "metadata": {},
   "outputs": [],
   "source": [
    "#載入影像\n",
    "img1 = cv.imread('./img/aoi_detect.jpg')\n",
    "# img1 = cv.imread('./img/polystyrene.jpg')\n",
    "# img1 = cv.imread('./img/board.jpg')\n",
    "\n",
    "\n",
    "\n",
    "#原圖平滑化\n",
    "smooth_img1 = smooth_demo(img1)\n",
    "result1 = cv.hconcat([img1, smooth_img1])\n",
    "\n",
    "\n",
    "\n",
    "\n",
    "#顯示結果\n",
    "cv.imshow('Image1', result1)\n",
    "# cv.imshow('Image2', result2)\n",
    "\n",
    "cv.waitKey(0)\n",
    "cv.destroyAllWindows() "
   ]
  },
  {
   "cell_type": "markdown",
   "id": "90738a19",
   "metadata": {},
   "source": [
    "### 雜訊圖"
   ]
  },
  {
   "cell_type": "code",
   "execution_count": 4,
   "id": "5f64e6bf",
   "metadata": {},
   "outputs": [],
   "source": [
    "#載入影像\n",
    "img2 = cv.imread('./img/noise_aoi_detect.jpg')\n",
    "# img2 = cv.imread('./img/noise_polystyrene.jpg')\n",
    "# img2 = cv.imread('./img/noise_board.jpg')\n",
    "\n",
    "#雜訊圖平滑化\n",
    "smooth_img2 = smooth_demo(img2)\n",
    "result2 = cv.hconcat([img2, smooth_img2])\n",
    "\n",
    "#顯示結果\n",
    "cv.imshow('Image2', result2)\n",
    "\n",
    "cv.waitKey(0)\n",
    "cv.destroyAllWindows() "
   ]
  },
  {
   "cell_type": "code",
   "execution_count": null,
   "id": "369fafb1",
   "metadata": {},
   "outputs": [],
   "source": []
  }
 ],
 "metadata": {
  "kernelspec": {
   "display_name": "Python 3",
   "language": "python",
   "name": "python3"
  },
  "language_info": {
   "codemirror_mode": {
    "name": "ipython",
    "version": 3
   },
   "file_extension": ".py",
   "mimetype": "text/x-python",
   "name": "python",
   "nbconvert_exporter": "python",
   "pygments_lexer": "ipython3",
   "version": "3.8.8"
  }
 },
 "nbformat": 4,
 "nbformat_minor": 5
}

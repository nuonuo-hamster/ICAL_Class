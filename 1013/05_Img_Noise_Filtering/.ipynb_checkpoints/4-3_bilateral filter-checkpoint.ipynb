{
 "cells": [
  {
   "cell_type": "markdown",
   "id": "17995f5f",
   "metadata": {},
   "source": [
    "# 影像雜訊與過濾"
   ]
  },
  {
   "cell_type": "code",
   "execution_count": null,
   "id": "ff89f924",
   "metadata": {},
   "outputs": [],
   "source": [
    "#載入模組\n",
    "import numpy as np\n",
    "import cv2 as cv"
   ]
  },
  {
   "cell_type": "markdown",
   "id": "2824a59c",
   "metadata": {},
   "source": [
    "* ## 雙邊濾波(原圖)"
   ]
  },
  {
   "cell_type": "code",
   "execution_count": null,
   "id": "d79959be",
   "metadata": {},
   "outputs": [],
   "source": [
    "#影像讀取(原圖)\n",
    "img1 = cv.imread('./img/aoi_detect.jpg')\n",
    "# img1 = cv.imread('./img/polystyrene.jpg')\n",
    "# img1 = cv.imread('./img/board.jpg')\n",
    "\n",
    "\n",
    "#原圖雙邊濾波\n",
    "#參數:(輸入圖像, 核心大小, ,色彩空間的標準方差, 座標空間的標準方差)\n",
    "bila_img1 = cv.bilateralFilter(img1,9,200,200)\n",
    "result1 = cv.hconcat([img1, bila_img1])\n",
    "\n",
    "#顯示結果\n",
    "cv.imshow('Image1', result1)\n",
    "\n",
    "cv.waitKey(0)\n",
    "cv.destroyAllWindows() "
   ]
  },
  {
   "cell_type": "markdown",
   "id": "6326c95c",
   "metadata": {},
   "source": [
    "* ## 雙邊濾波(雜訊圖)"
   ]
  },
  {
   "cell_type": "code",
   "execution_count": null,
   "id": "ffe3dcc4",
   "metadata": {},
   "outputs": [],
   "source": [
    "#影像讀取(有雜訊)\n",
    "img2 = cv.imread('./img/noise_aoi_detect.jpg')\n",
    "# img2 = cv.imread('./img/noise_polystyrene.jpg')\n",
    "# img2 = cv.imread('./img/noise_board.jpg')\n",
    "\n",
    "#雜訊圖雙邊濾波\n",
    "bila_img2 = cv.bilateralFilter(img2,9,200,200)\n",
    "result2 = cv.hconcat([img2, bila_img2])\n",
    "\n",
    "#顯示結果\n",
    "cv.imshow('Image2', result2)\n",
    "\n",
    "cv.waitKey(0)\n",
    "cv.destroyAllWindows() "
   ]
  },
  {
   "cell_type": "code",
   "execution_count": null,
   "id": "e98c1fab",
   "metadata": {},
   "outputs": [],
   "source": []
  }
 ],
 "metadata": {
  "kernelspec": {
   "display_name": "Python 3 (ipykernel)",
   "language": "python",
   "name": "python3"
  },
  "language_info": {
   "codemirror_mode": {
    "name": "ipython",
    "version": 3
   },
   "file_extension": ".py",
   "mimetype": "text/x-python",
   "name": "python",
   "nbconvert_exporter": "python",
   "pygments_lexer": "ipython3",
   "version": "3.9.13"
  },
  "vscode": {
   "interpreter": {
    "hash": "0661ced1479b554591b1d068660aa297d498679286224412137f5b40f78aabd9"
   }
  }
 },
 "nbformat": 4,
 "nbformat_minor": 5
}

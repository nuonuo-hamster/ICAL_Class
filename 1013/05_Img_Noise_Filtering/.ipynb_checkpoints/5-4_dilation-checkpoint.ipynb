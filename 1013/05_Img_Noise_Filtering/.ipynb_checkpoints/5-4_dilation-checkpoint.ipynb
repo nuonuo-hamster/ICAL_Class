{
 "cells": [
  {
   "cell_type": "markdown",
   "id": "0d0d03d0",
   "metadata": {},
   "source": [
    "# 核函數"
   ]
  },
  {
   "cell_type": "code",
   "execution_count": 1,
   "id": "ea153e13",
   "metadata": {},
   "outputs": [],
   "source": [
    "#載入模組\n",
    "import numpy as np\n",
    "import cv2 as cv"
   ]
  },
  {
   "cell_type": "markdown",
   "id": "9c1a4e80",
   "metadata": {},
   "source": [
    "* ## kernel"
   ]
  },
  {
   "cell_type": "code",
   "execution_count": 2,
   "id": "ad551249",
   "metadata": {},
   "outputs": [],
   "source": [
    "#要是用任何影像過濾都需要先設定我們要的kernel參數，這邊選用的是5*5的kernel，也可以調整為3*3或是7*7做比較\n",
    "kernel = np.ones((5,5),np.float32)/25\n",
    "\n",
    "#  下方補充OpenCV內建的不同型態的kernel\n",
    "\n",
    "# 矩形的kernel \n",
    "# kernel = cv.getStructuringElement(cv.MORPH_RECT,(5,5))\n",
    "\n",
    "# 橢圓形的kernel => \n",
    "# kernel = cv.getStructuringElement(cv.MORPH_ELLIPSE,(5,5))\n",
    "\n",
    "# 十字形的kernel => \n",
    "# kernel = cv.getStructuringElement(cv.MORPH_CROSS,(5,5))"
   ]
  },
  {
   "cell_type": "markdown",
   "id": "474ce8c1",
   "metadata": {},
   "source": [
    "* ## 膨脹(原圖)"
   ]
  },
  {
   "cell_type": "code",
   "execution_count": 3,
   "id": "b288e5c9",
   "metadata": {},
   "outputs": [],
   "source": [
    "#影像讀取(原圖)\n",
    "img1 = cv.imread('./img/aoi_detect.jpg')\n",
    "# img1 = cv.imread('./img/polystyrene.jpg')\n",
    "# img1 = cv.imread('./img/board.jpg')\n",
    "\n",
    "#圖像二值化(原圖)\n",
    "gray_img1 = cv.cvtColor(img1, cv.COLOR_BGR2GRAY)\n",
    "ret1, bin_img1 = cv.threshold(gray_img1, 0, 255, cv.THRESH_BINARY + cv.THRESH_OTSU)\n",
    "\n",
    "#使用opencv內建膨脹函式做影像處理\n",
    "dilation1_1 = cv.dilate(bin_img1,kernel,iterations = 1)\n",
    "dilation3_1 = cv.dilate(bin_img1,kernel,iterations = 3)\n",
    "result1 = cv.hconcat([gray_img1, bin_img1, dilation1_1, dilation3_1])\n",
    "\n",
    "#顯示結果\n",
    "cv.imshow('Image1', result1)\n",
    "\n",
    "cv.waitKey(0)\n",
    "cv.destroyAllWindows()"
   ]
  },
  {
   "cell_type": "markdown",
   "id": "2f3bf8e6",
   "metadata": {},
   "source": [
    "* ## 膨脹(雜訊圖)"
   ]
  },
  {
   "cell_type": "code",
   "execution_count": 4,
   "id": "10d4448d",
   "metadata": {},
   "outputs": [],
   "source": [
    "#影像讀取(有雜訊)\n",
    "img2 = cv.imread('./img/noise_aoi_detect.jpg')\n",
    "# img2 = cv.imread('./img/noise_polystyrene.jpg')\n",
    "# img2 = cv.imread('./img/noise_board.jpg')\n",
    "\n",
    "#圖像二值化(雜訊圖)\n",
    "gray_img2 = cv.cvtColor(img2, cv.COLOR_BGR2GRAY)\n",
    "ret2, bin_img2 = cv.threshold(gray_img2, 0, 255, cv.THRESH_BINARY + cv.THRESH_OTSU)\n",
    "\n",
    "#使用opencv內建膨脹函式做影像處理\n",
    "dilation1_2 = cv.dilate(bin_img2,kernel,iterations = 1)\n",
    "dilation3_2 = cv.dilate(bin_img2,kernel,iterations = 3)\n",
    "result2 = cv.hconcat([gray_img2, bin_img2, dilation1_2, dilation3_2])\n",
    "\n",
    "#顯示結果\n",
    "cv.imshow('Image2', result2)\n",
    "\n",
    "cv.waitKey(0)\n",
    "cv.destroyAllWindows()"
   ]
  },
  {
   "cell_type": "code",
   "execution_count": null,
   "id": "e52f9e36",
   "metadata": {},
   "outputs": [],
   "source": []
  }
 ],
 "metadata": {
  "kernelspec": {
   "display_name": "Python 3",
   "language": "python",
   "name": "python3"
  },
  "language_info": {
   "codemirror_mode": {
    "name": "ipython",
    "version": 3
   },
   "file_extension": ".py",
   "mimetype": "text/x-python",
   "name": "python",
   "nbconvert_exporter": "python",
   "pygments_lexer": "ipython3",
   "version": "3.8.8"
  }
 },
 "nbformat": 4,
 "nbformat_minor": 5
}

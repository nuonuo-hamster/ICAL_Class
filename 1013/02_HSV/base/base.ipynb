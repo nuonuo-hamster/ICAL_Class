{
 "cells": [
  {
   "cell_type": "code",
   "execution_count": 5,
   "metadata": {},
   "outputs": [],
   "source": [
    "#載入opencv_python模組\n",
    "import cv2 as cv\n",
    "import numpy as np\n",
    "\n",
    "def hsv_track_bar(hsv_lower, hsv_upper, win_name):\n",
    "    # 定義滑桿callback函式\n",
    "    def on_trackbar_h_lower(value):\n",
    "        hsv_lower[0] = min(value, hsv_upper[0])\n",
    "    def on_trackbar_h_upper(value):\n",
    "        hsv_upper[0] = max(value, hsv_lower[0])\n",
    "    def on_trackbar_s_lower(value):\n",
    "        hsv_lower[1] = min(value, hsv_upper[1])\n",
    "    def on_trackbar_s_upper(value):\n",
    "        hsv_upper[1] = max(value, hsv_lower[1])\n",
    "    def on_trackbar_v_lower(value):\n",
    "        hsv_lower[2] = min(value, hsv_upper[2])\n",
    "    def on_trackbar_v_upper(value):\n",
    "        hsv_upper[2] = max(value, hsv_lower[2])\n",
    "        \n",
    "    cv.namedWindow(win_name, cv.WINDOW_KEEPRATIO)\n",
    "    cv.resizeWindow(win_name, 640, 480)\n",
    "    \n",
    "    # 創建HSV上下界滑桿\n",
    "    cv.createTrackbar(\"H_lower\\n\", win_name, hsv_lower[0], 180, on_trackbar_h_lower)\n",
    "    cv.createTrackbar(\"H_upper\\n\", win_name, hsv_upper[0], 180, on_trackbar_h_upper)\n",
    "    cv.createTrackbar(\"S_lower\\n\", win_name, hsv_lower[1], 255, on_trackbar_s_lower)\n",
    "    cv.createTrackbar(\"S_upper\\n\", win_name, hsv_upper[1], 255, on_trackbar_s_upper)\n",
    "    cv.createTrackbar(\"V_lower\\n\", win_name, hsv_lower[2], 255, on_trackbar_v_lower)\n",
    "    cv.createTrackbar(\"V_upper\\n\", win_name, hsv_upper[2], 255, on_trackbar_v_upper)\n",
    "    \n",
    "def hsv_track_bar_update(hsv_lower, hsv_upper, win_name):\n",
    "    # 設定滑桿在視窗中的位置\n",
    "    cv.setTrackbarPos(\"H_lower\\n\", win_name, hsv_lower[0])\n",
    "    cv.setTrackbarPos(\"H_upper\\n\", win_name, hsv_upper[0])\n",
    "    cv.setTrackbarPos(\"S_lower\\n\", win_name, hsv_lower[1])\n",
    "    cv.setTrackbarPos(\"S_upper\\n\", win_name, hsv_upper[1])\n",
    "    cv.setTrackbarPos(\"V_lower\\n\", win_name, hsv_lower[2])\n",
    "    cv.setTrackbarPos(\"V_upper\\n\", win_name, hsv_upper[2])\n",
    "    \n"
   ]
  }
 ],
 "metadata": {
  "kernelspec": {
   "display_name": "Python 3.10.7 64-bit (microsoft store)",
   "language": "python",
   "name": "python3"
  },
  "language_info": {
   "codemirror_mode": {
    "name": "ipython",
    "version": 3
   },
   "file_extension": ".py",
   "mimetype": "text/x-python",
   "name": "python",
   "nbconvert_exporter": "python",
   "pygments_lexer": "ipython3",
   "version": "3.10.7"
  },
  "vscode": {
   "interpreter": {
    "hash": "0661ced1479b554591b1d068660aa297d498679286224412137f5b40f78aabd9"
   }
  }
 },
 "nbformat": 4,
 "nbformat_minor": 2
}

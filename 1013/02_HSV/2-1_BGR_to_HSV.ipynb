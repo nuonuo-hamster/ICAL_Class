{
 "cells": [
  {
   "cell_type": "markdown",
   "metadata": {},
   "source": [
    "# 影像色域轉換"
   ]
  },
  {
   "cell_type": "markdown",
   "metadata": {},
   "source": [
    "### 1. 載入套件"
   ]
  },
  {
   "cell_type": "code",
   "execution_count": 1,
   "metadata": {},
   "outputs": [],
   "source": [
    "import numpy as np\n",
    "import cv2 as cv\n"
   ]
  },
  {
   "cell_type": "markdown",
   "metadata": {},
   "source": [
    "### 2. 將影像由 BGR 通道轉為 HSV 通道"
   ]
  },
  {
   "cell_type": "code",
   "execution_count": 3,
   "metadata": {},
   "outputs": [
    {
     "name": "stdout",
     "output_type": "stream",
     "text": [
      "Shape of Color Image: (256, 330, 3)\n"
     ]
    }
   ],
   "source": [
    "# 讀取圖檔\n",
    "img = cv.imread(\"./img/polystyrene.jpg\")\n",
    "# img = cv.imread(\"./img/board.jpg\")\n",
    "\n",
    "# BGR轉HSV(OpenCV中預設影像讀取格式為BGR)\n",
    "img_hsv = cv.cvtColor(img, cv.COLOR_BGR2HSV)\n",
    "\n",
    "# 顯示影像資訊（寬、高、通道)\n",
    "print(f\"Shape of Color Image: {img_hsv.shape}\")\n",
    "\n",
    "# 拼接影像（水平拼接）\n",
    "result_img = cv.hconcat([img, img_hsv])\n",
    "\n",
    "# 顯示影像 (imshow 是用 BGR 直接顯示 HSV 影像)\n",
    "cv.imshow(\"result\", result_img)\n",
    "\n",
    "# 按下任意鍵關閉視窗\n",
    "cv.waitKey(0)\n",
    "cv.destroyAllWindows()\n"
   ]
  },
  {
   "cell_type": "code",
   "execution_count": null,
   "metadata": {},
   "outputs": [],
   "source": []
  }
 ],
 "metadata": {
  "kernelspec": {
   "display_name": "MLEnv",
   "language": "python",
   "name": "python3"
  },
  "language_info": {
   "codemirror_mode": {
    "name": "ipython",
    "version": 3
   },
   "file_extension": ".py",
   "mimetype": "text/x-python",
   "name": "python",
   "nbconvert_exporter": "python",
   "pygments_lexer": "ipython3",
   "version": "3.10.9"
  }
 },
 "nbformat": 4,
 "nbformat_minor": 2
}

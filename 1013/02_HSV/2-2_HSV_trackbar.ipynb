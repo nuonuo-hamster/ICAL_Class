{
 "cells": [
  {
   "cell_type": "markdown",
   "metadata": {},
   "source": [
    "# 使用滑桿動態調整顏色過濾區間"
   ]
  },
  {
   "cell_type": "markdown",
   "metadata": {},
   "source": [
    "### 1. 載入套件"
   ]
  },
  {
   "cell_type": "code",
   "execution_count": 2,
   "metadata": {},
   "outputs": [],
   "source": [
    "# 載入套件\n",
    "import numpy as np\n",
    "import cv2 as cv\n"
   ]
  },
  {
   "cell_type": "markdown",
   "metadata": {},
   "source": [
    "### 2. 讀取影像"
   ]
  },
  {
   "cell_type": "code",
   "execution_count": 3,
   "metadata": {},
   "outputs": [],
   "source": [
    "# 讀取影像\n",
    "img = cv.imread('./img/balls.jpg')\n",
    "# img = cv.imread('./img/rgb.png')\n",
    "# img = cv.imread('./img/polystyrene.jpg')\n",
    "# img = cv.imread('./img/board.jpg')\n",
    "# img = cv.imread('./img/workman.jpg')\n",
    "\n",
    "# 轉換色彩空間 (RGB 彩色圖片由 OpenCV 讀取後，通道順序為 BGR)\n",
    "img_hsv = cv.cvtColor(img, cv.COLOR_BGR2HSV)\n"
   ]
  },
  {
   "attachments": {
    "image.png": {
     "image/png": "[encoded data removed]"
    }
   },
   "cell_type": "markdown",
   "metadata": {},
   "source": [
    "### 3. 顏色上下界\n",
    "<font color = red>OpenCV 的 HSV 中\n",
    "- **H 像素值為 0\\~180**\n",
    "- **S 像素值為 0\\~255**\n",
    "- **V 像素值為 0\\~255**\n",
    "</font>\n",
    "\n",
    "![image.png](attachment:image.png)"
   ]
  },
  {
   "cell_type": "code",
   "execution_count": 4,
   "metadata": {},
   "outputs": [],
   "source": [
    "# 設定顏色區間上下界\n",
    "hsv_lower = np.array([100, 43, 46])\n",
    "hsv_upper = np.array([124, 255, 255])\n"
   ]
  },
  {
   "cell_type": "markdown",
   "metadata": {},
   "source": [
    "### 5. 開啟視窗並使用滑桿調整影像 HSV 遮罩"
   ]
  },
  {
   "cell_type": "code",
   "execution_count": 5,
   "metadata": {},
   "outputs": [],
   "source": [
    "# 呼叫 HSV 滑桿函式（該函式不展開介紹，有興趣請自行參閱\n",
    "# %run base/base.ipynb\n",
    "def hsv_track_bar(hsv_lower, hsv_upper, win_name):\n",
    "    # 定義滑桿callback函式\n",
    "    def on_trackbar_h_lower(value):\n",
    "        hsv_lower[0] = min(value, hsv_upper[0])\n",
    "    def on_trackbar_h_upper(value):\n",
    "        hsv_upper[0] = max(value, hsv_lower[0])\n",
    "    def on_trackbar_s_lower(value):\n",
    "        hsv_lower[1] = min(value, hsv_upper[1])\n",
    "    def on_trackbar_s_upper(value):\n",
    "        hsv_upper[1] = max(value, hsv_lower[1])\n",
    "    def on_trackbar_v_lower(value):\n",
    "        hsv_lower[2] = min(value, hsv_upper[2])\n",
    "    def on_trackbar_v_upper(value):\n",
    "        hsv_upper[2] = max(value, hsv_lower[2])\n",
    "        \n",
    "    cv.namedWindow(win_name, cv.WINDOW_KEEPRATIO)\n",
    "    cv.resizeWindow(win_name, 640, 480)\n",
    "    \n",
    "    # 創建HSV上下界滑桿\n",
    "    cv.createTrackbar(\"H_lower\\n\", win_name, hsv_lower[0], 180, on_trackbar_h_lower)\n",
    "    cv.createTrackbar(\"H_upper\\n\", win_name, hsv_upper[0], 180, on_trackbar_h_upper)\n",
    "    cv.createTrackbar(\"S_lower\\n\", win_name, hsv_lower[1], 255, on_trackbar_s_lower)\n",
    "    cv.createTrackbar(\"S_upper\\n\", win_name, hsv_upper[1], 255, on_trackbar_s_upper)\n",
    "    cv.createTrackbar(\"V_lower\\n\", win_name, hsv_lower[2], 255, on_trackbar_v_lower)\n",
    "    cv.createTrackbar(\"V_upper\\n\", win_name, hsv_upper[2], 255, on_trackbar_v_upper)\n",
    "    \n",
    "def hsv_track_bar_update(hsv_lower, hsv_upper, win_name):\n",
    "    # 設定滑桿在視窗中的位置\n",
    "    cv.setTrackbarPos(\"H_lower\\n\", win_name, hsv_lower[0])\n",
    "    cv.setTrackbarPos(\"H_upper\\n\", win_name, hsv_upper[0])\n",
    "    cv.setTrackbarPos(\"S_lower\\n\", win_name, hsv_lower[1])\n",
    "    cv.setTrackbarPos(\"S_upper\\n\", win_name, hsv_upper[1])\n",
    "    cv.setTrackbarPos(\"V_lower\\n\", win_name, hsv_lower[2])\n",
    "    cv.setTrackbarPos(\"V_upper\\n\", win_name, hsv_upper[2])\n",
    "\n",
    "win_name = 'HSV_Trackbar'  # 視窗名稱\n",
    "\n",
    "# 建立滑桿\n",
    "hsv_track_bar(hsv_lower, hsv_upper, win_name)\n",
    "\n",
    "# 使用 while 迴圈不斷獲取滑桿數值並更新二值化影像\n",
    "while True:\n",
    "    # 同步滑桿數值（該函式不展開介紹，有興趣請自行參閱）\n",
    "    hsv_track_bar_update(hsv_lower, hsv_upper, win_name)\n",
    "    \n",
    "    # 二值化為純黑純白影像，若介於自定義顏色區間內令像素值為255，反之則令像素值為0 (cv.inRange(輸入影像, 顏色區間下界, 顏色區間下上界))\n",
    "    img_thres = cv.inRange(img_hsv, hsv_lower, hsv_upper)\n",
    "    \n",
    "    # 以二值化影像為遮罩，將原始影像進行邏輯閘and-gate運算 (cv.bitwise_and(輸入影像1, 輸入影像2, 遮罩影像))\n",
    "    img_masked = cv.bitwise_and(img, img, mask=img_thres)\n",
    "    \n",
    "    # 顯示原始影像與HSV影像\n",
    "    image = cv.hconcat([img, img_masked])\n",
    "    \n",
    "    # 顯示影像\n",
    "    \n",
    "    cv.imshow(win_name, image)\n",
    "\n",
    "    # 按下任意鍵後結束\n",
    "    if cv.waitKey(1) == 27:\n",
    "        break\n",
    "\n",
    "# 關閉所有視窗\n",
    "cv.destroyAllWindows()\n"
   ]
  },
  {
   "cell_type": "code",
   "execution_count": null,
   "metadata": {},
   "outputs": [],
   "source": []
  }
 ],
 "metadata": {
  "kernelspec": {
   "display_name": "Python 3 (ipykernel)",
   "language": "python",
   "name": "python3"
  },
  "language_info": {
   "codemirror_mode": {
    "name": "ipython",
    "version": 3
   },
   "file_extension": ".py",
   "mimetype": "text/x-python",
   "name": "python",
   "nbconvert_exporter": "python",
   "pygments_lexer": "ipython3",
   "version": "3.7.9"
  },
  "vscode": {
   "interpreter": {
    "hash": "0661ced1479b554591b1d068660aa297d498679286224412137f5b40f78aabd9"
   }
  }
 },
 "nbformat": 4,
 "nbformat_minor": 2
}

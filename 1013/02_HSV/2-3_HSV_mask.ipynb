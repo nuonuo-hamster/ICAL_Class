{
 "cells": [
  {
   "cell_type": "markdown",
   "metadata": {},
   "source": [
    "# HSV 遮罩應用"
   ]
  },
  {
   "cell_type": "markdown",
   "metadata": {},
   "source": [
    "**HSV簡介**\n",
    "HSV即色相、飽和度、明度（英語：Hue, Saturation, Value），HSV最常應用於影像中提取特定顏色的目標物，\n",
    "我們可以透過改變HSV中的三個分量（H、S、V）提取我們需要的顏色。\n",
    "\n",
    "**HSV參數說明**\n",
    "- 色相（H）是色彩的基本屬性，就是平常所說的顏色名稱，如紅色、黃色等。\n",
    "- 飽和度（S）是指色彩的純度，越高色彩越純，低則逐漸變灰，取0-100%的數值。\n",
    "- 明度（V），亮度（L），取0-100%。"
   ]
  },
  {
   "cell_type": "markdown",
   "metadata": {},
   "source": [
    "### 1. 載入模組"
   ]
  },
  {
   "cell_type": "code",
   "execution_count": 22,
   "metadata": {},
   "outputs": [],
   "source": [
    "import numpy as np\n",
    "import cv2 as cv\n"
   ]
  },
  {
   "cell_type": "markdown",
   "metadata": {},
   "source": [
    "### 2. 載入影像並轉換成 HSV 格式"
   ]
  },
  {
   "cell_type": "code",
   "execution_count": 23,
   "metadata": {},
   "outputs": [],
   "source": [
    "# 讀取影像\n",
    "img = cv.imread('./img/balls.jpg')\n",
    "img = cv.resize(img, (640, 480), interpolation=cv.INTER_AREA)\n",
    "\n",
    "# 先將原影像由 BGR 色域轉成 HSV 色域並顯示\n",
    "hsv_img = cv.cvtColor(img, cv.COLOR_BGR2HSV)\n"
   ]
  },
  {
   "cell_type": "markdown",
   "metadata": {},
   "source": [
    "### 3. 定義物體顏色於 HSV 色域中的上下界"
   ]
  },
  {
   "cell_type": "markdown",
   "metadata": {},
   "source": [
    "若要保留藍色安全帽的部份，首先需要先取得影像遮罩，以及定義色彩空間（藍色）的上下界。"
   ]
  },
  {
   "cell_type": "code",
   "execution_count": 33,
   "metadata": {},
   "outputs": [],
   "source": [
    "# 定義藍色部份 HSV_mask 的上下限值\n",
    "lower_blue = np.array([110,125,84])\n",
    "upper_blue = np.array([122,255,200])\n",
    "\n",
    "# 透過 inRange() 函式形成白色遮罩，遮罩區域為原始影像藍色區域\n",
    "hsv_bin_mask = cv.inRange(hsv_img, lower_blue, upper_blue)\n",
    "\n",
    "# 顯示影像\n",
    "cv.imshow(\"HSV_mask\",hsv_bin_mask)\n",
    "\n",
    "# 按下任意鍵關閉視窗\n",
    "cv.waitKey(0)\n",
    "cv.destroyAllWindows()\n"
   ]
  },
  {
   "cell_type": "markdown",
   "metadata": {},
   "source": [
    "### 4. 依據顏色形成遮罩"
   ]
  },
  {
   "cell_type": "markdown",
   "metadata": {},
   "source": [
    "過濾之後將取得的遮罩與原圖做合併，即得到下圖過濾後的結果。"
   ]
  },
  {
   "cell_type": "code",
   "execution_count": 25,
   "metadata": {},
   "outputs": [],
   "source": [
    "# 套用 hsv_bin_mask 到原圖上進行過濾\n",
    "hsv_mask = cv.bitwise_and(img, img, None, mask=hsv_bin_mask)\n",
    "\n",
    "# 顯示過濾後的影像\n",
    "cv.imshow(\"HSV_mask_result\", hsv_mask)\n",
    "\n",
    "# 按下任意鍵關閉視窗\n",
    "cv.waitKey(0)\n",
    "cv.destroyAllWindows()\n"
   ]
  },
  {
   "cell_type": "markdown",
   "metadata": {},
   "source": [
    "### 5. 框出遮罩區域"
   ]
  },
  {
   "cell_type": "markdown",
   "metadata": {},
   "source": [
    "我們先前利用HSV顏色過濾這個特性將藍色的部份擷取出來後，接下來可以在原圖檔上框出來"
   ]
  },
  {
   "cell_type": "code",
   "execution_count": 38,
   "metadata": {
    "scrolled": true
   },
   "outputs": [],
   "source": [
    "# 將我們的 HSV Mask 套用OpenCV內建的Contours輪廓函式，在我們目標物體畫出邊框\n",
    "\n",
    "# 找輪廓\n",
    "(cnts, _) = cv.findContours(hsv_bin_mask.copy(), cv.RETR_EXTERNAL, cv.CHAIN_APPROX_SIMPLE)  # 回傳輪廓list\n",
    "\n",
    "copy_img_1=img.copy()\n",
    "copy_img_2 = img.copy()\n",
    "clone= img.copy()\n",
    "\n",
    "cv.drawContours(clone, cnts, -1, (0, 255, 0), 2)\n",
    "\n",
    "for cnt in cnts:\n",
    "    (x, y, w, h) = cv.boundingRect(cnt)  # 矩形 rect\n",
    "    cv.rectangle(copy_img_1, (x, y), (x + w, y + h), (0, 0, 255), 1)  # 畫矩形\n",
    "    \n",
    "    BoundingBox = cv.minAreaRect(cnt)  # 最小外接矩形的中心（x，y），（寬度，高度），旋轉角度）\n",
    "    BoundingBox = np.int0(cv.boxPoints(BoundingBox))  # int0 會省略小數點後方的數字\n",
    "    cv.drawContours(copy_img_2, [BoundingBox], -1, (0, 255, 0), 1)\n",
    "\n",
    "# 顯示影像\n",
    "cv.imshow('Contour', clone)  # 輪廓\n",
    "cv.imshow('Bounding Rectangle', copy_img_1)  # 矩形\n",
    "cv.imshow('Minimum Area Rectangle', copy_img_2)  # 最小外接矩形\n",
    "\n",
    "# 按下任意鍵關閉視窗\n",
    "cv.waitKey(0)\n",
    "cv.destroyAllWindows()\n"
   ]
  },
  {
   "cell_type": "code",
   "execution_count": null,
   "metadata": {},
   "outputs": [],
   "source": []
  }
 ],
 "metadata": {
  "kernelspec": {
   "display_name": "Python 3 (ipykernel)",
   "language": "python",
   "name": "python3"
  },
  "language_info": {
   "codemirror_mode": {
    "name": "ipython",
    "version": 3
   },
   "file_extension": ".py",
   "mimetype": "text/x-python",
   "name": "python",
   "nbconvert_exporter": "python",
   "pygments_lexer": "ipython3",
   "version": "3.7.9"
  },
  "vscode": {
   "interpreter": {
    "hash": "0661ced1479b554591b1d068660aa297d498679286224412137f5b40f78aabd9"
   }
  }
 },
 "nbformat": 4,
 "nbformat_minor": 2
}

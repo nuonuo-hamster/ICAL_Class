{
 "cells": [
  {
   "cell_type": "code",
   "execution_count": 5,
   "metadata": {},
   "outputs": [],
   "source": [
    "import cv2 as cv\n",
    "import numpy as np\n",
    "import matplotlib.pyplot as plt"
   ]
  },
  {
   "cell_type": "code",
   "execution_count": 22,
   "metadata": {},
   "outputs": [],
   "source": [
    "img = cv.imread('../img/live_3.jpeg')\n",
    "img = cv.resize(img,(500,360))\n",
    "\n",
    "cv.imshow('img', img)\n",
    "cv.waitKey(0)\n",
    "cv.destroyAllWindows()"
   ]
  },
  {
   "cell_type": "code",
   "execution_count": 28,
   "metadata": {},
   "outputs": [],
   "source": [
    "b,g,r=cv.split(img)\n",
    "# b_show = cv.cvtColor(b, cv.COLOR_GRAY2BGR)\n",
    "# g_show = cv.cvtColor(g, cv.COLOR_GRAY2BGR)\n",
    "# r_show = cv.cvtColor(r, cv.COLOR_GRAY2BGR)\n",
    "\n",
    "b_show = img.copy()\n",
    "b_show[:,:,1] = 0\n",
    "b_show[:,:,2] = 0\n",
    "\n",
    "g_show = img.copy()\n",
    "g_show[:,:,0] = 0\n",
    "g_show[:,:,2] = 0\n",
    "\n",
    "r_show = img.copy()\n",
    "r_show[:,:,0] = 0\n",
    "r_show[:,:,1] = 0\n"
   ]
  },
  {
   "cell_type": "code",
   "execution_count": 24,
   "metadata": {},
   "outputs": [],
   "source": [
    "equalize_b = cv.equalizeHist(b)\n",
    "equalize_g = cv.equalizeHist(g)\n",
    "equalize_r = cv.equalizeHist(r)\n",
    "\n",
    "eq_b = cv.merge((equalize_b,g,r))\n",
    "eq_g = cv.merge((b,equalize_g,r))\n",
    "eq_r = cv.merge((b,g,equalize_r))"
   ]
  },
  {
   "cell_type": "code",
   "execution_count": 25,
   "metadata": {},
   "outputs": [],
   "source": [
    "clahe = cv.createCLAHE()\n",
    "\n",
    "clahe_b = clahe.apply(b)\n",
    "clahe_g = clahe.apply(g)\n",
    "clahe_r = clahe.apply(r)\n",
    "\n",
    "cl_b = cv.merge((clahe_b,g,r))\n",
    "cl_g = cv.merge((b,clahe_g,r))\n",
    "cl_r = cv.merge((b,g,clahe_r))"
   ]
  },
  {
   "cell_type": "code",
   "execution_count": 29,
   "metadata": {},
   "outputs": [],
   "source": [
    "image_1 = cv.hconcat([b_show, g_show, r_show])\n",
    "image_2 = cv.hconcat([eq_b, eq_g, eq_r])\n",
    "image_3 = cv.hconcat([cl_b, cl_g, cl_r])\n",
    "image   = cv.vconcat([image_1, image_2, image_3])\n",
    "cv.imshow('result', image)\n",
    "cv.waitKey(0)\n",
    "cv.destroyAllWindows()"
   ]
  },
  {
   "cell_type": "code",
   "execution_count": null,
   "metadata": {},
   "outputs": [],
   "source": [
    "# plt.subplot(231), plt.imshow(img, 'gray'), plt.title('ORIGINAL')\n",
    "# plt.subplot(232), plt.imshow(img, 'gray'), plt.title('REPLICATE')\n",
    "# plt.subplot(233), plt.imshow(img, 'gray'), plt.title('REFLECT')\n",
    "# plt.subplot(234), plt.imshow(b, 'gray'), plt.title('REFLECT_101')\n",
    "# plt.subplot(235), plt.imshow(g, 'gray'), plt.title('WRAP')\n",
    "# plt.subplot(236), plt.imshow(r, 'gray'), plt.title('CONSTANT')\n",
    "\n",
    "# plt.show()"
   ]
  },
  {
   "cell_type": "code",
   "execution_count": 30,
   "metadata": {},
   "outputs": [
    {
     "data": {
      "text/plain": [
       "True"
      ]
     },
     "execution_count": 30,
     "metadata": {},
     "output_type": "execute_result"
    }
   ],
   "source": [
    "cv.imwrite('save.jpg',image)"
   ]
  }
 ],
 "metadata": {
  "kernelspec": {
   "display_name": "Class-E_-Jrlac",
   "language": "python",
   "name": "python3"
  },
  "language_info": {
   "codemirror_mode": {
    "name": "ipython",
    "version": 3
   },
   "file_extension": ".py",
   "mimetype": "text/x-python",
   "name": "python",
   "nbconvert_exporter": "python",
   "pygments_lexer": "ipython3",
   "version": "3.7.9"
  }
 },
 "nbformat": 4,
 "nbformat_minor": 2
}

{
 "cells": [
  {
   "cell_type": "code",
   "execution_count": 57,
   "metadata": {},
   "outputs": [],
   "source": [
    "#載入模組\n",
    "import numpy as np\n",
    "import cv2 as cv\n",
    "#影像讀取\n",
    "img = cv.imread('/home/nuonuo/HomeWork/test_img1020.jpg')\n",
    "# img = cv.resize(img, (540, 800), interpolation=cv.INTER_AREA)\n",
    "\n",
    "#kernel參數\n",
    "kernel_01 = np.ones((5,5),np.float32)/25\n",
    "kernel_02 = np.ones((4,4),np.float32)/16\n",
    "\n",
    "#01-先侵蝕再膨脹 -> opening\n",
    "opening = cv.morphologyEx(img, cv.MORPH_OPEN, kernel_01)\n",
    "# erosion = cv.erode(img,kernel,iterations = 1)\n",
    "# dilation = cv.dilate(erosion,kernel,iterations = 1)\n",
    "\n",
    "# 02-膨脹\n",
    "dilation = cv.dilate(img,kernel_02,iterations = 1)\n",
    "\n",
    "#顯示結果\n",
    "result = cv.hconcat([img, opening, dilation])\n",
    "cv.imshow('Result', result)\n",
    "# Download\n",
    "cv.imwrite(\"./{}.jpg\".format(\"0001\"),result)\n",
    "\n",
    "cv.waitKey(0)\n",
    "cv.destroyAllWindows()\n",
    "\n",
    "# result = cv.hconcat([erosion, dilation])"
   ]
  }
 ],
 "metadata": {
  "kernelspec": {
   "display_name": "class1013-G9kCGjTk",
   "language": "python",
   "name": "python3"
  },
  "language_info": {
   "codemirror_mode": {
    "name": "ipython",
    "version": 3
   },
   "file_extension": ".py",
   "mimetype": "text/x-python",
   "name": "python",
   "nbconvert_exporter": "python",
   "pygments_lexer": "ipython3",
   "version": "3.8.10"
  }
 },
 "nbformat": 4,
 "nbformat_minor": 2
}

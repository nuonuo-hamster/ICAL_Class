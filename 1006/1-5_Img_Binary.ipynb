{
 "cells": [
  {
   "cell_type": "markdown",
   "id": "bcabc135",
   "metadata": {},
   "source": [
    "# 影像二值化"
   ]
  },
  {
   "cell_type": "markdown",
   "id": "683bba4f",
   "metadata": {},
   "source": [
    "### 1. 載入影像模組"
   ]
  },
  {
   "cell_type": "code",
   "execution_count": 1,
   "id": "ad7670e8",
   "metadata": {},
   "outputs": [],
   "source": [
    "import numpy as np\n",
    "import cv2 as cv"
   ]
  },
  {
   "cell_type": "markdown",
   "id": "e13f7c1a",
   "metadata": {},
   "source": [
    "### 2. 灰階化與二值化(四種常用模式)。"
   ]
  },
  {
   "cell_type": "code",
   "execution_count": 2,
   "id": "24eac790",
   "metadata": {},
   "outputs": [],
   "source": [
    "# 影像讀取\n",
    "# img = cv.imread('./img/polystyrene.jpg')\n",
    "img = cv.imread('./img/board.jpg')\n",
    "\n",
    "# 灰階化\n",
    "img_gray = cv.cvtColor(img, cv.COLOR_BGR2GRAY)\n",
    "\n",
    "# 二值化 (四種模式)\n",
    "# 參數設定（原圖像, 門檻值, 像素值上限, 二值化模式）\n",
    "\n",
    "# 將小於閾值的灰度值設為0，其他值設為最大灰度值。\n",
    "# if gray_value < 127 (binary = 0), else (binary = 255)\n",
    "ret, thresh1 = cv.threshold(img_gray, 127, 255, cv.THRESH_BINARY)\n",
    "\n",
    "# 將大於閾值的灰度值設為0，小於閾值的值保持不變。\n",
    "# if gray_value > 127 (binary = 0), else (binary = gray_value) \n",
    "ret, thresh2 = cv.threshold(img_gray, 127, 255, cv.THRESH_BINARY_INV)\n",
    "\n",
    "# 將大於閾值的灰度值設為閾值，小於閾值的值保持不變。\n",
    "# if gray_value > 127 (binary = 127), else (binary = gray_value) \n",
    "ret, thresh3 = cv.threshold(img_gray, 127, 255, cv.THRESH_TRUNC)\n",
    "\n",
    "# 將小於閾值的灰度值設為0，大於閾值的值保持不變。\n",
    "# if gray_value < 127 (binary = 0), else (binary = gray_value)\n",
    "ret, thresh4 = cv.threshold(img_gray,127,255,cv.THRESH_TOZERO)\n",
    "\n",
    "\n",
    "# 影像拼接\n",
    "# 水平拼接\n",
    "image_h1 = cv.hconcat([img_gray, thresh1, thresh2])\n",
    "image_h2 = cv.hconcat([img_gray, thresh3, thresh4])\n",
    "# 垂直拼接\n",
    "result_img = cv.vconcat([image_h1, image_h2])\n",
    "\n",
    "# 顯示灰階化，二值化(四種模式)(左至右，上至下分別為灰階圖、二值化1、二值化2、灰階圖、二值化3、二值化4)\n",
    "cv.imshow('result', result_img)\n",
    "\n",
    "# 按下任意鍵關閉視窗\n",
    "cv.waitKey(0)\n",
    "cv.destroyAllWindows() "
   ]
  },
  {
   "cell_type": "code",
   "execution_count": null,
   "id": "211ed34f",
   "metadata": {},
   "outputs": [],
   "source": []
  }
 ],
 "metadata": {
  "kernelspec": {
   "display_name": "Python 3",
   "language": "python",
   "name": "python3"
  },
  "language_info": {
   "codemirror_mode": {
    "name": "ipython",
    "version": 3
   },
   "file_extension": ".py",
   "mimetype": "text/x-python",
   "name": "python",
   "nbconvert_exporter": "python",
   "pygments_lexer": "ipython3",
   "version": "3.7.9"
  },
  "vscode": {
   "interpreter": {
    "hash": "0661ced1479b554591b1d068660aa297d498679286224412137f5b40f78aabd9"
   }
  }
 },
 "nbformat": 4,
 "nbformat_minor": 5
}

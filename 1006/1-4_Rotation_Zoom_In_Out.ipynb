{
 "cells": [
  {
   "cell_type": "markdown",
   "id": "0b4e2719",
   "metadata": {},
   "source": [
    "# 影像旋轉與放大縮小"
   ]
  },
  {
   "cell_type": "markdown",
   "id": "e443d617",
   "metadata": {},
   "source": [
    "### 1. 載入模組"
   ]
  },
  {
   "cell_type": "code",
   "execution_count": 1,
   "id": "30fd6676",
   "metadata": {},
   "outputs": [],
   "source": [
    "import numpy as np\n",
    "import cv2 as cv"
   ]
  },
  {
   "cell_type": "markdown",
   "id": "ede2575a",
   "metadata": {},
   "source": [
    "### 2. 影像旋轉"
   ]
  },
  {
   "cell_type": "code",
   "execution_count": 2,
   "id": "409abfe3",
   "metadata": {},
   "outputs": [],
   "source": [
    "# 讀取圖檔\n",
    "# img = cv.imread('./img/polystyrene.jpg')\n",
    "img = cv.imread('./img/board.jpg')\n",
    "cv.imshow('Original Image', img)\n",
    "\n",
    "# 旋轉90度\n",
    "image_90 = cv.rotate(img, cv.ROTATE_90_CLOCKWISE)\n",
    "cv.imshow('90_rotate', image_90)\n",
    "\n",
    "# 旋轉180度\n",
    "image_180 = cv.rotate(img, cv.ROTATE_180)\n",
    "cv.imshow('180_rotate', image_180)\n",
    "\n",
    "# 旋轉270度\n",
    "image_270 = cv.rotate(img, cv.ROTATE_90_COUNTERCLOCKWISE)\n",
    "cv.imshow('270_rotate', image_270)\n",
    "\n",
    "# 按下任意鍵關閉視窗\n",
    "cv.waitKey(0)\n",
    "cv.destroyAllWindows() "
   ]
  },
  {
   "cell_type": "markdown",
   "id": "f9682b4d",
   "metadata": {},
   "source": [
    "### 3. 影像放大、縮小"
   ]
  },
  {
   "cell_type": "code",
   "execution_count": 4,
   "id": "aa8e9529",
   "metadata": {},
   "outputs": [
    {
     "name": "stdout",
     "output_type": "stream",
     "text": [
      "Shape of Color Image: (256, 330, 3)\n"
     ]
    }
   ],
   "source": [
    "# 讀取圖檔\n",
    "# img = cv.imread(\"./img/polystyrene.jpg\")\n",
    "img = cv.imread(\"./img/board.jpg\")\n",
    "cv.imshow('Original Image', img)\n",
    "\n",
    "# 顯示影像資訊（寬、高、<灰階圖片維度為1，所以只剩兩個維度>)\n",
    "print(\"Shape of Color Image: {}\".format(img.shape))\n",
    "\n",
    "# 影像縮放（原圖,（寬, 高）,縮放方法）\n",
    "# ZoomIn用INTER_CUBIC，效果較好\n",
    "img_zoomin = cv.resize(img, (660, 512), interpolation=cv.INTER_CUBIC)\n",
    "cv.imshow(\"ZoomIn Image\", img_zoomin)\n",
    "\n",
    "# ZoomOut用INTER_AREA，效果較好\n",
    "img_zoomout = cv.resize(img, (165, 128), interpolation=cv.INTER_AREA)\n",
    "cv.imshow('ZoomOut Image', img_zoomout)\n",
    "\n",
    "# 按下任意鍵關閉視窗\n",
    "cv.waitKey(0)\n",
    "cv.destroyAllWindows()"
   ]
  },
  {
   "cell_type": "markdown",
   "id": "ded65398",
   "metadata": {},
   "source": [
    "### 4. 影像剪裁"
   ]
  },
  {
   "cell_type": "code",
   "execution_count": 5,
   "id": "fd3dcd8c",
   "metadata": {},
   "outputs": [],
   "source": [
    "# 讀取圖檔\n",
    "# img = cv.imread(\"./img/polystyrene.jpg\")\n",
    "img = cv.imread(\"./img/board.jpg\")\n",
    "cv.imshow('Original Image', img)\n",
    "\n",
    "# 定義裁剪矩形左上角索引值與右下角索引值\n",
    "# 像素索引值 = (X, Y)\n",
    "idx_tl = (100, 100)\n",
    "idx_br = (200, 300)\n",
    "\n",
    "img_roi = img[idx_tl[0]:idx_br[0], idx_tl[1]:idx_br[1]]\n",
    "cv.imshow('ROI Image', img_roi)\n",
    "\n",
    "# 按下任意鍵關閉視窗\n",
    "cv.waitKey(0)\n",
    "cv.destroyAllWindows()"
   ]
  },
  {
   "cell_type": "code",
   "execution_count": null,
   "id": "82099874",
   "metadata": {},
   "outputs": [],
   "source": []
  }
 ],
 "metadata": {
  "kernelspec": {
   "display_name": "Python 3",
   "language": "python",
   "name": "python3"
  },
  "language_info": {
   "codemirror_mode": {
    "name": "ipython",
    "version": 3
   },
   "file_extension": ".py",
   "mimetype": "text/x-python",
   "name": "python",
   "nbconvert_exporter": "python",
   "pygments_lexer": "ipython3",
   "version": "3.7.9"
  },
  "vscode": {
   "interpreter": {
    "hash": "0661ced1479b554591b1d068660aa297d498679286224412137f5b40f78aabd9"
   }
  }
 },
 "nbformat": 4,
 "nbformat_minor": 5
}

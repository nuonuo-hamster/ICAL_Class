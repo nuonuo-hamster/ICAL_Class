{
 "cells": [
  {
   "cell_type": "markdown",
   "metadata": {},
   "source": [
    "# OpenCV 開啟攝影機與截圖"
   ]
  },
  {
   "cell_type": "markdown",
   "metadata": {},
   "source": [
    "### 1. 載入套件"
   ]
  },
  {
   "cell_type": "code",
   "execution_count": 2,
   "metadata": {},
   "outputs": [],
   "source": [
    "import numpy as np\n",
    "import cv2 as cv"
   ]
  },
  {
   "cell_type": "markdown",
   "metadata": {},
   "source": [
    "### 2. 讀取影像並將影像顯示在視窗上\n",
    "<img src=\"./img/ascii.png\" width=40%>"
   ]
  },
  {
   "cell_type": "code",
   "execution_count": 3,
   "metadata": {},
   "outputs": [],
   "source": [
    "def capture_camera(img_class):\n",
    "    # 開啟攝影機(cv.VideoCapture(攝影機編號), 視窗大小640*480)\n",
    "    cap = cv.VideoCapture(0)\n",
    "\n",
    "    # 圖片編號\n",
    "    count = 0\n",
    "\n",
    "    # 使用while迴圈不斷從攝影機獲取新影像\n",
    "    while(True):\n",
    "        # 讀取攝影機影像\n",
    "        ret, frame = cap.read()\n",
    "        \n",
    "        # 繪製對齊框線 (長方形（影像,頂點座標,對向頂點座標,顏色,線條寬度(-1為填滿))\n",
    "        cv.rectangle(frame, (200 - 2, 120 - 2), (440 + 2, 360 + 2), (0, 255, 0), 2)\n",
    "        \n",
    "        # 顯示攝影機影像\n",
    "        cv.imshow(\"frame\", frame)\n",
    "        if cv.waitKey(1) & 0xFF == 99:\n",
    "            cv.imwrite(\"./cap/{}_{}.jpg\".format(img_class, count), frame[120:360, 200:440])\n",
    "            count = count + 1\n",
    "\n",
    "        # 若按下ESC鍵則離開迴圈\n",
    "        if cv.waitKey(1) & 0xFF == 27:\n",
    "            break\n",
    "\n",
    "    # 關閉所有視窗\n",
    "    cv.destroyAllWindows()\n",
    "\n",
    "    # 釋放攝影機資源 (記得一定要釋放喔!)\n",
    "    cap.release()"
   ]
  },
  {
   "cell_type": "markdown",
   "metadata": {},
   "source": [
    "### 3. 執行 Function"
   ]
  },
  {
   "cell_type": "code",
   "execution_count": 4,
   "metadata": {},
   "outputs": [],
   "source": [
    "if __name__ == \"__main__\":\n",
    "    img_classes = 2\n",
    "\n",
    "    # 需要分幾個不同的類別\n",
    "    for img_class in range(img_classes):\n",
    "        capture_camera(img_class)"
   ]
  },
  {
   "cell_type": "code",
   "execution_count": null,
   "metadata": {},
   "outputs": [],
   "source": []
  }
 ],
 "metadata": {
  "kernelspec": {
   "display_name": "0922-_njyRvPn",
   "language": "python",
   "name": "python3"
  },
  "language_info": {
   "codemirror_mode": {
    "name": "ipython",
    "version": 3
   },
   "file_extension": ".py",
   "mimetype": "text/x-python",
   "name": "python",
   "nbconvert_exporter": "python",
   "pygments_lexer": "ipython3",
   "version": "3.9.13"
  },
  "orig_nbformat": 4
 },
 "nbformat": 4,
 "nbformat_minor": 2
}

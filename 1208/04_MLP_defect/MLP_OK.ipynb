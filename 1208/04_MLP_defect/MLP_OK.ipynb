{
 "cells": [
  {
   "cell_type": "code",
   "execution_count": 1,
   "metadata": {},
   "outputs": [
    {
     "name": "stdout",
     "output_type": "stream",
     "text": [
      "WARNING:tensorflow:From c:\\01_MLP\\nnenv\\lib\\site-packages\\keras\\src\\losses.py:2976: The name tf.losses.sparse_softmax_cross_entropy is deprecated. Please use tf.compat.v1.losses.sparse_softmax_cross_entropy instead.\n",
      "\n"
     ]
    }
   ],
   "source": [
    "import tensorflow as tf\n",
    "import pandas as pd\n",
    "import numpy as np\n",
    "import keras\n",
    "import cv2\n",
    "import os\n",
    "import matplotlib.pyplot as plt\n",
    "\n",
    "from imutils import paths\n",
    "from tensorflow.keras.preprocessing.image import img_to_array\n",
    "from tensorflow.keras.utils import to_categorical\n",
    "from tensorflow.keras.layers import *\n",
    "from tensorflow.keras.models import *\n",
    "from keras.models import load_model"
   ]
  },
  {
   "cell_type": "markdown",
   "metadata": {},
   "source": [
    "### 訓練模型"
   ]
  },
  {
   "cell_type": "code",
   "execution_count": 2,
   "metadata": {},
   "outputs": [],
   "source": [
    "imagePaths_train = sorted(list(paths.list_images(\".\\\\Dataset\\\\OK\\\\train\")))\n",
    "imagePaths_test = sorted(list(paths.list_images(\".\\\\Dataset\\\\OK\\\\test\")))\n",
    "\n",
    "#IMAGE_DIMS = (32, 32, 3)\n",
    "train_feature = []\n",
    "train_label = [0, 0, 0, 0, 0, 0, 0, 0, 0, 0, 0, 0, 0, 0, 0, 0, 0, 0, 0, 0, 1, 1, 1, 1, 1, 1, 1, 1, 1, 1, 1, 1, 1, 1, 1, 1, 1, 1, 1, 1]\n",
    "test_feature = []\n",
    "test_label = [0, 0, 0, 0, 0, 1, 1, 1, 1, 1, 0, 0, 0, 0, 0, 1, 1, 1, 1, 1]"
   ]
  },
  {
   "cell_type": "code",
   "execution_count": 3,
   "metadata": {},
   "outputs": [],
   "source": [
    "for imagePath in imagePaths_train:\n",
    "    #print(imagePath)\n",
    "    # load the image, pre-process it, and store it in the data list\n",
    "    image = cv2.imread(imagePath, 0)\n",
    "    image = img_to_array(image)\n",
    "    train_feature.append(image)\n",
    "for imagePath in imagePaths_test:\n",
    "    #print(imagePath)\n",
    "    # load the image, pre-process it, and store it in the data list\n",
    "    image = cv2.imread(imagePath, 0)\n",
    "    image = img_to_array(image)\n",
    "    test_feature.append(image)"
   ]
  },
  {
   "cell_type": "code",
   "execution_count": 4,
   "metadata": {},
   "outputs": [
    {
     "name": "stdout",
     "output_type": "stream",
     "text": [
      "Train Data shape:(40, 32, 32, 1)\n",
      "Test Data shape:(20, 32, 32, 1)\n",
      "Train Label shape:(40,)\n",
      "Test Label shape:(20,)\n"
     ]
    }
   ],
   "source": [
    "train_feature = np.array(train_feature, dtype=\"float\")\n",
    "test_feature = np.array(test_feature, dtype=\"float\")\n",
    "train_label = np.array(train_label)\n",
    "test_label = np.array(test_label)\n",
    "\n",
    "print(\"Train Data shape:\" + str(train_feature.shape))\n",
    "print(\"Test Data shape:\" + str(test_feature.shape))\n",
    "print(\"Train Label shape:\" + str(train_label.shape))\n",
    "print(\"Test Label shape:\" + str(test_label.shape))"
   ]
  },
  {
   "cell_type": "code",
   "execution_count": 5,
   "metadata": {},
   "outputs": [],
   "source": [
    "def show_image(image):\n",
    "    fig = plt.gcf()\n",
    "    fig.set_size_inches(2, 2)\n",
    "    plt.imshow(image, cmap='gray')\n",
    "    plt.show() \n",
    "\n",
    "def show_images_labels_predictions(images,labels,\n",
    "                                  predictions,start_id,num=10):\n",
    "    plt.gcf().set_size_inches(12, 14)\n",
    "    if num>25: num=25 \n",
    "    for i in range(0, num):\n",
    "        ax=plt.subplot(5,5, 1+i)\n",
    "        #顯示黑白圖片\n",
    "        ax.imshow(images[start_id], cmap='gray')\n",
    "        \n",
    "        # 有 AI 預測結果資料, 才在標題顯示預測結果\n",
    "        if( len(predictions) > 0 ) :\n",
    "            title = 'ai = ' + str(predictions[start_id])\n",
    "            # 預測正確顯示(o), 錯誤顯示(x)\n",
    "            title += (' (o)' if predictions[start_id]==labels[start_id] else ' (x)') \n",
    "            title += '\\nlabel = ' + str(labels[start_id])\n",
    "        # 沒有 AI 預測結果資料, 只在標題顯示真實數值\n",
    "        else :\n",
    "            title = 'label = ' + str(labels[start_id])\n",
    "            \n",
    "        # X, Y 軸不顯示刻度    \n",
    "        ax.set_title(title,fontsize=12) \n",
    "        ax.set_xticks([]);ax.set_yticks([])        \n",
    "        start_id+=1 \n",
    "    plt.show()"
   ]
  },
  {
   "cell_type": "code",
   "execution_count": 6,
   "metadata": {},
   "outputs": [
    {
     "data": {
      "image/png": "[encoded data removed]",
      "text/plain": [
       "<Figure size 1200x1400 with 10 Axes>"
      ]
     },
     "metadata": {},
     "output_type": "display_data"
    },
    {
     "data": {
      "image/png": "[encoded data removed]",
      "text/plain": [
       "<Figure size 1200x1400 with 10 Axes>"
      ]
     },
     "metadata": {},
     "output_type": "display_data"
    }
   ],
   "source": [
    "#原始測試圖片\n",
    "show_images_labels_predictions(test_feature,test_label,[],0,10)\n",
    "#經位移、旋轉之測試圖片\n",
    "show_images_labels_predictions(test_feature,test_label,[],10,10)"
   ]
  },
  {
   "cell_type": "code",
   "execution_count": 7,
   "metadata": {},
   "outputs": [
    {
     "name": "stdout",
     "output_type": "stream",
     "text": [
      "[[255. 255. 255. ... 255. 255. 255.]\n",
      " [255. 255. 255. ... 255. 255. 255.]\n",
      " [255. 255. 255. ... 255. 255. 255.]\n",
      " ...\n",
      " [255. 255. 255. ... 255. 255. 255.]\n",
      " [255. 255. 255. ... 255. 255. 255.]\n",
      " [255. 255. 255. ... 255. 255. 255.]]\n",
      "(40, 1024)\n"
     ]
    }
   ],
   "source": [
    "#將 Features 特徵值轉換為 784個 float 數字的 1 維向量\n",
    "train_feature_vector =train_feature.reshape(len(train_feature), 1024).astype('float32')\n",
    "test_feature_vector = test_feature.reshape(len( test_feature), 1024).astype('float32')\n",
    "print(train_feature_vector)\n",
    "print(train_feature_vector.shape)"
   ]
  },
  {
   "cell_type": "code",
   "execution_count": 8,
   "metadata": {},
   "outputs": [
    {
     "name": "stdout",
     "output_type": "stream",
     "text": [
      "[[1. 1. 1. ... 1. 1. 1.]\n",
      " [1. 1. 1. ... 1. 1. 1.]\n",
      " [1. 1. 1. ... 1. 1. 1.]\n",
      " ...\n",
      " [1. 1. 1. ... 1. 1. 1.]\n",
      " [1. 1. 1. ... 1. 1. 1.]\n",
      " [1. 1. 1. ... 1. 1. 1.]]\n"
     ]
    }
   ],
   "source": [
    "#Features 特徵值標準化\n",
    "train_feature_normalize = train_feature_vector/255\n",
    "test_feature_normalize = test_feature_vector/255\n",
    "print(train_feature_normalize)"
   ]
  },
  {
   "cell_type": "code",
   "execution_count": 9,
   "metadata": {},
   "outputs": [
    {
     "name": "stdout",
     "output_type": "stream",
     "text": [
      "[[1. 0.]\n",
      " [1. 0.]\n",
      " [1. 0.]\n",
      " [1. 0.]\n",
      " [1. 0.]\n",
      " [0. 1.]\n",
      " [0. 1.]\n",
      " [0. 1.]\n",
      " [0. 1.]\n",
      " [0. 1.]\n",
      " [1. 0.]\n",
      " [1. 0.]\n",
      " [1. 0.]\n",
      " [1. 0.]\n",
      " [1. 0.]\n",
      " [0. 1.]\n",
      " [0. 1.]\n",
      " [0. 1.]\n",
      " [0. 1.]\n",
      " [0. 1.]]\n"
     ]
    }
   ],
   "source": [
    "#label 轉換為 One-Hot Encoding 編碼\n",
    "train_label_onehot = to_categorical(train_label)\n",
    "test_label_onehot = to_categorical(test_label)\n",
    "print(test_label_onehot)"
   ]
  },
  {
   "cell_type": "code",
   "execution_count": 17,
   "metadata": {},
   "outputs": [
    {
     "name": "stdout",
     "output_type": "stream",
     "text": [
      "Model: \"sequential_1\"\n",
      "_________________________________________________________________\n",
      " Layer (type)                Output Shape              Param #   \n",
      "=================================================================\n",
      " dense_2 (Dense)             (None, 256)               262400    \n",
      "                                                                 \n",
      " dense_3 (Dense)             (None, 2)                 514       \n",
      "                                                                 \n",
      "=================================================================\n",
      "Total params: 262914 (1.00 MB)\n",
      "Trainable params: 262914 (1.00 MB)\n",
      "Non-trainable params: 0 (0.00 Byte)\n",
      "_________________________________________________________________\n"
     ]
    }
   ],
   "source": [
    "#建立模型\n",
    "model = Sequential()\n",
    "#輸入層：1024, 隱藏層：256，輸出層：2\n",
    "model.add(Dense(units=256, \n",
    "                input_dim=1024, \n",
    "                kernel_initializer='normal', \n",
    "                activation='relu'))\n",
    "#model.add(Dense(units=256,  \n",
    "#                kernel_initializer='normal', \n",
    "#                activation='relu'))\n",
    "model.add(Dense(units=2, \n",
    "                kernel_initializer='normal', \n",
    "                activation='softmax'))\n",
    "model.summary()  # 模型可視化"
   ]
  },
  {
   "cell_type": "code",
   "execution_count": 18,
   "metadata": {},
   "outputs": [
    {
     "name": "stdout",
     "output_type": "stream",
     "text": [
      "Epoch 1/20\n",
      "8/8 - 0s - loss: 1.1962 - accuracy: 0.5000 - val_loss: 2.0499 - val_accuracy: 0.0000e+00 - 409ms/epoch - 51ms/step\n",
      "Epoch 2/20\n",
      "8/8 - 0s - loss: 0.4470 - accuracy: 0.8125 - val_loss: 0.5946 - val_accuracy: 0.6250 - 42ms/epoch - 5ms/step\n",
      "Epoch 3/20\n",
      "8/8 - 0s - loss: 0.3613 - accuracy: 0.8438 - val_loss: 0.2534 - val_accuracy: 0.8750 - 42ms/epoch - 5ms/step\n",
      "Epoch 4/20\n",
      "8/8 - 0s - loss: 0.2936 - accuracy: 0.8750 - val_loss: 1.1748 - val_accuracy: 0.5000 - 50ms/epoch - 6ms/step\n",
      "Epoch 5/20\n",
      "8/8 - 0s - loss: 0.2345 - accuracy: 0.9062 - val_loss: 0.1117 - val_accuracy: 1.0000 - 46ms/epoch - 6ms/step\n",
      "Epoch 6/20\n",
      "8/8 - 0s - loss: 0.2185 - accuracy: 0.9062 - val_loss: 1.5341 - val_accuracy: 0.5000 - 50ms/epoch - 6ms/step\n",
      "Epoch 7/20\n",
      "8/8 - 0s - loss: 0.2956 - accuracy: 0.9062 - val_loss: 0.0843 - val_accuracy: 1.0000 - 50ms/epoch - 6ms/step\n",
      "Epoch 8/20\n",
      "8/8 - 0s - loss: 0.2607 - accuracy: 0.8750 - val_loss: 0.6023 - val_accuracy: 0.6250 - 46ms/epoch - 6ms/step\n",
      "Epoch 9/20\n",
      "8/8 - 0s - loss: 0.1315 - accuracy: 1.0000 - val_loss: 0.2545 - val_accuracy: 0.7500 - 42ms/epoch - 5ms/step\n",
      "Epoch 10/20\n",
      "8/8 - 0s - loss: 0.1332 - accuracy: 0.9375 - val_loss: 0.4938 - val_accuracy: 0.7500 - 37ms/epoch - 5ms/step\n",
      "Epoch 11/20\n",
      "8/8 - 0s - loss: 0.1479 - accuracy: 0.9688 - val_loss: 0.5571 - val_accuracy: 0.6250 - 47ms/epoch - 6ms/step\n",
      "Epoch 12/20\n",
      "8/8 - 0s - loss: 0.1113 - accuracy: 0.9375 - val_loss: 0.1531 - val_accuracy: 1.0000 - 38ms/epoch - 5ms/step\n",
      "Epoch 13/20\n",
      "8/8 - 0s - loss: 0.0470 - accuracy: 1.0000 - val_loss: 0.3443 - val_accuracy: 0.7500 - 44ms/epoch - 6ms/step\n",
      "Epoch 14/20\n",
      "8/8 - 0s - loss: 0.0444 - accuracy: 1.0000 - val_loss: 0.3863 - val_accuracy: 0.7500 - 45ms/epoch - 6ms/step\n",
      "Epoch 15/20\n",
      "8/8 - 0s - loss: 0.0566 - accuracy: 1.0000 - val_loss: 0.2594 - val_accuracy: 0.7500 - 37ms/epoch - 5ms/step\n",
      "Epoch 16/20\n",
      "8/8 - 0s - loss: 0.0616 - accuracy: 1.0000 - val_loss: 0.3679 - val_accuracy: 0.7500 - 37ms/epoch - 5ms/step\n",
      "Epoch 17/20\n",
      "8/8 - 0s - loss: 0.0593 - accuracy: 1.0000 - val_loss: 0.2171 - val_accuracy: 0.8750 - 42ms/epoch - 5ms/step\n",
      "Epoch 18/20\n",
      "8/8 - 0s - loss: 0.0228 - accuracy: 1.0000 - val_loss: 0.6850 - val_accuracy: 0.6250 - 42ms/epoch - 5ms/step\n",
      "Epoch 19/20\n",
      "8/8 - 0s - loss: 0.0207 - accuracy: 1.0000 - val_loss: 0.2292 - val_accuracy: 0.8750 - 51ms/epoch - 6ms/step\n",
      "Epoch 20/20\n",
      "8/8 - 0s - loss: 0.0166 - accuracy: 1.0000 - val_loss: 0.2186 - val_accuracy: 0.8750 - 56ms/epoch - 7ms/step\n"
     ]
    }
   ],
   "source": [
    "#定義訓練方式\n",
    "model.compile(loss='categorical_crossentropy', \n",
    "              optimizer='adam', metrics=['accuracy'])\n",
    "\n",
    "#以(train_feature_normalize,train_label_onehot)資料訓練，\n",
    "#訓練資料保留 20% 作驗證,訓練20次、每批次讀取4筆資料，顯示簡易訓練過程\n",
    "train_history =model.fit(x=train_feature_normalize,\n",
    "                         y=train_label_onehot,validation_split=0.2, \n",
    "                         epochs=20, batch_size=4,verbose=2)"
   ]
  },
  {
   "cell_type": "code",
   "execution_count": 19,
   "metadata": {},
   "outputs": [
    {
     "name": "stdout",
     "output_type": "stream",
     "text": [
      "1/1 [==============================] - 0s 244ms/step - loss: 0.9402 - accuracy: 0.6500\n",
      "\n",
      "準確率= 0.6499999761581421\n"
     ]
    }
   ],
   "source": [
    "#評估準確率\n",
    "scores = model.evaluate(test_feature_normalize, test_label_onehot)\n",
    "print('\\n準確率=',scores[1])"
   ]
  },
  {
   "cell_type": "code",
   "execution_count": 13,
   "metadata": {},
   "outputs": [],
   "source": [
    "#將模型儲存至 HDF5檔案中\n",
    "#model.save('OK_mlp_model.h5')"
   ]
  },
  {
   "cell_type": "markdown",
   "metadata": {},
   "source": [
    "### 測試模型"
   ]
  },
  {
   "cell_type": "code",
   "execution_count": 20,
   "metadata": {},
   "outputs": [
    {
     "name": "stdout",
     "output_type": "stream",
     "text": [
      "1/1 [==============================] - 0s 48ms/step\n"
     ]
    }
   ],
   "source": [
    "predict=model.predict(test_feature_normalize)\n",
    "prediction=np.argmax(predict,axis=1)"
   ]
  },
  {
   "cell_type": "code",
   "execution_count": 21,
   "metadata": {},
   "outputs": [],
   "source": [
    "# 顯示圖片及預測結果的函數\n",
    "import random\n",
    "\n",
    "def plot_images_labels_prediction(images, labels, prediction=[], names=[], predictions_array=[], num=20):\n",
    "    # 取得 pyplot 物件參考\n",
    "    fig = plt.gcf()\n",
    "\n",
    "    # 設定畫布大小為 12 吋*14吋\n",
    "    fig.set_size_inches(12, 14)\n",
    "\n",
    "    idx = random.randint(0, images.shape[0] - 1)\n",
    "\n",
    "    # 限制最多顯示 20 個子圖\n",
    "    if num > 20: num = 20\n",
    "\n",
    "    # 依序顯示 num 個子圖\n",
    "    for i in range(0, num):\n",
    "        # 建立 5*5 個子圖中的第 i+1 個 \n",
    "        ax = plt.subplot(5, 5, i + 1)\n",
    "\n",
    "        # 顯示子圖\n",
    "        ax.imshow(images[idx], cmap='gray')\n",
    "\n",
    "        title = \"\"\n",
    "        color = 'black'\n",
    "        label = labels[idx]\n",
    "        pred = None\n",
    "\n",
    "        # 有預測值就加入標題中\n",
    "        if len(prediction) > 0:\n",
    "            if prediction[idx] != labels[idx]:\n",
    "                color = 'red'\n",
    "                confidence = 100 * np.min(predictions_array[idx])\n",
    "            else:\n",
    "                color = 'blue'\n",
    "                confidence = 100 * np.max(predictions_array[idx])\n",
    "            pred = prediction[idx]\n",
    "        \n",
    "        if len(names) > 0:\n",
    "            # print(names)\n",
    "            # print(label)\n",
    "            label = names[label]\n",
    "            if pred != None:\n",
    "                pred = names[pred]\n",
    "\n",
    "        title = \"label = \" + str(label)\n",
    "        if pred != None: title += \"\\npredict = \" + str(pred)\n",
    "\n",
    "        title = \"{}\\nscore={:2.2f}%\".format(title, confidence)\n",
    "\n",
    "        # 設定標題\n",
    "        ax.set_title(title, fontsize=10, color=color) \n",
    "        \n",
    "        # 不顯示 x 、y軸刻度\n",
    "        ax.set_xticks([]);  \n",
    "        ax.set_yticks([]);\n",
    "        \n",
    "        # 樣本序號增量 1\n",
    "        idx += 1    \n",
    "        if idx >= images.shape[0]:\n",
    "            idx = 0\n",
    "    \n",
    "    # 繪製圖形\n",
    "    plt.subplots_adjust(wspace=0.6, hspace=0.6)\n",
    "    plt.show()"
   ]
  },
  {
   "cell_type": "code",
   "execution_count": 15,
   "metadata": {},
   "outputs": [
    {
     "name": "stdout",
     "output_type": "stream",
     "text": [
      "(20, 32, 32, 1)\n",
      "[0 0 0 0 0 1 1 1 1 1 0 0 0 0 0 1 1 1 1 1]\n",
      "[0 0 0 0 1 1 1 1 1 1 0 0 1 0 1 0 1 0 0 0]\n"
     ]
    }
   ],
   "source": [
    "print(test_feature.shape)\n",
    "print(np.argmax(test_label_onehot, axis=1))\n",
    "print(np.argmax(predict, axis=1))"
   ]
  },
  {
   "cell_type": "code",
   "execution_count": 22,
   "metadata": {},
   "outputs": [
    {
     "data": {
      "image/png": "[encoded data removed]",
      "text/plain": [
       "<Figure size 1200x1400 with 20 Axes>"
      ]
     },
     "metadata": {},
     "output_type": "display_data"
    }
   ],
   "source": [
    "NAMES = ['O', 'K']\n",
    "plot_images_labels_prediction(test_feature, np.argmax(test_label_onehot, axis=1), np.argmax(predict, axis=1), NAMES, predictions_array=predict)"
   ]
  },
  {
   "cell_type": "code",
   "execution_count": null,
   "metadata": {},
   "outputs": [],
   "source": []
  }
 ],
 "metadata": {
  "kernelspec": {
   "display_name": "Python 3 (ipykernel)",
   "language": "python",
   "name": "python3"
  },
  "language_info": {
   "codemirror_mode": {
    "name": "ipython",
    "version": 3
   },
   "file_extension": ".py",
   "mimetype": "text/x-python",
   "name": "python",
   "nbconvert_exporter": "python",
   "pygments_lexer": "ipython3",
   "version": "3.10.8"
  }
 },
 "nbformat": 4,
 "nbformat_minor": 2
}

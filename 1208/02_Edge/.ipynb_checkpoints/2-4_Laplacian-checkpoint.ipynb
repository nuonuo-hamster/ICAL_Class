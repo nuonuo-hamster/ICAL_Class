{
 "cells": [
  {
   "cell_type": "markdown",
   "metadata": {},
   "source": [
    "# OpenCV_邊緣偵測-Laplacian"
   ]
  },
  {
   "cell_type": "code",
   "execution_count": 10,
   "metadata": {},
   "outputs": [],
   "source": [
    "import numpy as np\n",
    "import cv2 as cv"
   ]
  },
  {
   "cell_type": "code",
   "execution_count": 11,
   "metadata": {},
   "outputs": [],
   "source": [
    "#載入範例影像，並將其轉換為灰階影像\n",
    "img = cv.imread(\"./img/aoi_detect.jpg\")\n",
    "#img = cv.imread(\"./img/board.jpg\")\n",
    "#img = cv.imread(\"./img/polystyrene.jpg\")\n",
    "#img = cv.imread(\"./img/workman.jpg\")\n",
    "\n",
    "gray = cv.cvtColor(img, cv.COLOR_BGR2GRAY)\n",
    "\n",
    "#顯示影像處理結果並與原圖比較\n",
    "cv.imshow('original', img) \n",
    "cv.imshow('gray',gray)\n",
    "\n",
    "cv.waitKey()\n",
    "cv.destroyAllWindows()"
   ]
  },
  {
   "cell_type": "markdown",
   "metadata": {},
   "source": [
    "![aoi_detect_gray.png](aoi_detect_gray.png)"
   ]
  },
  {
   "cell_type": "code",
   "execution_count": 12,
   "metadata": {},
   "outputs": [],
   "source": [
    "# Laplace 響應大小\n",
    "# ksize : Laplacian的運算子大小，必須為1,3,5,7\n",
    "# ddepth: -1 表示影像深度與原圖相同\n",
    "laplace = cv.Laplacian(src=gray, ddepth=-1, ksize=3)\n",
    "\n",
    "#顯示影像處理結果並與原圖比較\n",
    "cv.imshow('original', img)\n",
    "cv.imshow('laplace',laplace)\n",
    "\n",
    "cv.waitKey()\n",
    "cv.destroyAllWindows()"
   ]
  },
  {
   "cell_type": "markdown",
   "metadata": {},
   "source": [
    "![aoi_detect_laplace.png](aoi_detect_laplace.png)"
   ]
  },
  {
   "cell_type": "code",
   "execution_count": null,
   "metadata": {},
   "outputs": [],
   "source": []
  }
 ],
 "metadata": {
  "kernelspec": {
   "display_name": "Python 3 (ipykernel)",
   "language": "python",
   "name": "python3"
  },
  "language_info": {
   "codemirror_mode": {
    "name": "ipython",
    "version": 3
   },
   "file_extension": ".py",
   "mimetype": "text/x-python",
   "name": "python",
   "nbconvert_exporter": "python",
   "pygments_lexer": "ipython3",
   "version": "3.8.10"
  }
 },
 "nbformat": 4,
 "nbformat_minor": 2
}

{
 "cells": [
  {
   "cell_type": "markdown",
   "metadata": {},
   "source": [
    "# OpenCV_邊緣偵測-Canny"
   ]
  },
  {
   "cell_type": "code",
   "execution_count": 1,
   "metadata": {},
   "outputs": [],
   "source": [
    "import numpy as np\n",
    "import cv2 as cv"
   ]
  },
  {
   "cell_type": "code",
   "execution_count": 2,
   "metadata": {},
   "outputs": [],
   "source": [
    "#載入範例影像，並將其轉換為灰階影像\n",
    "img = cv.imread(\"./img/aoi_detect.jpg\")\n",
    "#img = cv.imread(\"./img/board.jpg\")\n",
    "#img = cv.imread(\"./img/polystyrene.jpg\")\n",
    "#img = cv.imread(\"./img/workman.jpg\")\n",
    "\n",
    "gray = cv.cvtColor(img, cv.COLOR_BGR2GRAY)\n",
    "\n",
    "#顯示影像處理結果並與原圖比較\n",
    "cv.imshow('original', img)  \n",
    "cv.imshow('gray',gray)\n",
    "\n",
    "cv.waitKey()\n",
    "cv.destroyAllWindows()"
   ]
  },
  {
   "cell_type": "markdown",
   "metadata": {},
   "source": [
    "![aoi_detect_gray.png](aoi_detect_gray.png)"
   ]
  },
  {
   "cell_type": "markdown",
   "metadata": {},
   "source": [
    "## 可更改參數：\n",
    "### 1.Canny 下界門檻值為 50；上界門檻值為 150（下限與上限的比例建議在1:2與1:3之間，ex:50,100）"
   ]
  },
  {
   "cell_type": "code",
   "execution_count": 3,
   "metadata": {},
   "outputs": [],
   "source": [
    "# Canny 下界門檻值為 50；上界門檻值為 150\n",
    "# 下限與上限的比例建議在1:2與1:3之間\n",
    "canny = cv.Canny(gray, 50, 150)\n",
    "\n",
    "#顯示影像處理結果並與原圖比較\n",
    "cv.imshow('original', img) \n",
    "cv.imshow('canny',canny)\n",
    "\n",
    "cv.waitKey()\n",
    "cv.destroyAllWindows()"
   ]
  },
  {
   "cell_type": "markdown",
   "metadata": {},
   "source": [
    "![aoi_detect_canny.png](aoi_detect_canny.png)"
   ]
  },
  {
   "cell_type": "markdown",
   "metadata": {},
   "source": [
    "#### 參考資料\n",
    "[OpenCV官方網站](https://docs.opencv.org/master/da/d22/tutorial_py_canny.html)"
   ]
  },
  {
   "cell_type": "code",
   "execution_count": null,
   "metadata": {},
   "outputs": [],
   "source": []
  }
 ],
 "metadata": {
  "kernelspec": {
   "display_name": "Python 3 (ipykernel)",
   "language": "python",
   "name": "python3"
  },
  "language_info": {
   "codemirror_mode": {
    "name": "ipython",
    "version": 3
   },
   "file_extension": ".py",
   "mimetype": "text/x-python",
   "name": "python",
   "nbconvert_exporter": "python",
   "pygments_lexer": "ipython3",
   "version": "3.8.10"
  }
 },
 "nbformat": 4,
 "nbformat_minor": 2
}

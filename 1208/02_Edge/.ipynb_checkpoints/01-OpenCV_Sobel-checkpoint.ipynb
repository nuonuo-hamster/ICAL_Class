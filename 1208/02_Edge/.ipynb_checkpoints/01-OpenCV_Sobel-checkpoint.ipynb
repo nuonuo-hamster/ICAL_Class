{
 "cells": [
  {
   "cell_type": "markdown",
   "metadata": {},
   "source": [
    "# OpenCV_邊緣偵測-Sobel"
   ]
  },
  {
   "cell_type": "markdown",
   "metadata": {},
   "source": [
    "本節介紹的是在邊緣偵測中常用到的幾個方法，在影像中若是可以將物體的邊緣都清楚的描述出來，將可以幫助我們在後續標註及偵測目標物上，將會有大大的提昇辨識率。\n",
    "OpenCV有內建幾個邊緣偵測的方法(Sobel、Laplacian、Canny)，也都有相對應的函式可以使用。"
   ]
  },
  {
   "cell_type": "code",
   "execution_count": 15,
   "metadata": {},
   "outputs": [],
   "source": [
    "import numpy as np\n",
    "import cv2 as cv"
   ]
  },
  {
   "cell_type": "code",
   "execution_count": 16,
   "metadata": {},
   "outputs": [],
   "source": [
    "#載入範例影像，並將其轉換為灰階影像\n",
    "img = cv.imread(\"./img/aoi_detect.jpg\")\n",
    "#img = cv.imread(\"./img/board.jpg\")\n",
    "#img = cv.imread(\"./img/polystyrene.jpg\")\n",
    "#img = cv.imread(\"./img/workman.jpg\")\n",
    "\n",
    "gray = cv.cvtColor(img, cv.COLOR_BGR2GRAY)\n",
    "\n",
    "#顯示影像處理結果並與原圖比較\n",
    "cv.imshow('original',img)  \n",
    "cv.imshow('gray',gray)\n",
    "\n",
    "cv.waitKey()\n",
    "cv.destroyAllWindows()"
   ]
  },
  {
   "cell_type": "markdown",
   "metadata": {},
   "source": [
    "![aoi_detect_gray.png](aoi_detect_gray.png)"
   ]
  },
  {
   "cell_type": "code",
   "execution_count": 17,
   "metadata": {},
   "outputs": [],
   "source": [
    "# Sobel 分別針對 x 與 y 方向響應\n",
    "# Sobel 計算 x 與 y 方向響應介於-1020~1020(若使用 8-bits unsigned integer 無法表示)\n",
    "# 因此此處使用 16-bits signed integer\n",
    "# Sobel 將響應計算結果(-1020~1020)取絕對值後轉成 uint-8\n",
    "\n",
    "dx = cv.Sobel(src=gray, ddepth=cv.CV_16S, dx=1, dy=0, ksize=3)\n",
    "dy = cv.Sobel(src=gray, ddepth=cv.CV_16S, dx=0, dy=1, ksize=3)\n",
    "\n",
    "Xaxis = cv.convertScaleAbs(src=dx)\n",
    "Yaxis = cv.convertScaleAbs(src=dy)\n",
    "\n",
    "cv.imshow('x_axis',Xaxis)\n",
    "cv.imshow('y_axis',Yaxis)\n",
    "\n",
    "cv.waitKey()\n",
    "cv.destroyAllWindows()"
   ]
  },
  {
   "attachments": {},
   "cell_type": "markdown",
   "metadata": {},
   "source": [
    "![aoi_detect_sobelXY.png](aoi_detect_sobelXY.png)"
   ]
  },
  {
   "cell_type": "code",
   "execution_count": 18,
   "metadata": {},
   "outputs": [],
   "source": [
    "# Sobel 將 x 與 y 方向響應合併\n",
    "sobel = cv.addWeighted(src1=Xaxis, alpha=0.5, src2=Yaxis,beta=0.5, gamma=0)\n",
    "\n",
    "cv.imshow('original', img)\n",
    "cv.imshow('sobel',sobel)\n",
    "\n",
    "cv.waitKey()\n",
    "cv.destroyAllWindows()"
   ]
  },
  {
   "attachments": {},
   "cell_type": "markdown",
   "metadata": {},
   "source": [
    "![aoi_detect_sobel.png](aoi_detect_sobel.png)"
   ]
  },
  {
   "cell_type": "markdown",
   "metadata": {},
   "source": [
    "#### 參考資料\n",
    "[OpenCV官方網站](https://docs.opencv.org/master/d5/d0f/tutorial_py_gradients.html)"
   ]
  },
  {
   "cell_type": "code",
   "execution_count": null,
   "metadata": {},
   "outputs": [],
   "source": []
  }
 ],
 "metadata": {
  "kernelspec": {
   "display_name": "Python 3 (ipykernel)",
   "language": "python",
   "name": "python3"
  },
  "language_info": {
   "codemirror_mode": {
    "name": "ipython",
    "version": 3
   },
   "file_extension": ".py",
   "mimetype": "text/x-python",
   "name": "python",
   "nbconvert_exporter": "python",
   "pygments_lexer": "ipython3",
   "version": "3.8.10"
  }
 },
 "nbformat": 4,
 "nbformat_minor": 2
}

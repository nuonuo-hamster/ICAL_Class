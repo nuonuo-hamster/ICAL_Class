{
 "cells": [
  {
   "cell_type": "markdown",
   "metadata": {},
   "source": [
    "## 儲存OK Canny圖片"
   ]
  },
  {
   "cell_type": "code",
   "execution_count": 1,
   "metadata": {},
   "outputs": [],
   "source": [
    "import numpy as np\n",
    "import cv2 as cv\n",
    "from imutils import paths\n",
    "import os"
   ]
  },
  {
   "cell_type": "code",
   "execution_count": 2,
   "metadata": {},
   "outputs": [],
   "source": [
    "train_path = '.\\\\Dataset\\\\OK\\\\Canny\\\\train'\n",
    "test_path = '.\\\\Dataset\\\\OK\\\\Canny\\\\test'\n",
    "if not os.path.isdir(train_path):\n",
    "    os.makedirs(train_path)\n",
    "if not os.path.isdir(test_path):\n",
    "    os.makedirs(test_path)"
   ]
  },
  {
   "cell_type": "code",
   "execution_count": 3,
   "metadata": {},
   "outputs": [],
   "source": [
    "imagePaths_train = sorted(list(paths.list_images(\".\\\\Dataset\\\\OK\\\\train\")))\n",
    "imagePaths_test = sorted(list(paths.list_images(\".\\\\Dataset\\\\OK\\\\test\")))\n",
    "\n",
    "i=0\n",
    "j=0\n",
    "for imagePath in imagePaths_train:\n",
    "    img = cv.imread(imagePath)\n",
    "    gray = cv.cvtColor(img, cv.COLOR_BGR2GRAY)\n",
    "\n",
    "    canny = cv.Canny(gray, 50, 150)\n",
    "    if i<=9:\n",
    "        cv.imwrite('.\\\\Dataset\\\\OK\\\\Canny\\\\train\\\\0%d.jpg'%(i), canny)\n",
    "\n",
    "    if i>9:\n",
    "        cv.imwrite('.\\\\Dataset\\\\OK\\\\Canny\\\\train\\\\%d.jpg'%(i), canny)\n",
    "    i=i+1\n",
    "for imagePath in imagePaths_test:\n",
    "    img = cv.imread(imagePath)\n",
    "    gray = cv.cvtColor(img, cv.COLOR_BGR2GRAY)\n",
    "\n",
    "    canny = cv.Canny(gray, 50, 150)\n",
    "    cv.imwrite('.\\\\Dataset\\\\OK\\\\Canny\\\\test\\\\0%d.jpg'%(j), canny)\n",
    "    j=j+1"
   ]
  },
  {
   "cell_type": "markdown",
   "metadata": {},
   "source": [
    "## 以Laplacian邊緣為特徵的MLP辨識模型"
   ]
  },
  {
   "cell_type": "code",
   "execution_count": 4,
   "metadata": {},
   "outputs": [
    {
     "name": "stderr",
     "output_type": "stream",
     "text": [
      "C:\\Users\\DinosaurMom\\anaconda3\\lib\\site-packages\\scipy\\__init__.py:146: UserWarning: A NumPy version >=1.16.5 and <1.23.0 is required for this version of SciPy (detected version 1.23.1\n",
      "  warnings.warn(f\"A NumPy version >={np_minversion} and <{np_maxversion}\"\n"
     ]
    }
   ],
   "source": [
    "import tensorflow as tf\n",
    "import pandas as pd\n",
    "import numpy as np\n",
    "import keras\n",
    "import cv2\n",
    "import os\n",
    "import matplotlib.pyplot as plt\n",
    "\n",
    "from imutils import paths\n",
    "from tensorflow.keras.preprocessing.image import img_to_array\n",
    "from tensorflow.keras.utils import to_categorical\n",
    "from tensorflow.keras.layers import *\n",
    "from tensorflow.keras.models import *\n",
    "from keras.models import load_model"
   ]
  },
  {
   "cell_type": "markdown",
   "metadata": {},
   "source": [
    "### 訓練模型"
   ]
  },
  {
   "cell_type": "code",
   "execution_count": 5,
   "metadata": {},
   "outputs": [],
   "source": [
    "imagePaths_train = sorted(list(paths.list_images(\".\\\\Dataset\\\\OK\\\\Canny\\\\train\")))\n",
    "imagePaths_test = sorted(list(paths.list_images(\".\\\\Dataset\\\\OK\\\\Canny\\\\test\")))\n",
    "\n",
    "#IMAGE_DIMS = (32, 32, 3)\n",
    "train_feature = []\n",
    "train_label = [0, 0, 0, 0, 0, 0, 0, 0, 0, 0, 0, 0, 0, 0, 0, 0, 0, 0, 0, 0, 1, 1, 1, 1, 1, 1, 1, 1, 1, 1, 1, 1, 1, 1, 1, 1, 1, 1, 1, 1]\n",
    "test_feature = []\n",
    "test_label = [0, 0, 0, 0, 0, 1, 1, 1, 1, 1]"
   ]
  },
  {
   "cell_type": "code",
   "execution_count": 6,
   "metadata": {},
   "outputs": [],
   "source": [
    "for imagePath in imagePaths_train:\n",
    "    #print(imagePath)\n",
    "    # load the image, pre-process it, and store it in the data list\n",
    "    image = cv2.imread(imagePath, 0)\n",
    "    image = img_to_array(image)\n",
    "    train_feature.append(image)\n",
    "for imagePath in imagePaths_test:\n",
    "    #print(imagePath)\n",
    "    # load the image, pre-process it, and store it in the data list\n",
    "    image = cv2.imread(imagePath, 0)\n",
    "    image = img_to_array(image)\n",
    "    test_feature.append(image)"
   ]
  },
  {
   "cell_type": "code",
   "execution_count": 7,
   "metadata": {},
   "outputs": [
    {
     "name": "stdout",
     "output_type": "stream",
     "text": [
      "Train Data shape:(40, 32, 32, 1)\n",
      "Test Data shape:(10, 32, 32, 1)\n",
      "Train Label shape:(40,)\n",
      "Test Label shape:(10,)\n"
     ]
    }
   ],
   "source": [
    "train_feature = np.array(train_feature, dtype=\"float\")\n",
    "test_feature = np.array(test_feature, dtype=\"float\")\n",
    "train_label = np.array(train_label)\n",
    "test_label = np.array(test_label)\n",
    "\n",
    "print(\"Train Data shape:\" + str(train_feature.shape))\n",
    "print(\"Test Data shape:\" + str(test_feature.shape))\n",
    "print(\"Train Label shape:\" + str(train_label.shape))\n",
    "print(\"Test Label shape:\" + str(test_label.shape))"
   ]
  },
  {
   "cell_type": "code",
   "execution_count": 8,
   "metadata": {},
   "outputs": [],
   "source": [
    "def show_image(image):\n",
    "    fig = plt.gcf()\n",
    "    fig.set_size_inches(2, 2)\n",
    "    plt.imshow(image, cmap='gray')\n",
    "    plt.show() \n",
    "\n",
    "def show_images_labels_predictions(images,labels,\n",
    "                                  predictions,start_id,num=10):\n",
    "    plt.gcf().set_size_inches(12, 14)\n",
    "    if num>25: num=25 \n",
    "    for i in range(0, num):\n",
    "        ax=plt.subplot(5,5, 1+i)\n",
    "        #顯示黑白圖片\n",
    "        ax.imshow(images[start_id], cmap='gray')\n",
    "        \n",
    "        # 有 AI 預測結果資料, 才在標題顯示預測結果\n",
    "        if( len(predictions) > 0 ) :\n",
    "            title = 'ai = ' + str(predictions[start_id])\n",
    "            # 預測正確顯示(o), 錯誤顯示(x)\n",
    "            title += (' (o)' if predictions[start_id]==labels[start_id] else ' (x)') \n",
    "            title += '\\nlabel = ' + str(labels[start_id])\n",
    "        # 沒有 AI 預測結果資料, 只在標題顯示真實數值\n",
    "        else :\n",
    "            title = 'label = ' + str(labels[start_id])\n",
    "            \n",
    "        # X, Y 軸不顯示刻度    \n",
    "        ax.set_title(title,fontsize=12) \n",
    "        ax.set_xticks([]);ax.set_yticks([])        \n",
    "        start_id+=1 \n",
    "    plt.show()"
   ]
  },
  {
   "cell_type": "code",
   "execution_count": 9,
   "metadata": {},
   "outputs": [
    {
     "data": {
      "image/png": "[encoded data removed]",
      "text/plain": [
       "<Figure size 864x1008 with 25 Axes>"
      ]
     },
     "metadata": {},
     "output_type": "display_data"
    },
    {
     "data": {
      "image/png": "[encoded data removed]",
      "text/plain": [
       "<Figure size 864x1008 with 10 Axes>"
      ]
     },
     "metadata": {},
     "output_type": "display_data"
    }
   ],
   "source": [
    "show_images_labels_predictions(train_feature,train_label,[],0,40)\n",
    "show_images_labels_predictions(test_feature,test_label,[],0,10)"
   ]
  },
  {
   "cell_type": "code",
   "execution_count": 10,
   "metadata": {},
   "outputs": [
    {
     "name": "stdout",
     "output_type": "stream",
     "text": [
      "[[0. 0. 0. ... 0. 0. 0.]\n",
      " [0. 0. 0. ... 0. 0. 0.]\n",
      " [0. 0. 3. ... 0. 0. 1.]\n",
      " ...\n",
      " [0. 0. 2. ... 1. 0. 0.]\n",
      " [1. 0. 1. ... 0. 0. 0.]\n",
      " [1. 1. 0. ... 0. 0. 0.]]\n",
      "(40, 1024)\n"
     ]
    }
   ],
   "source": [
    "#將 Features 特徵值轉換為 784個 float 數字的 1 維向量\n",
    "train_feature_vector =train_feature.reshape(len(train_feature), 1024).astype('float32')\n",
    "test_feature_vector = test_feature.reshape(len( test_feature), 1024).astype('float32')\n",
    "print(train_feature_vector)\n",
    "print(train_feature_vector.shape)"
   ]
  },
  {
   "cell_type": "code",
   "execution_count": 11,
   "metadata": {},
   "outputs": [
    {
     "name": "stdout",
     "output_type": "stream",
     "text": [
      "[[0.         0.         0.         ... 0.         0.         0.        ]\n",
      " [0.         0.         0.         ... 0.         0.         0.        ]\n",
      " [0.         0.         0.01176471 ... 0.         0.         0.00392157]\n",
      " ...\n",
      " [0.         0.         0.00784314 ... 0.00392157 0.         0.        ]\n",
      " [0.00392157 0.         0.00392157 ... 0.         0.         0.        ]\n",
      " [0.00392157 0.00392157 0.         ... 0.         0.         0.        ]]\n"
     ]
    }
   ],
   "source": [
    "#Features 特徵值標準化\n",
    "train_feature_normalize = train_feature_vector/255\n",
    "test_feature_normalize = test_feature_vector/255\n",
    "print(train_feature_normalize)"
   ]
  },
  {
   "cell_type": "code",
   "execution_count": 12,
   "metadata": {},
   "outputs": [
    {
     "name": "stdout",
     "output_type": "stream",
     "text": [
      "[[1. 0.]\n",
      " [1. 0.]\n",
      " [1. 0.]\n",
      " [1. 0.]\n",
      " [1. 0.]\n",
      " [0. 1.]\n",
      " [0. 1.]\n",
      " [0. 1.]\n",
      " [0. 1.]\n",
      " [0. 1.]]\n"
     ]
    }
   ],
   "source": [
    "#label 轉換為 One-Hot Encoding 編碼\n",
    "train_label_onehot = to_categorical(train_label)\n",
    "test_label_onehot = to_categorical(test_label)\n",
    "print(test_label_onehot)"
   ]
  },
  {
   "cell_type": "code",
   "execution_count": 13,
   "metadata": {},
   "outputs": [
    {
     "name": "stdout",
     "output_type": "stream",
     "text": [
      "Model: \"sequential\"\n",
      "_________________________________________________________________\n",
      " Layer (type)                Output Shape              Param #   \n",
      "=================================================================\n",
      " dense (Dense)               (None, 256)               262400    \n",
      "                                                                 \n",
      " dense_1 (Dense)             (None, 2)                 514       \n",
      "                                                                 \n",
      "=================================================================\n",
      "Total params: 262,914\n",
      "Trainable params: 262,914\n",
      "Non-trainable params: 0\n",
      "_________________________________________________________________\n"
     ]
    }
   ],
   "source": [
    "#建立模型\n",
    "model = Sequential()\n",
    "#輸入層：1024, 隱藏層：256，輸出層：2\n",
    "model.add(Dense(units=256, \n",
    "                input_dim=1024, \n",
    "                kernel_initializer='normal', \n",
    "                activation='relu'))\n",
    "model.add(Dense(units=2, \n",
    "                kernel_initializer='normal', \n",
    "                activation='softmax'))\n",
    "model.summary()  # 模型可視化"
   ]
  },
  {
   "cell_type": "code",
   "execution_count": 14,
   "metadata": {
    "scrolled": true
   },
   "outputs": [
    {
     "name": "stdout",
     "output_type": "stream",
     "text": [
      "Epoch 1/20\n",
      "8/8 - 1s - loss: 0.7235 - accuracy: 0.3750 - val_loss: 0.7542 - val_accuracy: 0.5000 - 623ms/epoch - 78ms/step\n",
      "Epoch 2/20\n",
      "8/8 - 0s - loss: 0.2580 - accuracy: 0.9688 - val_loss: 0.6343 - val_accuracy: 0.6250 - 52ms/epoch - 7ms/step\n",
      "Epoch 3/20\n",
      "8/8 - 0s - loss: 0.1106 - accuracy: 1.0000 - val_loss: 0.4899 - val_accuracy: 0.8750 - 54ms/epoch - 7ms/step\n",
      "Epoch 4/20\n",
      "8/8 - 0s - loss: 0.0516 - accuracy: 1.0000 - val_loss: 0.3734 - val_accuracy: 0.8750 - 45ms/epoch - 6ms/step\n",
      "Epoch 5/20\n",
      "8/8 - 0s - loss: 0.0268 - accuracy: 1.0000 - val_loss: 0.3213 - val_accuracy: 0.8750 - 45ms/epoch - 6ms/step\n",
      "Epoch 6/20\n",
      "8/8 - 0s - loss: 0.0165 - accuracy: 1.0000 - val_loss: 0.2847 - val_accuracy: 0.8750 - 52ms/epoch - 6ms/step\n",
      "Epoch 7/20\n",
      "8/8 - 0s - loss: 0.0112 - accuracy: 1.0000 - val_loss: 0.2747 - val_accuracy: 0.8750 - 55ms/epoch - 7ms/step\n",
      "Epoch 8/20\n",
      "8/8 - 0s - loss: 0.0082 - accuracy: 1.0000 - val_loss: 0.2718 - val_accuracy: 0.8750 - 49ms/epoch - 6ms/step\n",
      "Epoch 9/20\n",
      "8/8 - 0s - loss: 0.0064 - accuracy: 1.0000 - val_loss: 0.2637 - val_accuracy: 0.8750 - 54ms/epoch - 7ms/step\n",
      "Epoch 10/20\n",
      "8/8 - 0s - loss: 0.0051 - accuracy: 1.0000 - val_loss: 0.2595 - val_accuracy: 0.8750 - 44ms/epoch - 5ms/step\n",
      "Epoch 11/20\n",
      "8/8 - 0s - loss: 0.0042 - accuracy: 1.0000 - val_loss: 0.2515 - val_accuracy: 0.8750 - 59ms/epoch - 7ms/step\n",
      "Epoch 12/20\n",
      "8/8 - 0s - loss: 0.0036 - accuracy: 1.0000 - val_loss: 0.2454 - val_accuracy: 0.8750 - 56ms/epoch - 7ms/step\n",
      "Epoch 13/20\n",
      "8/8 - 0s - loss: 0.0031 - accuracy: 1.0000 - val_loss: 0.2411 - val_accuracy: 0.8750 - 43ms/epoch - 5ms/step\n",
      "Epoch 14/20\n",
      "8/8 - 0s - loss: 0.0027 - accuracy: 1.0000 - val_loss: 0.2384 - val_accuracy: 0.8750 - 48ms/epoch - 6ms/step\n",
      "Epoch 15/20\n",
      "8/8 - 0s - loss: 0.0023 - accuracy: 1.0000 - val_loss: 0.2316 - val_accuracy: 0.8750 - 47ms/epoch - 6ms/step\n",
      "Epoch 16/20\n",
      "8/8 - 0s - loss: 0.0021 - accuracy: 1.0000 - val_loss: 0.2242 - val_accuracy: 0.8750 - 47ms/epoch - 6ms/step\n",
      "Epoch 17/20\n",
      "8/8 - 0s - loss: 0.0018 - accuracy: 1.0000 - val_loss: 0.2236 - val_accuracy: 0.8750 - 48ms/epoch - 6ms/step\n",
      "Epoch 18/20\n",
      "8/8 - 0s - loss: 0.0016 - accuracy: 1.0000 - val_loss: 0.2220 - val_accuracy: 0.8750 - 58ms/epoch - 7ms/step\n",
      "Epoch 19/20\n",
      "8/8 - 0s - loss: 0.0015 - accuracy: 1.0000 - val_loss: 0.2175 - val_accuracy: 0.8750 - 63ms/epoch - 8ms/step\n",
      "Epoch 20/20\n",
      "8/8 - 0s - loss: 0.0013 - accuracy: 1.0000 - val_loss: 0.2146 - val_accuracy: 0.8750 - 57ms/epoch - 7ms/step\n"
     ]
    }
   ],
   "source": [
    "#定義訓練方式\n",
    "model.compile(loss='categorical_crossentropy', \n",
    "              optimizer='adam', metrics=['accuracy'])\n",
    "\n",
    "#以(train_feature_normalize,train_label_onehot)資料訓練，\n",
    "#訓練資料保留 20% 作驗證,訓練20次、每批次讀取4筆資料，顯示簡易訓練過程\n",
    "train_history =model.fit(x=train_feature_normalize,\n",
    "                         y=train_label_onehot,validation_split=0.2, \n",
    "                         epochs=20, batch_size=4,verbose=2)"
   ]
  },
  {
   "cell_type": "code",
   "execution_count": 15,
   "metadata": {},
   "outputs": [
    {
     "name": "stdout",
     "output_type": "stream",
     "text": [
      "1/1 [==============================] - 0s 208ms/step - loss: 0.2466 - accuracy: 0.9000\n",
      "\n",
      "準確率= 0.8999999761581421\n"
     ]
    }
   ],
   "source": [
    "#評估準確率\n",
    "scores = model.evaluate(test_feature_normalize, test_label_onehot)\n",
    "print('\\n準確率=',scores[1])"
   ]
  },
  {
   "cell_type": "code",
   "execution_count": 16,
   "metadata": {},
   "outputs": [],
   "source": [
    "#將模型儲存至 HDF5檔案中\n",
    "model.save('OK_canny_model.h5')"
   ]
  },
  {
   "cell_type": "code",
   "execution_count": null,
   "metadata": {},
   "outputs": [],
   "source": []
  }
 ],
 "metadata": {
  "kernelspec": {
   "display_name": "Python 3 (ipykernel)",
   "language": "python",
   "name": "python3"
  },
  "language_info": {
   "codemirror_mode": {
    "name": "ipython",
    "version": 3
   },
   "file_extension": ".py",
   "mimetype": "text/x-python",
   "name": "python",
   "nbconvert_exporter": "python",
   "pygments_lexer": "ipython3",
   "version": "3.8.10"
  }
 },
 "nbformat": 4,
 "nbformat_minor": 2
}

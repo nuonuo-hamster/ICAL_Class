{
 "cells": [
  {
   "cell_type": "code",
   "execution_count": 24,
   "metadata": {},
   "outputs": [],
   "source": [
    "import numpy as np\n",
    "import cv2 as cv\n",
    "import os\n",
    "import matplotlib.pyplot as plt\n",
    "\n",
    "from imutils import paths\n",
    "from tensorflow.keras.preprocessing.image import img_to_array\n",
    "from tensorflow.keras.utils import to_categorical\n",
    "from tensorflow.keras.layers import *\n",
    "from tensorflow.keras.models import *"
   ]
  },
  {
   "cell_type": "code",
   "execution_count": 25,
   "metadata": {},
   "outputs": [],
   "source": [
    "#定義LBP演算法的函數\n",
    "def lbp(img):\n",
    "    assert(len(img.shape) == 2) # LBP只接受灰階影像\n",
    "    ret = np.zeros_like(img)\n",
    "    \n",
    "    # 將圖片擴大，為了可以處理邊界\n",
    "    img = cv.copyMakeBorder(img, 1, 1, 1, 1, cv.BORDER_REPLICATE)\n",
    "    \n",
    "    for y in range(1, img.shape[0] - 1):\n",
    "        for x in range(1, img.shape[1] - 1):\n",
    "            center = img[y][x]\n",
    "            pixel = 0\n",
    "            pixel |= (img[y - 1][x - 1] >= center) << 0\n",
    "            pixel |= (img[y - 1][x + 0] >= center) << 1\n",
    "            pixel |= (img[y - 1][x + 1] >= center) << 2\n",
    "            pixel |= (img[y + 0][x + 1] >= center) << 3\n",
    "            pixel |= (img[y + 1][x + 1] >= center) << 4\n",
    "            pixel |= (img[y + 1][x + 0] >= center) << 5\n",
    "            pixel |= (img[y + 1][x - 1] >= center) << 6\n",
    "            pixel |= (img[y + 0][x - 1] >= center) << 7\n",
    "            \n",
    "            ret[y-1][x-1] = pixel\n",
    "    return ret"
   ]
  },
  {
   "cell_type": "code",
   "execution_count": 26,
   "metadata": {},
   "outputs": [],
   "source": [
    "#讀取經LBP處理圖像之位址\n",
    "imagePaths_train = sorted(list(paths.list_images(\".\\\\Dataset\\\\OK\\\\LBP\\\\train\")))\n",
    "imagePaths_test = sorted(list(paths.list_images(\".\\\\Dataset\\\\OK\\\\LBP\\\\test\")))\n",
    "\n",
    "train_feature = []\n",
    "train_label = [0, 0, 0, 0, 0, 0, 0, 0, 0, 0, 0, 0, 0, 0, 0, 0, 0, 0, 0, 0, 1, 1, 1, 1, 1, 1, 1, 1, 1, 1, 1, 1, 1, 1, 1, 1, 1, 1, 1, 1]\n",
    "test_feature = []\n",
    "test_label = [0, 0, 0, 0, 0, 1, 1, 1, 1, 1]\n",
    "\n",
    "for imagePath in imagePaths_train:\n",
    "    img = cv.imread(imagePath)\n",
    "    gray = cv.cvtColor(img, cv.COLOR_BGR2GRAY) # 將影像轉為灰階\n",
    "    lbpImage = lbp(gray)\n",
    "    \n",
    "    #計算直方圖\n",
    "    hist = cv.calcHist([lbpImage], [0], None, [256], [0, 256])\n",
    "    train_feature.append(hist)\n",
    "for imagePath in imagePaths_test:\n",
    "    img = cv.imread(imagePath)\n",
    "    gray = cv.cvtColor(img, cv.COLOR_BGR2GRAY) # 將影像轉為灰階\n",
    "    lbpImage = lbp(gray)\n",
    "    \n",
    "    #計算直方圖\n",
    "    hist = cv.calcHist([lbpImage], [0], None, [256], [0, 256])\n",
    "    test_feature.append(hist)"
   ]
  },
  {
   "cell_type": "code",
   "execution_count": 27,
   "metadata": {},
   "outputs": [
    {
     "name": "stdout",
     "output_type": "stream",
     "text": [
      "Train Data shape:(40, 256)\n",
      "Test Data shape:(10, 256)\n",
      "Train Label shape:(40,)\n",
      "Test Label shape:(10,)\n"
     ]
    }
   ],
   "source": [
    "train_feature = np.array(train_feature, dtype=\"float\")\n",
    "test_feature = np.array(test_feature, dtype=\"float\")\n",
    "train_label = np.array(train_label)\n",
    "test_label = np.array(test_label)\n",
    "\n",
    "train_feature = np.reshape(train_feature, (40, 256))\n",
    "test_feature = np.reshape(test_feature, (10, 256))\n",
    "\n",
    "print(\"Train Data shape:\" + str(train_feature.shape))\n",
    "print(\"Test Data shape:\" + str(test_feature.shape))\n",
    "print(\"Train Label shape:\" + str(train_label.shape))\n",
    "print(\"Test Label shape:\" + str(test_label.shape))"
   ]
  },
  {
   "cell_type": "code",
   "execution_count": 28,
   "metadata": {},
   "outputs": [
    {
     "name": "stdout",
     "output_type": "stream",
     "text": [
      "[[  0.   0.   0. ...   0.   9. 892.]\n",
      " [  0.   0.   0. ...   0.   9. 908.]\n",
      " [  0.   0.   0. ...   0.   6. 861.]\n",
      " ...\n",
      " [  0.   0.   0. ...   0.  11. 891.]\n",
      " [  0.   0.   0. ...   0.  13. 879.]\n",
      " [  0.   0.   0. ...   0.  10. 887.]]\n",
      "(40, 256)\n"
     ]
    }
   ],
   "source": [
    "print(train_feature)\n",
    "print(train_feature.shape)"
   ]
  },
  {
   "cell_type": "code",
   "execution_count": 29,
   "metadata": {},
   "outputs": [
    {
     "name": "stdout",
     "output_type": "stream",
     "text": [
      "[[1. 0.]\n",
      " [1. 0.]\n",
      " [1. 0.]\n",
      " [1. 0.]\n",
      " [1. 0.]\n",
      " [0. 1.]\n",
      " [0. 1.]\n",
      " [0. 1.]\n",
      " [0. 1.]\n",
      " [0. 1.]]\n"
     ]
    }
   ],
   "source": [
    "#label 轉換為 One-Hot Encoding 編碼\n",
    "train_label_onehot = to_categorical(train_label)\n",
    "test_label_onehot = to_categorical(test_label)\n",
    "print(test_label_onehot)"
   ]
  },
  {
   "cell_type": "code",
   "execution_count": 30,
   "metadata": {},
   "outputs": [
    {
     "name": "stdout",
     "output_type": "stream",
     "text": [
      "Model: \"sequential_1\"\n",
      "_________________________________________________________________\n",
      " Layer (type)                Output Shape              Param #   \n",
      "=================================================================\n",
      " dense_2 (Dense)             (None, 25)                6425      \n",
      "                                                                 \n",
      " dense_3 (Dense)             (None, 2)                 52        \n",
      "                                                                 \n",
      "=================================================================\n",
      "Total params: 6477 (25.30 KB)\n",
      "Trainable params: 6477 (25.30 KB)\n",
      "Non-trainable params: 0 (0.00 Byte)\n"
     ]
    },
    {
     "name": "stdout",
     "output_type": "stream",
     "text": [
      "_________________________________________________________________\n"
     ]
    }
   ],
   "source": [
    "#建立模型\n",
    "model = Sequential()\n",
    "#輸入層：256, 隱藏層：25，輸出層：2\n",
    "model.add(Dense(units=25, \n",
    "                input_dim=256, \n",
    "                kernel_initializer='normal', \n",
    "                activation='relu'))\n",
    "#model.add(Dense(units=25,  \n",
    "#                kernel_initializer='normal', \n",
    "#                activation='relu'))\n",
    "model.add(Dense(units=2, \n",
    "                kernel_initializer='normal', \n",
    "                activation='softmax'))\n",
    "model.summary()  # 模型可視化"
   ]
  },
  {
   "cell_type": "code",
   "execution_count": 31,
   "metadata": {},
   "outputs": [
    {
     "name": "stdout",
     "output_type": "stream",
     "text": [
      "Epoch 1/20\n",
      "8/8 - 0s - loss: 1.1723 - accuracy: 0.4375 - val_loss: 1.6541 - val_accuracy: 0.0000e+00 - 389ms/epoch - 49ms/step\n",
      "Epoch 2/20\n",
      "8/8 - 0s - loss: 0.5835 - accuracy: 0.7812 - val_loss: 0.5324 - val_accuracy: 1.0000 - 33ms/epoch - 4ms/step\n",
      "Epoch 3/20\n",
      "8/8 - 0s - loss: 0.6157 - accuracy: 0.6875 - val_loss: 1.0388 - val_accuracy: 0.0000e+00 - 28ms/epoch - 4ms/step\n",
      "Epoch 4/20\n",
      "8/8 - 0s - loss: 0.6927 - accuracy: 0.6250 - val_loss: 0.7120 - val_accuracy: 0.5000 - 29ms/epoch - 4ms/step\n",
      "Epoch 5/20\n",
      "8/8 - 0s - loss: 0.5450 - accuracy: 0.7188 - val_loss: 0.7707 - val_accuracy: 0.3750 - 30ms/epoch - 4ms/step\n",
      "Epoch 6/20\n",
      "8/8 - 0s - loss: 0.5527 - accuracy: 0.6250 - val_loss: 0.5764 - val_accuracy: 0.7500 - 33ms/epoch - 4ms/step\n",
      "Epoch 7/20\n",
      "8/8 - 0s - loss: 0.5543 - accuracy: 0.6562 - val_loss: 0.5638 - val_accuracy: 0.7500 - 33ms/epoch - 4ms/step\n",
      "Epoch 8/20\n",
      "8/8 - 0s - loss: 0.4928 - accuracy: 0.9375 - val_loss: 0.5254 - val_accuracy: 0.7500 - 33ms/epoch - 4ms/step\n",
      "Epoch 9/20\n",
      "8/8 - 0s - loss: 0.4809 - accuracy: 0.7812 - val_loss: 0.6971 - val_accuracy: 0.5000 - 39ms/epoch - 5ms/step\n",
      "Epoch 10/20\n",
      "8/8 - 0s - loss: 0.4501 - accuracy: 0.8125 - val_loss: 0.4200 - val_accuracy: 1.0000 - 33ms/epoch - 4ms/step\n",
      "Epoch 11/20\n",
      "8/8 - 0s - loss: 0.4505 - accuracy: 0.9062 - val_loss: 0.7972 - val_accuracy: 0.5000 - 34ms/epoch - 4ms/step\n",
      "Epoch 12/20\n",
      "8/8 - 0s - loss: 0.4671 - accuracy: 0.6562 - val_loss: 0.3585 - val_accuracy: 1.0000 - 26ms/epoch - 3ms/step\n",
      "Epoch 13/20\n",
      "8/8 - 0s - loss: 0.4748 - accuracy: 0.8438 - val_loss: 0.6378 - val_accuracy: 0.6250 - 34ms/epoch - 4ms/step\n",
      "Epoch 14/20\n",
      "8/8 - 0s - loss: 0.5423 - accuracy: 0.6875 - val_loss: 0.3821 - val_accuracy: 0.8750 - 29ms/epoch - 4ms/step\n",
      "Epoch 15/20\n",
      "8/8 - 0s - loss: 0.3951 - accuracy: 0.9062 - val_loss: 0.4215 - val_accuracy: 0.7500 - 33ms/epoch - 4ms/step\n",
      "Epoch 16/20\n",
      "8/8 - 0s - loss: 0.3516 - accuracy: 0.8125 - val_loss: 0.5040 - val_accuracy: 0.7500 - 33ms/epoch - 4ms/step\n",
      "Epoch 17/20\n",
      "8/8 - 0s - loss: 0.3805 - accuracy: 0.8750 - val_loss: 0.4873 - val_accuracy: 0.7500 - 33ms/epoch - 4ms/step\n",
      "Epoch 18/20\n",
      "8/8 - 0s - loss: 0.4011 - accuracy: 0.8125 - val_loss: 0.2920 - val_accuracy: 1.0000 - 29ms/epoch - 4ms/step\n",
      "Epoch 19/20\n",
      "8/8 - 0s - loss: 0.3276 - accuracy: 0.9375 - val_loss: 0.3038 - val_accuracy: 1.0000 - 25ms/epoch - 3ms/step\n",
      "Epoch 20/20\n",
      "8/8 - 0s - loss: 0.2898 - accuracy: 0.9375 - val_loss: 0.4686 - val_accuracy: 0.7500 - 30ms/epoch - 4ms/step\n"
     ]
    }
   ],
   "source": [
    "#定義訓練方式\n",
    "model.compile(loss='categorical_crossentropy', \n",
    "              optimizer='adam', metrics=['accuracy'])\n",
    "\n",
    "#以(train_feature_normalize,train_label_onehot)資料訓練\n",
    "train_history =model.fit(x=train_feature,\n",
    "                         y=train_label_onehot,validation_split=0.2, \n",
    "                         epochs=20, batch_size=4,verbose=2)"
   ]
  },
  {
   "cell_type": "code",
   "execution_count": 32,
   "metadata": {},
   "outputs": [
    {
     "name": "stdout",
     "output_type": "stream",
     "text": [
      "1/1 [==============================] - 0s 84ms/step - loss: 0.5659 - accuracy: 0.7000\n",
      "\n",
      "準確率= 0.699999988079071\n"
     ]
    }
   ],
   "source": [
    "#評估準確率\n",
    "scores = model.evaluate(test_feature, test_label_onehot)\n",
    "print('\\n準確率=',scores[1])"
   ]
  },
  {
   "cell_type": "code",
   "execution_count": 33,
   "metadata": {},
   "outputs": [
    {
     "name": "stdout",
     "output_type": "stream",
     "text": [
      "1/1 [==============================] - 0s 42ms/step\n"
     ]
    }
   ],
   "source": [
    "predict=model.predict(test_feature)\n",
    "prediction=np.argmax(predict,axis=1)"
   ]
  },
  {
   "cell_type": "code",
   "execution_count": 34,
   "metadata": {},
   "outputs": [
    {
     "name": "stdout",
     "output_type": "stream",
     "text": [
      "[0 0 0 0 0 1 0 0 1 0]\n"
     ]
    }
   ],
   "source": [
    "print(np.argmax(predict, axis=1))"
   ]
  },
  {
   "cell_type": "code",
   "execution_count": 35,
   "metadata": {
    "scrolled": false
   },
   "outputs": [
    {
     "name": "stdout",
     "output_type": "stream",
     "text": [
      ".\\Dataset\\OK\\LBP\\test\\0.png\n",
      ".\\Dataset\\OK\\LBP\\test\\01.png\n",
      ".\\Dataset\\OK\\LBP\\test\\02.png\n",
      ".\\Dataset\\OK\\LBP\\test\\03.png\n",
      ".\\Dataset\\OK\\LBP\\test\\04.png\n",
      ".\\Dataset\\OK\\LBP\\test\\05.png\n",
      ".\\Dataset\\OK\\LBP\\test\\06.png\n",
      ".\\Dataset\\OK\\LBP\\test\\07.png\n",
      ".\\Dataset\\OK\\LBP\\test\\08.png\n",
      ".\\Dataset\\OK\\LBP\\test\\09.png\n"
     ]
    }
   ],
   "source": [
    "test_path = sorted(list(paths.list_images(\".\\\\Dataset\\\\OK\\\\LBP\\\\test\")))\n",
    "test = []\n",
    "\n",
    "for imagePath in test_path:\n",
    "    print(imagePath)\n",
    "    # load the image, pre-process it, and store it in the data list\n",
    "    image = cv.imread(imagePath)\n",
    "    image = img_to_array(image)\n",
    "    test.append(image)\n",
    "test = np.array(test, dtype=\"float\")\n",
    "test = test/255"
   ]
  },
  {
   "cell_type": "code",
   "execution_count": 36,
   "metadata": {},
   "outputs": [],
   "source": [
    "# 顯示圖片及預測結果的函數\n",
    "import random\n",
    "\n",
    "def plot_images_labels_prediction(images, labels, prediction=[], names=[], predictions_array=[], num=20):\n",
    "    # 取得 pyplot 物件參考\n",
    "    fig = plt.gcf()\n",
    "\n",
    "    # 設定畫布大小為 12 吋*14吋\n",
    "    fig.set_size_inches(12, 14)\n",
    "\n",
    "    idx = random.randint(0, images.shape[0] - 1)\n",
    "\n",
    "    # 限制最多顯示 20 個子圖\n",
    "    if num > 20: num = 20\n",
    "\n",
    "    # 依序顯示 num 個子圖\n",
    "    for i in range(0, num):\n",
    "        # 建立 5*5 個子圖中的第 i+1 個 \n",
    "        ax = plt.subplot(5, 5, i + 1)\n",
    "\n",
    "        # 顯示子圖\n",
    "        ax.imshow(images[idx], cmap='gray')\n",
    "\n",
    "        title = \"\"\n",
    "        color = 'black'\n",
    "        label = labels[idx]\n",
    "        pred = None\n",
    "\n",
    "        # 有預測值就加入標題中\n",
    "        if len(prediction) > 0:\n",
    "            if prediction[idx] != labels[idx]:\n",
    "                color = 'red'\n",
    "                confidence = 100 * np.min(predictions_array[idx])\n",
    "            else:\n",
    "                color = 'blue'\n",
    "                confidence = 100 * np.max(predictions_array[idx])\n",
    "            pred = prediction[idx]\n",
    "        \n",
    "        if len(names) > 0:\n",
    "            # print(names)\n",
    "            # print(label)\n",
    "            label = names[label]\n",
    "            if pred != None:\n",
    "                pred = names[pred]\n",
    "\n",
    "        title = \"label = \" + str(label)\n",
    "        if pred != None: title += \"\\npredict = \" + str(pred)\n",
    "\n",
    "        title = \"{}\\nscore={:2.2f}%\".format(title, confidence)\n",
    "\n",
    "        # 設定標題\n",
    "        ax.set_title(title, fontsize=10, color=color) \n",
    "        \n",
    "        # 不顯示 x 、y軸刻度\n",
    "        ax.set_xticks([]);  \n",
    "        ax.set_yticks([]);\n",
    "        \n",
    "        # 樣本序號增量 1\n",
    "        idx += 1    \n",
    "        if idx >= images.shape[0]:\n",
    "            idx = 0\n",
    "    \n",
    "    # 繪製圖形\n",
    "    plt.subplots_adjust(wspace=0.6, hspace=0.6)\n",
    "    plt.show()"
   ]
  },
  {
   "cell_type": "code",
   "execution_count": 37,
   "metadata": {},
   "outputs": [
    {
     "data": {
      "image/png": "[encoded data removed]",
      "text/plain": [
       "<Figure size 1200x1400 with 20 Axes>"
      ]
     },
     "metadata": {},
     "output_type": "display_data"
    }
   ],
   "source": [
    "NAMES = ['O', 'K']\n",
    "plot_images_labels_prediction(test, np.argmax(test_label_onehot, axis=1), np.argmax(predict, axis=1), NAMES, predictions_array=predict)"
   ]
  },
  {
   "cell_type": "code",
   "execution_count": null,
   "metadata": {},
   "outputs": [],
   "source": []
  }
 ],
 "metadata": {
  "kernelspec": {
   "display_name": "Python 3 (ipykernel)",
   "language": "python",
   "name": "python3"
  },
  "language_info": {
   "codemirror_mode": {
    "name": "ipython",
    "version": 3
   },
   "file_extension": ".py",
   "mimetype": "text/x-python",
   "name": "python",
   "nbconvert_exporter": "python",
   "pygments_lexer": "ipython3",
   "version": "3.10.8"
  }
 },
 "nbformat": 4,
 "nbformat_minor": 2
}

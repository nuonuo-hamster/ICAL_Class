{
 "cells": [
  {
   "cell_type": "code",
   "execution_count": 1,
   "id": "advisory-march",
   "metadata": {},
   "outputs": [
    {
     "name": "stdout",
     "output_type": "stream",
     "text": [
      "WARNING:tensorflow:From c:\\01_MLP\\01_MLP\\mlpenv\\lib\\site-packages\\keras\\src\\losses.py:2976: The name tf.losses.sparse_softmax_cross_entropy is deprecated. Please use tf.compat.v1.losses.sparse_softmax_cross_entropy instead.\n",
      "\n"
     ]
    }
   ],
   "source": [
    "import tensorflow as tf\n",
    "import pandas as pd\n",
    "import numpy as np\n",
    "import keras\n",
    "import cv2\n",
    "import os\n",
    "import matplotlib.pyplot as plt\n",
    "\n",
    "from imutils import paths\n",
    "from tensorflow.keras.preprocessing.image import img_to_array\n",
    "from tensorflow.keras.utils import to_categorical\n",
    "from tensorflow.keras.layers import *\n",
    "from tensorflow.keras.models import *\n",
    "from keras.models import load_model"
   ]
  },
  {
   "cell_type": "markdown",
   "id": "f3bc8dc6",
   "metadata": {},
   "source": [
    "## 載入測試資料"
   ]
  },
  {
   "cell_type": "code",
   "execution_count": 2,
   "id": "directed-mentor",
   "metadata": {},
   "outputs": [],
   "source": [
    "imagePaths_train = sorted(list(paths.list_images(\".\\\\Dataset\\\\OK\\\\train\")))\n",
    "imagePaths_test = sorted(list(paths.list_images(\".\\\\Dataset\\\\OK\\\\test\")))\n",
    "\n",
    "#IMAGE_DIMS = (32, 32, 3)\n",
    "train_feature = []\n",
    "train_label = [0, 0, 0, 0, 0, 0, 0, 0, 0, 0, 0, 0, 0, 0, 0, 0, 0, 0, 0, 0, 1, 1, 1, 1, 1, 1, 1, 1, 1, 1, 1, 1, 1, 1, 1, 1, 1, 1, 1, 1]\n",
    "test_feature = []\n",
    "test_label = [0, 0, 0, 0, 0, 1, 1, 1, 1, 1]"
   ]
  },
  {
   "cell_type": "code",
   "execution_count": 3,
   "id": "96f4942d",
   "metadata": {},
   "outputs": [],
   "source": [
    "for imagePath in imagePaths_train:\n",
    "    #print(imagePath)\n",
    "    # load the image, pre-process it, and store it in the data list\n",
    "    image = cv2.imread(imagePath, 0)\n",
    "    image = img_to_array(image)\n",
    "    train_feature.append(image)\n",
    "for imagePath in imagePaths_test:\n",
    "    #print(imagePath)\n",
    "    # load the image, pre-process it, and store it in the data list\n",
    "    image = cv2.imread(imagePath, 0)\n",
    "    image = img_to_array(image)\n",
    "    test_feature.append(image)"
   ]
  },
  {
   "cell_type": "code",
   "execution_count": 4,
   "id": "8a811c34",
   "metadata": {},
   "outputs": [],
   "source": [
    "train_feature = np.array(train_feature, dtype=\"float\")\n",
    "test_feature = np.array(test_feature, dtype=\"float\")\n",
    "train_label = np.array(train_label)\n",
    "test_label = np.array(test_label)\n",
    "\n",
    "#將 Features 特徵值轉換為 1024個 float 數字的 1 維向量\n",
    "test_feature_vector = test_feature.reshape(len( test_feature), 1024).astype('float32')\n",
    "#Features 特徵值標準化\n",
    "test_feature_normalize = test_feature_vector/255\n",
    "#label 轉換為 One-Hot Encoding 編碼\n",
    "test_label_onehot = to_categorical(test_label)"
   ]
  },
  {
   "cell_type": "markdown",
   "id": "c83230c9",
   "metadata": {},
   "source": [
    "## 載入訓練模型檔"
   ]
  },
  {
   "cell_type": "code",
   "execution_count": 5,
   "id": "59fad8be",
   "metadata": {},
   "outputs": [
    {
     "name": "stdout",
     "output_type": "stream",
     "text": [
      "WARNING:tensorflow:From c:\\01_MLP\\01_MLP\\mlpenv\\lib\\site-packages\\keras\\src\\backend.py:1398: The name tf.executing_eagerly_outside_functions is deprecated. Please use tf.compat.v1.executing_eagerly_outside_functions instead.\n",
      "\n"
     ]
    }
   ],
   "source": [
    "model = load_model('OK_mlp_model.h5')"
   ]
  },
  {
   "cell_type": "code",
   "execution_count": 6,
   "id": "7dae5794",
   "metadata": {},
   "outputs": [
    {
     "name": "stdout",
     "output_type": "stream",
     "text": [
      "1/1 [==============================] - 0s 65ms/step\n"
     ]
    }
   ],
   "source": [
    "#預測\n",
    "predict=model.predict(test_feature_normalize)\n",
    "prediction=np.argmax(predict,axis=1)"
   ]
  },
  {
   "cell_type": "code",
   "execution_count": 7,
   "id": "1245561a",
   "metadata": {},
   "outputs": [],
   "source": [
    "# 顯示圖片及預測結果的函數\n",
    "import random\n",
    "\n",
    "def plot_images_labels_prediction(images, labels, prediction=[], names=[], predictions_array=[], num=20):\n",
    "    # 取得 pyplot 物件參考\n",
    "    fig = plt.gcf()\n",
    "\n",
    "    # 設定畫布大小為 12 吋*14吋\n",
    "    fig.set_size_inches(12, 14)\n",
    "\n",
    "    idx = random.randint(0, images.shape[0] - 1)\n",
    "\n",
    "    # 限制最多顯示 20 個子圖\n",
    "    if num > 20: num = 20\n",
    "\n",
    "    # 依序顯示 num 個子圖\n",
    "    for i in range(0, num):\n",
    "        # 建立 5*5 個子圖中的第 i+1 個 \n",
    "        ax = plt.subplot(5, 5, i + 1)\n",
    "\n",
    "        # 顯示子圖\n",
    "        ax.imshow(images[idx], cmap='gray')\n",
    "\n",
    "        title = \"\"\n",
    "        color = 'black'\n",
    "        label = labels[idx]\n",
    "        pred = None\n",
    "\n",
    "        # 有預測值就加入標題中\n",
    "        if len(prediction) > 0:\n",
    "            if prediction[idx] != labels[idx]:\n",
    "                color = 'red'\n",
    "                confidence = 100 * np.min(predictions_array[idx])\n",
    "            else:\n",
    "                color = 'blue'\n",
    "                confidence = 100 * np.max(predictions_array[idx])\n",
    "            pred = prediction[idx]\n",
    "        \n",
    "        if len(names) > 0:\n",
    "            # print(names)\n",
    "            # print(label)\n",
    "            label = names[label]\n",
    "            if pred != None:\n",
    "                pred = names[pred]\n",
    "\n",
    "        title = \"label = \" + str(label)\n",
    "        if pred != None: title += \"\\npredict = \" + str(pred)\n",
    "\n",
    "        title = \"{}\\nscore={:2.2f}%\".format(title, confidence)\n",
    "\n",
    "        # 設定標題\n",
    "        ax.set_title(title, fontsize=10, color=color) \n",
    "        \n",
    "        # 不顯示 x 、y軸刻度\n",
    "        ax.set_xticks([]);  \n",
    "        ax.set_yticks([]);\n",
    "        \n",
    "        # 樣本序號增量 1\n",
    "        idx += 1    \n",
    "        if idx >= images.shape[0]:\n",
    "            idx = 0\n",
    "    \n",
    "    # 繪製圖形\n",
    "    plt.subplots_adjust(wspace=0.6, hspace=0.6)\n",
    "    plt.show()"
   ]
  },
  {
   "cell_type": "code",
   "execution_count": 9,
   "id": "6898bc91",
   "metadata": {},
   "outputs": [
    {
     "name": "stdout",
     "output_type": "stream",
     "text": [
      "(10, 32, 32, 1)\n",
      "[0 0 0 0 0 1 1 1 1 1]\n",
      "[0 0 0 0 1 1 1 1 1 1]\n"
     ]
    }
   ],
   "source": [
    "print(test_feature.shape)\n",
    "#圖片原標籤\n",
    "print(np.argmax(test_label_onehot, axis=1))\n",
    "#圖片預測後標籤\n",
    "print(np.argmax(predict, axis=1))"
   ]
  },
  {
   "cell_type": "code",
   "execution_count": 11,
   "id": "bb4ce312",
   "metadata": {},
   "outputs": [
    {
     "data": {
      "image/png": "[encoded data removed]",
      "text/plain": [
       "<Figure size 1200x1400 with 20 Axes>"
      ]
     },
     "metadata": {},
     "output_type": "display_data"
    }
   ],
   "source": [
    "#標籤名稱\n",
    "NAMES = ['O', 'K']\n",
    "plot_images_labels_prediction(test_feature, np.argmax(test_label_onehot, axis=1), np.argmax(predict, axis=1), NAMES, predictions_array=predict)"
   ]
  },
  {
   "cell_type": "code",
   "execution_count": null,
   "id": "368354e6",
   "metadata": {},
   "outputs": [],
   "source": []
  }
 ],
 "metadata": {
  "kernelspec": {
   "display_name": "Python 3 (ipykernel)",
   "language": "python",
   "name": "python3"
  },
  "language_info": {
   "codemirror_mode": {
    "name": "ipython",
    "version": 3
   },
   "file_extension": ".py",
   "mimetype": "text/x-python",
   "name": "python",
   "nbconvert_exporter": "python",
   "pygments_lexer": "ipython3",
   "version": "3.10.8"
  }
 },
 "nbformat": 4,
 "nbformat_minor": 5
}

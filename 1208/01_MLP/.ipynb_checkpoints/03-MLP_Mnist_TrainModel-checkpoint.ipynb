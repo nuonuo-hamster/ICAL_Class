{
 "cells": [
  {
   "cell_type": "code",
   "execution_count": 25,
   "id": "878c8147",
   "metadata": {},
   "outputs": [],
   "source": [
    "import numpy as np\n",
    "import matplotlib.pyplot as plt\n",
    "from keras.utils import np_utils\n",
    "np.random.seed(10)\n",
    "from keras.datasets import mnist\n",
    "from keras.models import Sequential\n",
    "from keras.layers import Dense"
   ]
  },
  {
   "cell_type": "code",
   "execution_count": 26,
   "id": "f8bfe217",
   "metadata": {},
   "outputs": [],
   "source": [
    "def show_image(image):\n",
    "    fig = plt.gcf()\n",
    "    fig.set_size_inches(2, 2)\n",
    "    plt.imshow(image, cmap='binary')\n",
    "    plt.show() \n",
    "\n",
    "def show_images_labels_predictions(images,labels,\n",
    "                                  predictions,start_id,num=10):\n",
    "    plt.gcf().set_size_inches(12, 14)\n",
    "    if num>25: num=25 \n",
    "    for i in range(0, num):\n",
    "        ax=plt.subplot(5,5, 1+i)\n",
    "        #顯示黑白圖片\n",
    "        ax.imshow(images[start_id], cmap='binary')\n",
    "        \n",
    "        # 有 AI 預測結果資料, 才在標題顯示預測結果\n",
    "        if( len(predictions) > 0 ) :\n",
    "            title = 'ai = ' + str(predictions[start_id])\n",
    "            # 預測正確顯示(o), 錯誤顯示(x)\n",
    "            title += (' (o)' if predictions[start_id]==labels[start_id] else ' (x)') \n",
    "            title += '\\nlabel = ' + str(labels[start_id])\n",
    "        # 沒有 AI 預測結果資料, 只在標題顯示真實數值\n",
    "        else :\n",
    "            title = 'label = ' + str(labels[start_id])\n",
    "            \n",
    "        # X, Y 軸不顯示刻度    \n",
    "        ax.set_title(title,fontsize=12) \n",
    "        ax.set_xticks([]);ax.set_yticks([])        \n",
    "        start_id+=1 \n",
    "    plt.show()"
   ]
  },
  {
   "cell_type": "code",
   "execution_count": 27,
   "id": "5aba5030",
   "metadata": {},
   "outputs": [
    {
     "name": "stdout",
     "output_type": "stream",
     "text": [
      "Train Data shape:(60000, 28, 28)\n",
      "Test Data shape:(10000, 28, 28)\n",
      "Train Label shape:(60000,)\n",
      "Test Label shape:(10000,)\n"
     ]
    },
    {
     "data": {
      "image/png": "[encoded data removed]",
      "text/plain": [
       "<Figure size 144x144 with 1 Axes>"
      ]
     },
     "metadata": {
      "needs_background": "light"
     },
     "output_type": "display_data"
    },
    {
     "data": {
      "image/png": "[encoded data removed]",
      "text/plain": [
       "<Figure size 864x1008 with 10 Axes>"
      ]
     },
     "metadata": {},
     "output_type": "display_data"
    }
   ],
   "source": [
    "#建立訓練資料和測試資料，包括訓練特徵集、訓練標籤和測試特徵集、測試標籤\n",
    "(train_feature, train_label),(test_feature, test_label) = mnist.load_data()\n",
    "\n",
    "print(\"Train Data shape:\" + str(train_feature.shape))\n",
    "print(\"Test Data shape:\" + str(test_feature.shape))\n",
    "print(\"Train Label shape:\" + str(train_label.shape))\n",
    "print(\"Test Label shape:\" + str(test_label.shape))\n",
    "\n",
    "show_image(train_feature[0]) \n",
    "show_images_labels_predictions(train_feature,train_label,[],0,10)   "
   ]
  },
  {
   "cell_type": "code",
   "execution_count": 28,
   "id": "537a08e6",
   "metadata": {},
   "outputs": [],
   "source": [
    "#將 Features 特徵值轉換為 784個 float 數字的 1 維向量\n",
    "train_feature_vector =train_feature.reshape(len(train_feature), 784).astype('float32')\n",
    "test_feature_vector = test_feature.reshape(len( test_feature), 784).astype('float32')"
   ]
  },
  {
   "cell_type": "code",
   "execution_count": 29,
   "id": "c3950916",
   "metadata": {},
   "outputs": [],
   "source": [
    "#Features 特徵值標準化\n",
    "train_feature_normalize = train_feature_vector/255\n",
    "test_feature_normalize = test_feature_vector/255"
   ]
  },
  {
   "cell_type": "code",
   "execution_count": 30,
   "id": "c9cc389d",
   "metadata": {},
   "outputs": [],
   "source": [
    "#label 轉換為 One-Hot Encoding 編碼\n",
    "train_label_onehot = np_utils.to_categorical(train_label)\n",
    "test_label_onehot = np_utils.to_categorical(test_label)"
   ]
  },
  {
   "cell_type": "code",
   "execution_count": 31,
   "id": "85aa85ca",
   "metadata": {},
   "outputs": [
    {
     "name": "stdout",
     "output_type": "stream",
     "text": [
      "Model: \"sequential_2\"\n",
      "_________________________________________________________________\n",
      " Layer (type)                Output Shape              Param #   \n",
      "=================================================================\n",
      " dense_4 (Dense)             (None, 256)               200960    \n",
      "                                                                 \n",
      " dense_5 (Dense)             (None, 10)                2570      \n",
      "                                                                 \n",
      "=================================================================\n",
      "Total params: 203,530\n",
      "Trainable params: 203,530\n",
      "Non-trainable params: 0\n",
      "_________________________________________________________________\n"
     ]
    }
   ],
   "source": [
    "#建立模型\n",
    "model = Sequential()\n",
    "#輸入層：784, 隱藏層：256，輸出層：10\n",
    "model.add(Dense(units=256, \n",
    "                input_dim=784, \n",
    "                kernel_initializer='normal', \n",
    "                activation='relu'))\n",
    "model.add(Dense(units=10, \n",
    "                kernel_initializer='normal', \n",
    "                activation='softmax'))\n",
    "model.summary()  # 模型可視化\n",
    "#定義訓練方式\n",
    "model.compile(loss='categorical_crossentropy', \n",
    "              optimizer='adam', metrics=['accuracy'])"
   ]
  },
  {
   "cell_type": "code",
   "execution_count": 32,
   "id": "b49edeb0",
   "metadata": {},
   "outputs": [
    {
     "name": "stdout",
     "output_type": "stream",
     "text": [
      "Epoch 1/10\n",
      "240/240 - 2s - loss: 0.4359 - accuracy: 0.8855 - val_loss: 0.2141 - val_accuracy: 0.9402 - 2s/epoch - 7ms/step\n",
      "Epoch 2/10\n",
      "240/240 - 1s - loss: 0.1862 - accuracy: 0.9469 - val_loss: 0.1566 - val_accuracy: 0.9563 - 1s/epoch - 6ms/step\n",
      "Epoch 3/10\n",
      "240/240 - 2s - loss: 0.1291 - accuracy: 0.9630 - val_loss: 0.1265 - val_accuracy: 0.9625 - 2s/epoch - 6ms/step\n",
      "Epoch 4/10\n",
      "240/240 - 1s - loss: 0.0985 - accuracy: 0.9719 - val_loss: 0.1085 - val_accuracy: 0.9688 - 1s/epoch - 5ms/step\n",
      "Epoch 5/10\n",
      "240/240 - 2s - loss: 0.0785 - accuracy: 0.9784 - val_loss: 0.0997 - val_accuracy: 0.9707 - 2s/epoch - 6ms/step\n",
      "Epoch 6/10\n",
      "240/240 - 3s - loss: 0.0635 - accuracy: 0.9821 - val_loss: 0.0905 - val_accuracy: 0.9743 - 3s/epoch - 11ms/step\n",
      "Epoch 7/10\n",
      "240/240 - 2s - loss: 0.0516 - accuracy: 0.9863 - val_loss: 0.0880 - val_accuracy: 0.9744 - 2s/epoch - 6ms/step\n",
      "Epoch 8/10\n",
      "240/240 - 1s - loss: 0.0432 - accuracy: 0.9886 - val_loss: 0.0829 - val_accuracy: 0.9755 - 1s/epoch - 5ms/step\n",
      "Epoch 9/10\n",
      "240/240 - 1s - loss: 0.0356 - accuracy: 0.9907 - val_loss: 0.0822 - val_accuracy: 0.9752 - 1s/epoch - 5ms/step\n",
      "Epoch 10/10\n",
      "240/240 - 1s - loss: 0.0298 - accuracy: 0.9929 - val_loss: 0.0822 - val_accuracy: 0.9749 - 1s/epoch - 5ms/step\n"
     ]
    }
   ],
   "source": [
    "#以(train_feature_normalize,train_label_onehot)資料訓練，\n",
    "#訓練資料保留 20% 作驗證,訓練10次、每批次讀取200筆資料，顯示簡易訓練過程\n",
    "train_history =model.fit(x=train_feature_normalize,\n",
    "                         y=train_label_onehot,validation_split=0.2, \n",
    "                         epochs=10, batch_size=200,verbose=2)"
   ]
  },
  {
   "cell_type": "code",
   "execution_count": 33,
   "id": "1fe2bdc9",
   "metadata": {},
   "outputs": [
    {
     "name": "stdout",
     "output_type": "stream",
     "text": [
      "313/313 [==============================] - 1s 2ms/step - loss: 0.0757 - accuracy: 0.9772\n",
      "\n",
      "準確率= 0.9771999716758728\n"
     ]
    }
   ],
   "source": [
    "#評估準確率\n",
    "scores = model.evaluate(test_feature_normalize, test_label_onehot)\n",
    "print('\\n準確率=',scores[1])"
   ]
  },
  {
   "cell_type": "code",
   "execution_count": 34,
   "id": "d4819731",
   "metadata": {},
   "outputs": [],
   "source": [
    "#將模型儲存至 HDF5檔案中\n",
    "model.save('Mnist_mlp_model.h5')"
   ]
  }
 ],
 "metadata": {
  "kernelspec": {
   "display_name": "Python 3 (ipykernel)",
   "language": "python",
   "name": "python3"
  },
  "language_info": {
   "codemirror_mode": {
    "name": "ipython",
    "version": 3
   },
   "file_extension": ".py",
   "mimetype": "text/x-python",
   "name": "python",
   "nbconvert_exporter": "python",
   "pygments_lexer": "ipython3",
   "version": "3.8.10"
  }
 },
 "nbformat": 4,
 "nbformat_minor": 5
}

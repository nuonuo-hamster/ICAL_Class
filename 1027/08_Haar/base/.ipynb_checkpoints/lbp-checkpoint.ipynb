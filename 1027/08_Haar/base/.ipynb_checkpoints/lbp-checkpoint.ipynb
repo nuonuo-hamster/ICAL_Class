{
 "cells": [
  {
   "cell_type": "code",
   "execution_count": null,
   "metadata": {},
   "outputs": [],
   "source": [
    "import numpy as np\n",
    "import cv2 as cv\n",
    "from matplotlib import pyplot as plt"
   ]
  },
  {
   "cell_type": "code",
   "execution_count": null,
   "metadata": {},
   "outputs": [],
   "source": [
    "#dist_img=lbp(src_img)\n",
    "#dist_img:輸出影像\n",
    "#src_img:輸入影像(只接受灰階圖)\n",
    "\n",
    "\n",
    "def lbp(img):\n",
    "    assert(len(img.shape) == 2) # 只接受灰階影像\n",
    "    ret = np.zeros_like(img)\n",
    "    \n",
    "    img = cv.copyMakeBorder(img, 1, 1, 1, 1, cv.BORDER_REPLICATE)\n",
    "    \n",
    "    for y in range(1, img.shape[0] - 1):\n",
    "        for x in range(1, img.shape[1] - 1):\n",
    "            center = img[y][x]\n",
    "            pixel = 0\n",
    "            pixel |= (img[y - 1][x - 1] >= center) << 0\n",
    "            pixel |= (img[y - 1][x + 0] >= center) << 1\n",
    "            pixel |= (img[y - 1][x + 1] >= center) << 2\n",
    "            pixel |= (img[y + 0][x + 1] >= center) << 3\n",
    "            pixel |= (img[y + 1][x + 1] >= center) << 4\n",
    "            pixel |= (img[y + 1][x + 0] >= center) << 5\n",
    "            pixel |= (img[y + 1][x - 1] >= center) << 6\n",
    "            pixel |= (img[y + 0][x - 1] >= center) << 7\n",
    "            \n",
    "            ret[y-1][x-1] = pixel\n",
    "    return ret\n"
   ]
  },
  {
   "cell_type": "code",
   "execution_count": null,
   "metadata": {},
   "outputs": [],
   "source": [
    "#transparentMask(src_img)\n",
    "#src_img:輸入影像(必須為 4通道的影像)\n",
    "#--------------------------------\n",
    "#回傳:透明像素點的影像遮罩\n",
    "\n",
    "def transparentMask(src_img):\n",
    "    if src_img.shape[2]!=4:\n",
    "        return None\n",
    "    else:\n",
    "        mask = np.zeros(src_img.shape[:2], dtype=\"uint8\")\n",
    "        for i in range(0,len(src_img)):\n",
    "            for j in range(0,len(src_img[i])):\n",
    "                #print(sign_without_background_img[i][j])\n",
    "                if src_img[i][j][3]!=0:\n",
    "                    mask[i][j]=255\n",
    "        return mask"
   ]
  }
 ],
 "metadata": {
  "kernelspec": {
   "display_name": "Python 3",
   "language": "python",
   "name": "python3"
  },
  "language_info": {
   "codemirror_mode": {
    "name": "ipython",
    "version": 3
   },
   "file_extension": ".py",
   "mimetype": "text/x-python",
   "name": "python",
   "nbconvert_exporter": "python",
   "pygments_lexer": "ipython3",
   "version": "3.8.3"
  }
 },
 "nbformat": 4,
 "nbformat_minor": 4
}

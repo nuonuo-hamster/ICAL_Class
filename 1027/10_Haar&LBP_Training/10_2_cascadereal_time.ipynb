{
 "cells": [
  {
   "cell_type": "code",
   "execution_count": 1,
   "id": "d564f80e",
   "metadata": {},
   "outputs": [],
   "source": [
    "import cv2 as cv\n",
    "import matplotlib.pyplot as plt\n",
    "\n",
    "\n",
    "# Load model\n",
    "face_cascade_classifier = cv.CascadeClassifier('./assets/haarcascades/haarcascade_frontalface_default.xml')\n",
    "\n",
    "#無戴眼鏡\n",
    "#eye_cascade_classifier = cv.CascadeClassifier('./assets/haarcascades/haarcascade_eye.xml')\n",
    "\n",
    "#有戴眼鏡\n",
    "eye_cascade_classifier = cv.CascadeClassifier('./assets/haarcascades/haarcascade_eye_tree_eyeglasses.xml')\n",
    "\n",
    "\n",
    "if(face_cascade_classifier.empty() and eye_cascade_classifier.empty() ):\n",
    "    print('load haar or eye cascade classifier error')\n",
    "\n",
    "# Open a connection to the camera (0 is usually the built-in webcam)\n",
    "cap = cv.VideoCapture(0)  # Change 0 to the appropriate camera index if you have multiple cameras\n",
    "\n",
    "while True:\n",
    "    # Read a frame from the camera\n",
    "    ret, frame = cap.read()\n",
    "\n",
    "    if not ret:\n",
    "        print('Error reading frame')\n",
    "        break\n",
    "\n",
    "\n",
    "    one_people_gray = cv.cvtColor(frame, cv.COLOR_BGR2GRAY)\n",
    "    faces = face_cascade_classifier.detectMultiScale(one_people_gray, 1.1, 4)\n",
    "    \n",
    "    # Parameters for detection    \n",
    "    for (x,y,w,h) in faces:\n",
    "        cv.rectangle(frame,(x,y),(x+w,y+h),(255,0,0),2)\n",
    "        roi_gray = one_people_gray[y:y+h, x:x+w]\n",
    "        roi_color = frame[y:y+h, x:x+w]\n",
    "        eyes = eye_cascade_classifier.detectMultiScale(roi_gray)\n",
    "        for (ex,ey,ew,eh) in eyes:\n",
    "            cv.rectangle(roi_color,(ex,ey),(ex+ew,ey+eh),(0,255,0),2)\n",
    "\n",
    "    # Display the frame with detected objects\n",
    "    cv.imshow('Object Detection', frame)\n",
    "\n",
    "    # Press 'q' to exit the loop\n",
    "    if cv.waitKey(1) & 0xFF == 27:\n",
    "        break\n",
    "\n",
    "# Release the camera and close OpenCV windows\n",
    "cap.release()\n",
    "cv.destroyAllWindows()"
   ]
  },
  {
   "cell_type": "code",
   "execution_count": null,
   "id": "8204048f",
   "metadata": {},
   "outputs": [],
   "source": []
  }
 ],
 "metadata": {
  "kernelspec": {
   "display_name": "Python 3 (ipykernel)",
   "language": "python",
   "name": "python3"
  },
  "language_info": {
   "codemirror_mode": {
    "name": "ipython",
    "version": 3
   },
   "file_extension": ".py",
   "mimetype": "text/x-python",
   "name": "python",
   "nbconvert_exporter": "python",
   "pygments_lexer": "ipython3",
   "version": "3.9.13"
  }
 },
 "nbformat": 4,
 "nbformat_minor": 5
}

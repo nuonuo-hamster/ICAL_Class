{
 "cells": [
  {
   "cell_type": "markdown",
   "id": "2c94fa47",
   "metadata": {},
   "source": [
    "# 攝影機自拍影像"
   ]
  },
  {
   "cell_type": "code",
   "execution_count": 1,
   "id": "ef3a35c2",
   "metadata": {
    "scrolled": true
   },
   "outputs": [],
   "source": [
    "#載入模組\n",
    "import cv2 as cv\n",
    "import numpy as np\n",
    "\n",
    "#照相計數\n",
    "count = 1\n",
    "\n",
    "#讀取相機\n",
    "cap = cv.VideoCapture(0)\n",
    "\n",
    "# 設定擷取影像的尺寸大小\n",
    "cap.set(cv.CAP_PROP_FRAME_WIDTH, 144)\n",
    "cap.set(cv.CAP_PROP_FRAME_HEIGHT, 144)\n",
    "\n",
    "\n",
    "while(True):\n",
    "    \n",
    "    # 讀取攝影機影像\n",
    "    # 函式輸出入 => 是否正常讀取, 攝影機影像 = cv.VideoCapture.read()\n",
    "    ret, frame = cap.read()\n",
    "\n",
    "    #顯示影像\n",
    "    cv.imshow('frame', frame)\n",
    "    key = cv.waitKey(90)\n",
    "    \n",
    "    #按C擷取影像\n",
    "    if key == 99:\n",
    "        print(count)\n",
    "        cv.imwrite('./assets/database_selfie/' + str(count) + '.jpg', frame)\n",
    "        count+=1\n",
    "        continue\n",
    "        \n",
    "    #按ESC退出\n",
    "    if key == 27:\n",
    "        break\n",
    "        \n",
    "\n",
    "\n",
    "cap.release()\n",
    "cv.destroyAllWindows()"
   ]
  },
  {
   "cell_type": "code",
   "execution_count": null,
   "id": "ac6d818b",
   "metadata": {},
   "outputs": [],
   "source": []
  }
 ],
 "metadata": {
  "kernelspec": {
   "display_name": "Python 3 (ipykernel)",
   "language": "python",
   "name": "python3"
  },
  "language_info": {
   "codemirror_mode": {
    "name": "ipython",
    "version": 3
   },
   "file_extension": ".py",
   "mimetype": "text/x-python",
   "name": "python",
   "nbconvert_exporter": "python",
   "pygments_lexer": "ipython3",
   "version": "3.9.13"
  }
 },
 "nbformat": 4,
 "nbformat_minor": 5
}

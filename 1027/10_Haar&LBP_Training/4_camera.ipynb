{
 "cells": [
  {
   "cell_type": "markdown",
   "id": "f8f28c0c",
   "metadata": {},
   "source": [
    "### 自行拍一張照片"
   ]
  },
  {
   "cell_type": "code",
   "execution_count": 1,
   "id": "1515a49b",
   "metadata": {},
   "outputs": [],
   "source": [
    "#載入模組\n",
    "import cv2 as cv\n",
    "import numpy as np\n",
    "from skimage.feature import local_binary_pattern\n",
    "from skimage import data, filters\n",
    "\n",
    "radius = 3\n",
    "n_points = 8 * radius\n",
    "\n",
    "\n",
    "## 開啟攝影機\n",
    "# 函式輸出入 => 攝影機 = cv.VideoCapture(攝影機編號)\n",
    "cap = cv.VideoCapture(0)\n",
    "\n",
    "# 設定擷取影像的尺寸大小\n",
    "cap.set(cv.CAP_PROP_FRAME_WIDTH, 320)\n",
    "cap.set(cv.CAP_PROP_FRAME_HEIGHT, 240)\n",
    "\n",
    "while(True):\n",
    "    \n",
    "    # 讀取攝影機影像\n",
    "    # 函式輸出入 => 是否正常讀取, 攝影機影像 = cv.VideoCapture.read()\n",
    "    ret, frame = cap.read()\n",
    "     \n",
    "    #gray\n",
    "    gray_img = cv.cvtColor(frame, cv.COLOR_BGR2GRAY)\n",
    "    #HSV\n",
    "    hsv_img = cv.cvtColor(frame, cv.COLOR_BGR2HSV)\n",
    "    #edge\n",
    "    canny_img = cv.Canny(gray_img, 50, 150)\n",
    "    #LBP\n",
    "    lbp_img = local_binary_pattern(gray_img, n_points, radius)\n",
    "    \n",
    "\n",
    "    #顯示影像\n",
    "    cv.imshow('gry_img', gray_img)\n",
    "    cv.imshow('img_hsv', hsv_img)\n",
    "    cv.imshow('canny_img', canny_img)\n",
    "    cv.imshow('lbp_img', lbp_img)\n",
    "    \n",
    "    \n",
    "    key = cv.waitKey(90)  \n",
    "    # 若按下ESC鍵則離開迴圈\n",
    "    if key == 27:\n",
    "        break\n",
    "        \n",
    "\n",
    "\n",
    "cap.release()\n",
    "cv.destroyAllWindows()"
   ]
  },
  {
   "cell_type": "code",
   "execution_count": null,
   "id": "4194a03d",
   "metadata": {},
   "outputs": [],
   "source": []
  }
 ],
 "metadata": {
  "kernelspec": {
   "display_name": "Python 3 (ipykernel)",
   "language": "python",
   "name": "python3"
  },
  "language_info": {
   "codemirror_mode": {
    "name": "ipython",
    "version": 3
   },
   "file_extension": ".py",
   "mimetype": "text/x-python",
   "name": "python",
   "nbconvert_exporter": "python",
   "pygments_lexer": "ipython3",
   "version": "3.9.13"
  },
  "vscode": {
   "interpreter": {
    "hash": "0661ced1479b554591b1d068660aa297d498679286224412137f5b40f78aabd9"
   }
  }
 },
 "nbformat": 4,
 "nbformat_minor": 5
}

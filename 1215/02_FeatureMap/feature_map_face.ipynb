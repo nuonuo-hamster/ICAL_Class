{
 "cells": [
  {
   "cell_type": "code",
   "execution_count": 15,
   "metadata": {},
   "outputs": [
    {
     "name": "stdout",
     "output_type": "stream",
     "text": [
      "Load dataset: Face\\pos\n",
      "(40, 112, 92, 3)\n",
      "(10, 112, 92, 3)\n"
     ]
    }
   ],
   "source": [
    "from rcnn.load_data import rcnn_format\n",
    "\n",
    "(train_x, train_y), (test_x, test_y) = rcnn_format('Face', (92, 112, 3))  #彩色時(寬,高,cheanl)\n",
    "\n",
    "print(train_x.shape)\n",
    "print(test_x.shape)"
   ]
  },
  {
   "cell_type": "code",
   "execution_count": 16,
   "metadata": {},
   "outputs": [],
   "source": [
    "import tensorflow as tf\n",
    "import tensorflow.keras as keras\n",
    "from tensorflow.keras.callbacks import TensorBoard\n",
    "from tensorflow.keras.models import Sequential, load_model, Model\n",
    "from tensorflow.keras.layers import Dense, Conv2D, MaxPool2D, Flatten\n",
    "import numpy as np"
   ]
  },
  {
   "cell_type": "code",
   "execution_count": 17,
   "metadata": {},
   "outputs": [],
   "source": [
    "#自訂網路架構\n",
    "model = Sequential()\n",
    "\n",
    "model.add(Conv2D(filters=8, kernel_size=(5, 5), padding='same', activation='relu', input_shape=(112, 92, 3))) #彩色時(高,寬,cheanl)\n",
    "model.add(MaxPool2D(pool_size=(2, 2)))\n",
    "\n",
    "model.add(Conv2D(filters=8, kernel_size=(3, 3), padding='same', activation='relu'))\n",
    "model.add(MaxPool2D(pool_size=(2, 2)))\n",
    "\n",
    "model.add(Conv2D(filters=8, kernel_size=(3, 3), padding='same', activation='relu'))\n",
    "model.add(MaxPool2D(pool_size=(2, 2)))\n",
    "\n",
    "#model.add(Conv2D(filters=8, kernel_size=(3, 3), padding='same', activation='relu'))\n",
    "#model.add(MaxPool2D(pool_size=(2, 2)))\n",
    "\n",
    "model.add(Flatten())\n",
    "model.add(Dense(128, activation='relu'))"
   ]
  },
  {
   "cell_type": "code",
   "execution_count": 18,
   "metadata": {
    "scrolled": false
   },
   "outputs": [
    {
     "name": "stdout",
     "output_type": "stream",
     "text": [
      "Model: \"sequential_1\"\n",
      "_________________________________________________________________\n",
      " Layer (type)                Output Shape              Param #   \n",
      "=================================================================\n",
      " conv2d_3 (Conv2D)           (None, 112, 92, 8)        608       \n",
      "                                                                 \n",
      " max_pooling2d_3 (MaxPooling  (None, 56, 46, 8)        0         \n",
      " 2D)                                                             \n",
      "                                                                 \n",
      " conv2d_4 (Conv2D)           (None, 56, 46, 8)         584       \n",
      "                                                                 \n",
      " max_pooling2d_4 (MaxPooling  (None, 28, 23, 8)        0         \n",
      " 2D)                                                             \n",
      "                                                                 \n",
      " conv2d_5 (Conv2D)           (None, 28, 23, 8)         584       \n",
      "                                                                 \n",
      " max_pooling2d_5 (MaxPooling  (None, 14, 11, 8)        0         \n",
      " 2D)                                                             \n",
      "                                                                 \n",
      " flatten_1 (Flatten)         (None, 1232)              0         \n",
      "                                                                 \n",
      " dense_1 (Dense)             (None, 128)               157824    \n",
      "                                                                 \n",
      "=================================================================\n",
      "Total params: 159,600\n",
      "Trainable params: 159,600\n",
      "Non-trainable params: 0\n",
      "_________________________________________________________________\n"
     ]
    }
   ],
   "source": [
    "model.summary()\n",
    "\n",
    "# 卷積層 Param =（卷積核長度 *卷積核寬度 *通道數 +1）*卷積核個數\n",
    "# 全連接層 Param = （輸入數據維度+1）* 神經元個數\n",
    "# 加1是考慮到每個神經元都有一個 Bias"
   ]
  },
  {
   "cell_type": "code",
   "execution_count": 19,
   "metadata": {},
   "outputs": [
    {
     "name": "stdout",
     "output_type": "stream",
     "text": [
      "KerasTensor(type_spec=TensorSpec(shape=(None, 112, 92, 3), dtype=tf.float32, name='conv2d_3_input'), name='conv2d_3_input', description=\"created by layer 'conv2d_3_input'\")\n",
      "KerasTensor(type_spec=TensorSpec(shape=(None, 56, 46, 8), dtype=tf.float32, name=None), name='max_pooling2d_3/MaxPool:0', description=\"created by layer 'max_pooling2d_3'\")\n",
      "KerasTensor(type_spec=TensorSpec(shape=(None, 28, 23, 8), dtype=tf.float32, name=None), name='max_pooling2d_4/MaxPool:0', description=\"created by layer 'max_pooling2d_4'\")\n",
      "KerasTensor(type_spec=TensorSpec(shape=(None, 14, 11, 8), dtype=tf.float32, name=None), name='max_pooling2d_5/MaxPool:0', description=\"created by layer 'max_pooling2d_5'\")\n"
     ]
    }
   ],
   "source": [
    "model_layers = [Model(inputs=model.layers[0].input, outputs=model.layers[0].output),\n",
    "                Model(inputs=model.layers[0].input, outputs=model.layers[1].output),\n",
    "                Model(inputs=model.layers[0].input, outputs=model.layers[3].output),\n",
    "                Model(inputs=model.layers[0].input, outputs=model.layers[5].output),\n",
    "                #Model(inputs=model.layers[0].input, outputs=model.layers[7].output),\n",
    "               ]\n",
    "print(model.layers[0].input)\n",
    "print(model.layers[1].output)\n",
    "print(model.layers[3].output)\n",
    "print(model.layers[5].output)\n",
    "#print(model.layers[7].output)"
   ]
  },
  {
   "cell_type": "code",
   "execution_count": 20,
   "metadata": {},
   "outputs": [],
   "source": [
    "%matplotlib inline\n",
    "from ipywidgets import interact\n",
    "import matplotlib.pyplot as plt\n",
    "from matplotlib import patches\n",
    "\n",
    "def interact_result(data):\n",
    "    preds = []\n",
    "    for model_layer in model_layers:\n",
    "        preds.append(model_layer.predict(data))\n",
    "    \n",
    "    def view_image(i):\n",
    "        # 層數要改\n",
    "        fig, axes = plt.subplots(4, 8, figsize = (25, 25)) \n",
    "        fig.subplots_adjust(hspace=0.01, wspace=0.4)\n",
    "        for l, pred in enumerate(preds):  \n",
    "            print(pred.shape)\n",
    "            for n in range(pred[i].shape[2]):\n",
    "                axes[l,n].imshow(pred[i][:,:,n] * 255)\n",
    "        \n",
    "    interact(view_image, i=(0, data.shape[0]-1))"
   ]
  },
  {
   "cell_type": "code",
   "execution_count": 21,
   "metadata": {},
   "outputs": [
    {
     "name": "stdout",
     "output_type": "stream",
     "text": [
      "1/1 [==============================] - 0s 235ms/step\n",
      "1/1 [==============================] - 0s 124ms/step\n",
      "1/1 [==============================] - 0s 127ms/step\n",
      "WARNING:tensorflow:5 out of the last 33 calls to <function Model.make_predict_function.<locals>.predict_function at 0x0000022DA087B310> triggered tf.function retracing. Tracing is expensive and the excessive number of tracings could be due to (1) creating @tf.function repeatedly in a loop, (2) passing tensors with different shapes, (3) passing Python objects instead of tensors. For (1), please define your @tf.function outside of the loop. For (2), @tf.function has reduce_retracing=True option that can avoid unnecessary retracing. For (3), please refer to https://www.tensorflow.org/guide/function#controlling_retracing and https://www.tensorflow.org/api_docs/python/tf/function for  more details.\n",
      "1/1 [==============================] - 0s 130ms/step\n"
     ]
    },
    {
     "data": {
      "application/vnd.jupyter.widget-view+json": {
       "model_id": "455ad397bcd149dbbb05b142d2f74f29",
       "version_major": 2,
       "version_minor": 0
      },
      "text/plain": [
       "interactive(children=(IntSlider(value=4, description='i', max=9), Output()), _dom_classes=('widget-interact',)…"
      ]
     },
     "metadata": {},
     "output_type": "display_data"
    }
   ],
   "source": [
    "interact_result(test_x)"
   ]
  },
  {
   "cell_type": "code",
   "execution_count": 22,
   "metadata": {},
   "outputs": [
    {
     "name": "stdout",
     "output_type": "stream",
     "text": [
      "2/2 [==============================] - 0s 39ms/step\n",
      "2/2 [==============================] - 0s 21ms/step\n",
      "2/2 [==============================] - 0s 23ms/step\n",
      "2/2 [==============================] - 0s 15ms/step\n"
     ]
    },
    {
     "data": {
      "application/vnd.jupyter.widget-view+json": {
       "model_id": "a25075ee0f0d4008801becee92785a65",
       "version_major": 2,
       "version_minor": 0
      },
      "text/plain": [
       "interactive(children=(IntSlider(value=19, description='i', max=39), Output()), _dom_classes=('widget-interact'…"
      ]
     },
     "metadata": {},
     "output_type": "display_data"
    }
   ],
   "source": [
    "interact_result(train_x)"
   ]
  },
  {
   "cell_type": "code",
   "execution_count": null,
   "metadata": {},
   "outputs": [],
   "source": []
  }
 ],
 "metadata": {
  "kernelspec": {
   "display_name": "Python 3 (ipykernel)",
   "language": "python",
   "name": "python3"
  },
  "language_info": {
   "codemirror_mode": {
    "name": "ipython",
    "version": 3
   },
   "file_extension": ".py",
   "mimetype": "text/x-python",
   "name": "python",
   "nbconvert_exporter": "python",
   "pygments_lexer": "ipython3",
   "version": "3.8.10"
  }
 },
 "nbformat": 4,
 "nbformat_minor": 2
}

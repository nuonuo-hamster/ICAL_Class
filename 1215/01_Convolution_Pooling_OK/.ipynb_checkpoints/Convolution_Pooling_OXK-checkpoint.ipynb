{
 "cells": [
  {
   "cell_type": "code",
   "execution_count": 256,
   "id": "3b546e52",
   "metadata": {
    "scrolled": true
   },
   "outputs": [
    {
     "data": {
      "image/png": "[encoded data removed]",
      "text/plain": [
       "<Figure size 360x360 with 1 Axes>"
      ]
     },
     "metadata": {
      "needs_background": "light"
     },
     "output_type": "display_data"
    }
   ],
   "source": [
    "import tensorflow as tf\n",
    "import numpy as np\n",
    "\n",
    "from matplotlib import pyplot as plt\n",
    "from tensorflow.keras.preprocessing.image import load_img, img_to_array\n",
    "from tensorflow.keras.backend import expand_dims\n",
    "\n",
    "img = img_to_array(load_img(\"X.png\")) / 255\n",
    "img = expand_dims(img, 0)\n",
    "\n",
    "#print(img.shape)\n",
    "fig = plt.figure(figsize=(5, 5))\n",
    "plt.imshow(img[0])\n",
    "plt.show()"
   ]
  },
  {
   "cell_type": "markdown",
   "id": "facae0c1",
   "metadata": {},
   "source": [
    "## Kernel 調整\n",
    "### Γ\n",
    "                    [5, 5, -1],\n",
    "                    [5, -1, -1],\n",
    "                    [-1, -1, -1]\n",
    "### ∟\n",
    "                    [-1, -1, -1],\n",
    "                    [5, -1, -1],\n",
    "                    [5, 5, -1]\n",
    "### /                \n",
    "                    [-1, -1, 5],\n",
    "                    [-1, 5, -1],\n",
    "                    [5, -1, -1]\n",
    "### \\\n",
    "                    [5, -1, -1],\n",
    "                    [-1, 5, -1],\n",
    "                    [-1, -1, 5]\n",
    "### ｜\n",
    "                    [5, -1, -1],\n",
    "                    [5, -1, -1],\n",
    "                    [5, -1, -1]\n",
    "### 銳利化                    \n",
    "                    [0, -1, 0],\n",
    "                    [-1, 5, -1],\n",
    "                    [0, -1, 0]"
   ]
  },
  {
   "cell_type": "code",
   "execution_count": 257,
   "id": "de70a22a",
   "metadata": {},
   "outputs": [
    {
     "name": "stderr",
     "output_type": "stream",
     "text": [
      "Clipping input data to the valid range for imshow with RGB data ([0..1] for floats or [0..255] for integers).\n"
     ]
    },
    {
     "data": {
      "image/png": "[encoded data removed]",
      "text/plain": [
       "<Figure size 360x360 with 1 Axes>"
      ]
     },
     "metadata": {
      "needs_background": "light"
     },
     "output_type": "display_data"
    }
   ],
   "source": [
    "\"\"\"\n",
    "  Convolution\n",
    "  https://www.tensorflow.org/api_docs/python/tf/nn/conv2d\n",
    "\"\"\"\n",
    "\n",
    "# Kernel Format: out_channels, in_channels, filter_height, filter_width\n",
    "# (Good for design)\n",
    "kernel = np.array(\n",
    "    [\n",
    "        [\n",
    "            [\n",
    "                [0, -1, 0],\n",
    "                [-1, 5, -1],\n",
    "                [0, -1, 0]\n",
    "            ],\n",
    "            [\n",
    "                [0, 0, 0],\n",
    "                [0, 0, 0],\n",
    "                [0, 0, 0]\n",
    "            ],\n",
    "            [\n",
    "                [0, 0, 0],\n",
    "                [0, 0, 0],\n",
    "                [0, 0, 0]\n",
    "            ]\n",
    "        ],\n",
    "        [\n",
    "            [\n",
    "                [0, 0, 0],\n",
    "                [0, 0, 0],\n",
    "                [0, 0, 0]\n",
    "            ],\n",
    "            [\n",
    "                [0, -1, 0],\n",
    "                [-1, 5, -1],\n",
    "                [0, -1, 0]\n",
    "            ],\n",
    "            [\n",
    "                [0, 0, 0],\n",
    "                [0, 0, 0],\n",
    "                [0, 0, 0]\n",
    "            ]\n",
    "        ],\n",
    "        [\n",
    "            [\n",
    "                [0, 0, 0],\n",
    "                [0, 0, 0],\n",
    "                [0, 0, 0]\n",
    "            ],\n",
    "            [\n",
    "                [0, 0, 0],\n",
    "                [0, 0, 0],\n",
    "                [0, 0, 0]\n",
    "            ],\n",
    "            [\n",
    "                [0, -1, 0],\n",
    "                [-1, 5, -1],\n",
    "                [0, -1, 0]\n",
    "            ]\n",
    "        ]\n",
    "    ]\n",
    ")\n",
    "\n",
    "# Rearange to: filter_height, filter_width, in_channels, output_channels\n",
    "kernel = kernel.transpose(2, 3, 1, 0)\n",
    "\n",
    "out = tf.nn.conv2d(img, kernel, strides=[1, 1, 1, 1], padding='VALID')\n",
    "\n",
    "fig = plt.figure(figsize=(5, 5))\n",
    "plt.imshow(out[0])\n",
    "plt.show()"
   ]
  },
  {
   "cell_type": "code",
   "execution_count": 258,
   "id": "6a49fbe2",
   "metadata": {},
   "outputs": [
    {
     "data": {
      "image/png": "[encoded data removed]",
      "text/plain": [
       "<Figure size 360x360 with 1 Axes>"
      ]
     },
     "metadata": {
      "needs_background": "light"
     },
     "output_type": "display_data"
    }
   ],
   "source": [
    "\"\"\"\n",
    "  Average Pooling 2D\n",
    "  https://www.tensorflow.org/api_docs/python/tf/nn/avg_pool2d\n",
    "\"\"\"\n",
    "avgout = tf.nn.avg_pool2d(img, ksize=2, strides=1, padding='VALID')\n",
    "\n",
    "fig = plt.figure(figsize=(5, 5))\n",
    "plt.imshow(avgout[0])\n",
    "plt.show()\n",
    "\n",
    "#img => out  疊加看看"
   ]
  },
  {
   "cell_type": "code",
   "execution_count": 259,
   "id": "d828086d",
   "metadata": {},
   "outputs": [
    {
     "data": {
      "image/png": "[encoded data removed]",
      "text/plain": [
       "<Figure size 360x360 with 1 Axes>"
      ]
     },
     "metadata": {
      "needs_background": "light"
     },
     "output_type": "display_data"
    }
   ],
   "source": [
    "\"\"\"\n",
    "  Max Pooling 2D\n",
    "  https://www.tensorflow.org/api_docs/python/tf/nn/max_pool2d\n",
    "\"\"\"\n",
    "maxout = tf.nn.max_pool2d(img, ksize=2, strides=1, padding='VALID')\n",
    "\n",
    "fig = plt.figure(figsize=(5, 5))\n",
    "plt.imshow(maxout[0])\n",
    "plt.show()\n",
    "\n",
    "#img => out  疊加看看"
   ]
  },
  {
   "cell_type": "code",
   "execution_count": null,
   "id": "451c4f8c",
   "metadata": {},
   "outputs": [],
   "source": []
  }
 ],
 "metadata": {
  "kernelspec": {
   "display_name": "Python 3 (ipykernel)",
   "language": "python",
   "name": "python3"
  },
  "language_info": {
   "codemirror_mode": {
    "name": "ipython",
    "version": 3
   },
   "file_extension": ".py",
   "mimetype": "text/x-python",
   "name": "python",
   "nbconvert_exporter": "python",
   "pygments_lexer": "ipython3",
   "version": "3.8.10"
  }
 },
 "nbformat": 4,
 "nbformat_minor": 5
}

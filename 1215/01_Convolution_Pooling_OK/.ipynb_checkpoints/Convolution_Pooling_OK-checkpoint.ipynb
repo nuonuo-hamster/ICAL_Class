{
 "cells": [
  {
   "cell_type": "code",
   "execution_count": 35,
   "id": "3b546e52",
   "metadata": {
    "scrolled": false
   },
   "outputs": [
    {
     "data": {
      "image/png": "[encoded data removed]",
      "text/plain": [
       "<Figure size 360x360 with 1 Axes>"
      ]
     },
     "metadata": {
      "needs_background": "light"
     },
     "output_type": "display_data"
    }
   ],
   "source": [
    "import tensorflow as tf\n",
    "import numpy as np\n",
    "import cv2 as cv\n",
    "from matplotlib import pyplot as plt\n",
    "from tensorflow.keras.preprocessing.image import load_img, img_to_array\n",
    "from tensorflow.keras.backend import expand_dims\n",
    "\n",
    "img = cv.imread(\"O.png\", 0)\n",
    "#img = cv.imread(\"K.png\", 0)\n",
    "img = img_to_array(img) / 255\n",
    "img = expand_dims(img, 0)\n",
    "\n",
    "#print(img.shape)\n",
    "fig = plt.figure(figsize=(5, 5))\n",
    "plt.imshow(img[0], cmap = 'gray')\n",
    "plt.show()"
   ]
  },
  {
   "cell_type": "markdown",
   "id": "1306d557",
   "metadata": {},
   "source": [
    "## 可更改參數：Kernel 大小、特徵\n",
    "### 1. Γ特徵\n",
    "#### 3*3\n",
    "                    [5, 5, 5],\n",
    "                    [5, -1, -1],\n",
    "                    [5, -1, -1]\n",
    "#### 5*5                    \n",
    "                    [5, 5, 5, 5, 5],\n",
    "                    [5, -1, -1, -1, -1],\n",
    "                    [5, -1, -1, -1, -1],\n",
    "                    [5, -1, -1, -1, -1],\n",
    "                    [5, -1, -1, -1, -1]\n",
    "                    \n",
    "                    \n",
    "### 2. ∟特徵\n",
    "#### 3*3\n",
    "                    [5, -1, -1],\n",
    "                    [5, -1, -1],\n",
    "                    [5, 5, 5]\n",
    "#### 5*5                     \n",
    "                    [5, -1, -1, -1, -1],\n",
    "                    [5, -1, -1, -1, -1],\n",
    "                    [5, -1, -1, -1, -1],\n",
    "                    [5, -1, -1, -1, -1],\n",
    "                    [5, 5, 5, 5, 5]\n",
    "### 3. /特徵\n",
    "#### 3*3\n",
    "                    [-1, -1, 5],\n",
    "                    [-1, 5, -1],\n",
    "                    [5, -1, -1]\n",
    "#### 5*5                     \n",
    "                    [-1, -1, -1, -1, 5],\n",
    "                    [-1, -1, -1, 5, -1],\n",
    "                    [-1, -1, 5, -1, -1],\n",
    "                    [-1, 5, -1, -1, -1],\n",
    "                    [5, -1, -1, -1, -1]                    \n",
    "### 4. \\特徵\n",
    "#### 3*3\n",
    "                    [5, -1, -1],\n",
    "                    [-1, 5, -1],\n",
    "                    [-1, -1, 5]\n",
    "#### 5*5                     \n",
    "                    [5, -1, -1, -1, -1],\n",
    "                    [-1, 5, -1, -1, -1],\n",
    "                    [-1, -1, 5, -1, -1],\n",
    "                    [-1, -1, -1, 5, -1],\n",
    "                    [-1, -1, -1, -1, 5]                   \n",
    "### 5. ｜特徵\n",
    "#### 3*3\n",
    "                    [5, -1, -1],\n",
    "                    [5, -1, -1],\n",
    "                    [5, -1, -1]\n",
    "#### 5*5                     \n",
    "                    [5, -1, -1, -1, -1],\n",
    "                    [5, -1, -1, -1, -1],\n",
    "                    [5, -1, -1, -1, -1],\n",
    "                    [5, -1, -1, -1, -1],\n",
    "                    [5, -1, -1, -1, -1]                    \n",
    "### 6. O特徵\n",
    "#### 3*3\n",
    "                    [5, 5, 5],\n",
    "                    [5, -1, 5],\n",
    "                    [5, 5, 5]\n",
    "#### 5*5                     \n",
    "                    [5, 5, 5, 5, 5],\n",
    "                    [5, -1, -1, -1, 5],\n",
    "                    [5, -1, -1, -1, 5],\n",
    "                    [5, -1, -1, -1, 5],\n",
    "                    [5, 5, 5, 5, 5]                    \n",
    "### 7. K特徵\n",
    "#### 3*3\n",
    "                    [5, -1, 5],\n",
    "                    [5, 5, -1],\n",
    "                    [5, -1, 5]\n",
    "#### 5*5                     \n",
    "                    [5, -1, -1, -1, 5],\n",
    "                    [5, -1, -1, 5, -1],\n",
    "                    [5, 5, 5, -1, -1],\n",
    "                    [5, -1, -1, 5, -1],\n",
    "                    [5, -1, -1, -1, 5]                    \n",
    "### 8. 銳利化特徵\n",
    "#### 3*3\n",
    "                    [0, -1, 0],\n",
    "                    [-1, 5, -1],\n",
    "                    [0, -1, 0]\n",
    "#### 5*5                     \n",
    "                    [0, 0, -1, 0, 0],\n",
    "                    [0, 0, -1, 0, 0],\n",
    "                    [-1, -1, 5, -1, -1],\n",
    "                    [0, 0, -1, 0, 0],\n",
    "                    [0, 0, -1, 0, 0]                    "
   ]
  },
  {
   "cell_type": "code",
   "execution_count": 39,
   "id": "59ebbb65",
   "metadata": {},
   "outputs": [
    {
     "data": {
      "image/png": "[encoded data removed]",
      "text/plain": [
       "<Figure size 360x360 with 1 Axes>"
      ]
     },
     "metadata": {
      "needs_background": "light"
     },
     "output_type": "display_data"
    }
   ],
   "source": [
    "\"\"\"\n",
    "  Convolution\n",
    "  https://www.tensorflow.org/api_docs/python/tf/nn/conv2d\n",
    "\"\"\"\n",
    "\n",
    "# Kernel Format: out_channels, in_channels, filter_height, filter_width\n",
    "# (Good for design)\n",
    "kernel = np.array([\n",
    "                [5, 5, 5],\n",
    "                [5, -1, -1],\n",
    "                [5, -1, -1]\n",
    "])\n",
    "\n",
    "# Rearange to: filter_height, filter_width, in_channels, output_channels\n",
    "kernel = kernel.reshape((3, 3, 1, 1))\n",
    "\n",
    "out = tf.nn.conv2d(img, kernel, strides=[1, 1, 1, 1], padding='VALID')\n",
    "\n",
    "fig = plt.figure(figsize=(5, 5))\n",
    "plt.imshow(out[0], cmap = 'gray')\n",
    "plt.show()"
   ]
  },
  {
   "cell_type": "markdown",
   "id": "56f270cc",
   "metadata": {},
   "source": [
    "## 可更改參數\n",
    "### 1.ksize：kernel size可改為3,5,7\n",
    "### 2.stride：移動步長\n",
    "### 3.padding：’valid’為不填充；’same’為填充"
   ]
  },
  {
   "cell_type": "code",
   "execution_count": 40,
   "id": "fc9ad914",
   "metadata": {
    "scrolled": false
   },
   "outputs": [
    {
     "data": {
      "image/png": "[encoded data removed]",
      "text/plain": [
       "<Figure size 360x360 with 1 Axes>"
      ]
     },
     "metadata": {
      "needs_background": "light"
     },
     "output_type": "display_data"
    }
   ],
   "source": [
    "\"\"\"\n",
    "  Average Pooling 2D\n",
    "  https://www.tensorflow.org/api_docs/python/tf/nn/avg_pool2d\n",
    "\"\"\"\n",
    "avgout = tf.nn.avg_pool2d(out, ksize=3, strides=1, padding='VALID')\n",
    "\n",
    "fig = plt.figure(figsize=(5, 5))\n",
    "plt.imshow(avgout[0], cmap = 'gray')\n",
    "plt.show()\n",
    "\n",
    "#img => out  疊加看看"
   ]
  },
  {
   "cell_type": "code",
   "execution_count": 41,
   "id": "d2e42a0d",
   "metadata": {
    "scrolled": true
   },
   "outputs": [
    {
     "data": {
      "image/png": "[encoded data removed]",
      "text/plain": [
       "<Figure size 360x360 with 1 Axes>"
      ]
     },
     "metadata": {
      "needs_background": "light"
     },
     "output_type": "display_data"
    }
   ],
   "source": [
    "\"\"\"\n",
    "  Max Pooling 2D\n",
    "  https://www.tensorflow.org/api_docs/python/tf/nn/max_pool2d\n",
    "\"\"\"\n",
    "maxout = tf.nn.max_pool2d(out, ksize=3, strides=1, padding='VALID')\n",
    "\n",
    "fig = plt.figure(figsize=(5, 5))\n",
    "plt.imshow(maxout[0], cmap = 'gray')\n",
    "plt.show()\n",
    "\n",
    "#img => out  疊加看看"
   ]
  },
  {
   "cell_type": "code",
   "execution_count": null,
   "id": "fcf38d73",
   "metadata": {},
   "outputs": [],
   "source": []
  }
 ],
 "metadata": {
  "kernelspec": {
   "display_name": "Python 3 (ipykernel)",
   "language": "python",
   "name": "python3"
  },
  "language_info": {
   "codemirror_mode": {
    "name": "ipython",
    "version": 3
   },
   "file_extension": ".py",
   "mimetype": "text/x-python",
   "name": "python",
   "nbconvert_exporter": "python",
   "pygments_lexer": "ipython3",
   "version": "3.8.10"
  }
 },
 "nbformat": 4,
 "nbformat_minor": 5
}
